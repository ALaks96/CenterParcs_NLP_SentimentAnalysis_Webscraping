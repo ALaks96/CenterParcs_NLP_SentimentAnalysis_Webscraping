{
 "cells": [
  {
   "cell_type": "markdown",
   "metadata": {},
   "source": [
    "# Making all necessary imports"
   ]
  },
  {
   "cell_type": "code",
   "execution_count": 1,
   "metadata": {},
   "outputs": [
    {
     "name": "stderr",
     "output_type": "stream",
     "text": [
      "[nltk_data] Downloading package punkt to /Users/laks/nltk_data...\n",
      "[nltk_data]   Package punkt is already up-to-date!\n",
      "[nltk_data] Downloading package wordnet to /Users/laks/nltk_data...\n",
      "[nltk_data]   Package wordnet is already up-to-date!\n"
     ]
    }
   ],
   "source": [
    "import json\n",
    "import re\n",
    "from string import punctuation\n",
    "from stopwords import french_stopwords, english_stopwords\n",
    "import pandas as pd\n",
    "from textblob import TextBlob\n",
    "import gensim\n",
    "from gensim import corpora\n",
    "\n",
    "import nltk\n",
    "from nltk.tokenize import word_tokenize\n",
    "from nltk.corpus import stopwords\n",
    "from nltk.stem.snowball import SnowballStemmer\n",
    "from nltk.stem.wordnet import WordNetLemmatizer\n",
    "nltk.download('punkt')\n",
    "nltk.download('wordnet')\n",
    "\n",
    "import warnings\n",
    "warnings.filterwarnings('ignore')"
   ]
  },
  {
   "cell_type": "markdown",
   "metadata": {},
   "source": [
    "# Loading data"
   ]
  },
  {
   "cell_type": "code",
   "execution_count": 2,
   "metadata": {},
   "outputs": [],
   "source": [
    "with open(\"full2.json\", \"r\") as read_file:\n",
    "    data = json.load(read_file)"
   ]
  },
  {
   "cell_type": "markdown",
   "metadata": {},
   "source": [
    "# Functions for text processing"
   ]
  },
  {
   "cell_type": "code",
   "execution_count": 3,
   "metadata": {},
   "outputs": [],
   "source": [
    "def character_replacement(input_string):\n",
    "    character_mapping = {\"\\\\u00e9\": \"é\",\n",
    "                        \"\\\\u2019\": \"'\",\n",
    "                        \"\\\\\": \"\",\n",
    "                        \"\\\\u00fb\": \"û\",\n",
    "                        \"u00e8\": \"è\",\n",
    "                        \"u00e0\": \"à\",\n",
    "                        \"u00f4\": \"ô\",\n",
    "                        \"u00ea\": \"ê\",\n",
    "                        \"u00ee\": \"i\",\n",
    "                        \"u00fb\": \"û\",\n",
    "                        \"u2018\": \"'\",\n",
    "                        \"u00e2\": \"a\",\n",
    "                        \"u00ab\": \"'\",\n",
    "                        \"u00bb\": \"'\",\n",
    "                        \"u00e7\": \"ç\",\n",
    "                        \"u00e2\": \"â\",\n",
    "                        \"u00f9\": \"ù\",\n",
    "                        \"u00a3\": \"£\",\n",
    "                        }\n",
    "    for character in character_mapping:\n",
    "        input_string = input_string.replace(character, character_mapping[character])\n",
    "\n",
    "    input_string = input_string.lower()\n",
    "\n",
    "    characters_to_remove = [\"@\", \"/\", \"#\", \".\", \",\", \"!\", \"?\", \"(\", \")\", \"-\", \"_\", \"’\", \"'\", \"\\\"\", \":\", \"1\", \"2\", \"3\", \"4\", \"5\", \"6\", \"7\", \"8\", \"9\", \"0\"]\n",
    "    transformation_dict = {initial: \" \" for initial in characters_to_remove}\n",
    "    no_punctuation_reviews = input_string.translate(str.maketrans(transformation_dict))\n",
    "\n",
    "    return no_punctuation_reviews\n",
    "\n",
    "def tokenize(input_string):\n",
    "    return word_tokenize(input_string)\n",
    "\n",
    "def remove_stop_words_french(input_tokens):\n",
    "    return [token for token in input_tokens if token not in french_stopwords]\n",
    "\n",
    "def remove_stop_words_english(input_tokens):\n",
    "    return [token for token in input_tokens if token not in english_stopwords]"
   ]
  },
  {
   "cell_type": "markdown",
   "metadata": {},
   "source": [
    "# Inflected languages"
   ]
  },
  {
   "cell_type": "code",
   "execution_count": 4,
   "metadata": {},
   "outputs": [],
   "source": [
    "# Lemmatization\n",
    "lemmatizer = WordNetLemmatizer()\n",
    "def lemmatize(tokens):\n",
    "    tokens = [lemmatizer.lemmatize(lemmatizer.lemmatize(lemmatizer.lemmatize(token,pos='a'),pos='v'),pos='n') for token in tokens]\n",
    "    return tokens\n",
    "\n",
    "# Stemming\n",
    "frenchStemmer=SnowballStemmer(\"french\")\n",
    "def stem(tokens):\n",
    "    tokens = [frenchStemmer.stem(token) for token in tokens]\n",
    "    return tokens"
   ]
  },
  {
   "cell_type": "markdown",
   "metadata": {},
   "source": [
    "# Processing data"
   ]
  },
  {
   "cell_type": "code",
   "execution_count": 5,
   "metadata": {},
   "outputs": [],
   "source": [
    "# Creating a dataFrame with all reviews\n",
    "reviews = pd.DataFrame.from_dict(data)\n",
    "\n",
    "# Making basic cleaning\n",
    "reviews.review = reviews.review.apply(lambda x: character_replacement(x))\n",
    "reviews[\"tokens\"] = reviews.review.apply(lambda x: tokenize(x))\n",
    "reviews.tokens = reviews.tokens.apply(lambda token_list: [meaningful_word for meaningful_word in token_list if len(meaningful_word) > 3])\n",
    "\n",
    "# Splitting reviews by language\n",
    "french_reviews = reviews[reviews.review_language == \"fr\"]\n",
    "english_reviews = reviews[reviews.review_language == \"en\"]\n",
    "\n",
    "# removing stopwords\n",
    "french_reviews.tokens = french_reviews.tokens.apply(lambda x: remove_stop_words_french(x))\n",
    "english_reviews.tokens = english_reviews.tokens.apply(lambda x: remove_stop_words_english(x))\n",
    "\n",
    "# Tokenizing\n",
    "english_reviews['inflected'] = english_reviews['tokens'].apply(lemmatize)\n",
    "french_reviews['inflected'] = french_reviews['tokens'].apply(stem)\n",
    "\n",
    "# Preparing LDA inputs\n",
    "dictionary = corpora.Dictionary(english_reviews['inflected'])\n",
    "doc_term_matrix = [dictionary.doc2bow(rev) for rev in english_reviews['inflected']]\n"
   ]
  },
  {
   "cell_type": "markdown",
   "metadata": {},
   "source": [
    "# LDA "
   ]
  },
  {
   "cell_type": "code",
   "execution_count": 6,
   "metadata": {},
   "outputs": [
    {
     "name": "stdout",
     "output_type": "stream",
     "text": [
      "[(0, '0.022*\"time\" + 0.017*\"stay\" + 0.015*\"staff\" + 0.015*\"lodge\" + 0.014*\"year\" + 0.013*\"parcs\" + 0.012*\"visit\" + 0.012*\"family\"'), (1, '0.018*\"lodge\" + 0.015*\"pool\" + 0.013*\"bike\" + 0.012*\"kid\" + 0.012*\"area\" + 0.011*\"time\" + 0.011*\"activity\" + 0.010*\"child\"'), (2, '0.021*\"pool\" + 0.015*\"small\" + 0.015*\"area\" + 0.012*\"parcs\" + 0.012*\"room\" + 0.011*\"woburn\" + 0.010*\"clean\" + 0.009*\"swim\"'), (3, '0.018*\"service\" + 0.017*\"lodge\" + 0.013*\"book\" + 0.012*\"staff\" + 0.011*\"go\" + 0.010*\"time\" + 0.010*\"leave\" + 0.010*\"guest\"'), (4, '0.021*\"price\" + 0.015*\"food\" + 0.015*\"activity\" + 0.014*\"parcs\" + 0.014*\"time\" + 0.012*\"holiday\" + 0.012*\"expensive\" + 0.012*\"center\"')]\n"
     ]
    }
   ],
   "source": [
    "# Creating the object for LDA model using gensim library\n",
    "LDA = gensim.models.ldamodel.LdaModel\n",
    "\n",
    "# Build LDA model\n",
    "num_topics = 5\n",
    "lda_model = LDA(corpus=doc_term_matrix, id2word=dictionary,\n",
    "                num_topics=num_topics,\n",
    "                alpha=[0.0001] * num_topics,\n",
    "                eta=[0.0001] * len(dictionary),\n",
    "                chunksize=2000,\n",
    "                passes=6,\n",
    "                random_state=100,\n",
    "               )\n",
    "\n",
    "print(lda_model.print_topics(num_words=8))"
   ]
  }
 ],
 "metadata": {
  "kernelspec": {
   "display_name": "Python 3",
   "language": "python",
   "name": "python3"
  },
  "language_info": {
   "codemirror_mode": {
    "name": "ipython",
    "version": 3
   },
   "file_extension": ".py",
   "mimetype": "text/x-python",
   "name": "python",
   "nbconvert_exporter": "python",
   "pygments_lexer": "ipython3",
   "version": "3.6.8"
  }
 },
 "nbformat": 4,
 "nbformat_minor": 2
}
