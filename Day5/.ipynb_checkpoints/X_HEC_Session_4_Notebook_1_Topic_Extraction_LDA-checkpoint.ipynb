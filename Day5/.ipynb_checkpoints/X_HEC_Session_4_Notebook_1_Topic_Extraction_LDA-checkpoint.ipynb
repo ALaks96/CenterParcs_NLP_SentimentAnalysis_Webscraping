{
 "cells": [
  {
   "cell_type": "code",
   "execution_count": 26,
   "metadata": {},
   "outputs": [],
   "source": [
    "import pandas as pd\n",
    "pd.set_option(\"display.max_colwidth\", 40)\n",
    "import numpy as np\n",
    "import re\n",
    "import spacy\n",
    "import nltk\n",
    "from nltk import FreqDist\n",
    "import gensim\n",
    "from gensim import corpora\n",
    "\n",
    "# libraries for visualization\n",
    "import pyLDAvis\n",
    "import pyLDAvis.gensim\n",
    "import matplotlib.pyplot as plt\n",
    "import seaborn as sns\n",
    "\n",
    "%matplotlib inline"
   ]
  },
  {
   "cell_type": "markdown",
   "metadata": {},
   "source": [
    "## Load  Data"
   ]
  },
  {
   "cell_type": "code",
   "execution_count": 2,
   "metadata": {},
   "outputs": [],
   "source": [
    "data2 = pd.read_csv(\"comments_lemmentized.csv\", sep=\";\", index_col=0)\n",
    "#data1 = pd.read_csv(\"center_parcs_clean_concatenated.csv\")\n",
    "data1 = pd.read_csv('clean_data_gr4.csv',index_col=0)"
   ]
  },
  {
   "cell_type": "code",
   "execution_count": null,
   "metadata": {},
   "outputs": [],
   "source": [
    "data = pd.read_csv('clean_data_gr4.csv', index_col = None)\n",
    "data.drop(['Unnamed: 0'], axis = 1)"
   ]
  },
  {
   "cell_type": "code",
   "execution_count": 5,
   "metadata": {},
   "outputs": [],
   "source": [
    "type(data2)\n",
    "data = pd.DataFrame(data1['Stemming'])"
   ]
  },
  {
   "cell_type": "code",
   "execution_count": 11,
   "metadata": {},
   "outputs": [
    {
     "ename": "AttributeError",
     "evalue": "'LazyConfigValue' object has no attribute 'lower'",
     "output_type": "error",
     "traceback": [
      "\u001b[0;31m---------------------------------------------------------------------------\u001b[0m",
      "\u001b[0;31mAttributeError\u001b[0m                            Traceback (most recent call last)",
      "\u001b[0;32m~/anaconda3/lib/python3.6/site-packages/IPython/core/formatters.py\u001b[0m in \u001b[0;36m__call__\u001b[0;34m(self, obj)\u001b[0m\n\u001b[1;32m    343\u001b[0m             \u001b[0mmethod\u001b[0m \u001b[0;34m=\u001b[0m \u001b[0mget_real_method\u001b[0m\u001b[0;34m(\u001b[0m\u001b[0mobj\u001b[0m\u001b[0;34m,\u001b[0m \u001b[0mself\u001b[0m\u001b[0;34m.\u001b[0m\u001b[0mprint_method\u001b[0m\u001b[0;34m)\u001b[0m\u001b[0;34m\u001b[0m\u001b[0;34m\u001b[0m\u001b[0m\n\u001b[1;32m    344\u001b[0m             \u001b[0;32mif\u001b[0m \u001b[0mmethod\u001b[0m \u001b[0;32mis\u001b[0m \u001b[0;32mnot\u001b[0m \u001b[0;32mNone\u001b[0m\u001b[0;34m:\u001b[0m\u001b[0;34m\u001b[0m\u001b[0;34m\u001b[0m\u001b[0m\n\u001b[0;32m--> 345\u001b[0;31m                 \u001b[0;32mreturn\u001b[0m \u001b[0mmethod\u001b[0m\u001b[0;34m(\u001b[0m\u001b[0;34m)\u001b[0m\u001b[0;34m\u001b[0m\u001b[0;34m\u001b[0m\u001b[0m\n\u001b[0m\u001b[1;32m    346\u001b[0m             \u001b[0;32mreturn\u001b[0m \u001b[0;32mNone\u001b[0m\u001b[0;34m\u001b[0m\u001b[0;34m\u001b[0m\u001b[0m\n\u001b[1;32m    347\u001b[0m         \u001b[0;32melse\u001b[0m\u001b[0;34m:\u001b[0m\u001b[0;34m\u001b[0m\u001b[0;34m\u001b[0m\u001b[0m\n",
      "\u001b[0;32m~/anaconda3/lib/python3.6/site-packages/pandas/core/frame.py\u001b[0m in \u001b[0;36m_repr_html_\u001b[0;34m(self)\u001b[0m\n\u001b[1;32m    647\u001b[0m         \u001b[0;31m# display HTML, so this check can be removed when support for\u001b[0m\u001b[0;34m\u001b[0m\u001b[0;34m\u001b[0m\u001b[0;34m\u001b[0m\u001b[0m\n\u001b[1;32m    648\u001b[0m         \u001b[0;31m# IPython 2.x is no longer needed.\u001b[0m\u001b[0;34m\u001b[0m\u001b[0;34m\u001b[0m\u001b[0;34m\u001b[0m\u001b[0m\n\u001b[0;32m--> 649\u001b[0;31m         \u001b[0;32mif\u001b[0m \u001b[0mconsole\u001b[0m\u001b[0;34m.\u001b[0m\u001b[0min_qtconsole\u001b[0m\u001b[0;34m(\u001b[0m\u001b[0;34m)\u001b[0m\u001b[0;34m:\u001b[0m\u001b[0;34m\u001b[0m\u001b[0;34m\u001b[0m\u001b[0m\n\u001b[0m\u001b[1;32m    650\u001b[0m             \u001b[0;31m# 'HTML output is disabled in QtConsole'\u001b[0m\u001b[0;34m\u001b[0m\u001b[0;34m\u001b[0m\u001b[0;34m\u001b[0m\u001b[0m\n\u001b[1;32m    651\u001b[0m             \u001b[0;32mreturn\u001b[0m \u001b[0;32mNone\u001b[0m\u001b[0;34m\u001b[0m\u001b[0;34m\u001b[0m\u001b[0m\n",
      "\u001b[0;32m~/anaconda3/lib/python3.6/site-packages/pandas/io/formats/console.py\u001b[0m in \u001b[0;36min_qtconsole\u001b[0;34m()\u001b[0m\n\u001b[1;32m    121\u001b[0m             \u001b[0mip\u001b[0m\u001b[0;34m.\u001b[0m\u001b[0mconfig\u001b[0m\u001b[0;34m.\u001b[0m\u001b[0mget\u001b[0m\u001b[0;34m(\u001b[0m\u001b[0;34m'KernelApp'\u001b[0m\u001b[0;34m,\u001b[0m \u001b[0;34m{\u001b[0m\u001b[0;34m}\u001b[0m\u001b[0;34m)\u001b[0m\u001b[0;34m.\u001b[0m\u001b[0mget\u001b[0m\u001b[0;34m(\u001b[0m\u001b[0;34m'parent_appname'\u001b[0m\u001b[0;34m,\u001b[0m \u001b[0;34m\"\"\u001b[0m\u001b[0;34m)\u001b[0m \u001b[0;32mor\u001b[0m\u001b[0;34m\u001b[0m\u001b[0;34m\u001b[0m\u001b[0m\n\u001b[1;32m    122\u001b[0m             ip.config.get('IPKernelApp', {}).get('parent_appname', \"\"))\n\u001b[0;32m--> 123\u001b[0;31m         \u001b[0;32mif\u001b[0m \u001b[0;34m'qtconsole'\u001b[0m \u001b[0;32min\u001b[0m \u001b[0mfront_end\u001b[0m\u001b[0;34m.\u001b[0m\u001b[0mlower\u001b[0m\u001b[0;34m(\u001b[0m\u001b[0;34m)\u001b[0m\u001b[0;34m:\u001b[0m\u001b[0;34m\u001b[0m\u001b[0;34m\u001b[0m\u001b[0m\n\u001b[0m\u001b[1;32m    124\u001b[0m             \u001b[0;32mreturn\u001b[0m \u001b[0;32mTrue\u001b[0m\u001b[0;34m\u001b[0m\u001b[0;34m\u001b[0m\u001b[0m\n\u001b[1;32m    125\u001b[0m     \u001b[0;32mexcept\u001b[0m \u001b[0mNameError\u001b[0m\u001b[0;34m:\u001b[0m\u001b[0;34m\u001b[0m\u001b[0;34m\u001b[0m\u001b[0m\n",
      "\u001b[0;31mAttributeError\u001b[0m: 'LazyConfigValue' object has no attribute 'lower'"
     ]
    },
    {
     "data": {
      "text/plain": [
       "                          lemmantized_reviews\n",
       "0     ['premium', 'cottage', 'renovate', '...\n",
       "1     ['nice', 'environment', 'peaceful', ...\n",
       "2     ['expectation', 'high', 'read', 'rev...\n",
       "3     ['quite', 'center', 'parcs', 'france...\n",
       "4     ['new', 'year', 'trip', 'family', 's...\n",
       "5     ['visit', 'different', 'centre', 'pa...\n",
       "6     ['read', 'review', 'sceptical', 'par...\n",
       "7     ['anyone', 'look', 'book', 'center',...\n",
       "8     ['unfortunately', 'experience', 'tot...\n",
       "9     ['enjoyable', 'stay', 'village', 'lo...\n",
       "10    ['park', 'okay', 'good', 'time', 'an...\n",
       "11    ['stay', 'centerparcs', 'best', 'cou...\n",
       "12    ['aqua', 'dome', 'good', 'wide', 'va...\n",
       "13    ['location', 'set', 'site', 'perfect...\n",
       "14    ['holiday', 'family', 'child', 'frie...\n",
       "15    ['often', 'drive', 'mile', 'want', '...\n",
       "16    ['weu2019ve', 'return', 'week', 'cen...\n",
       "17    ['read', 'trip', 'advisor', 'review'...\n",
       "18    ['staff', 'brilliant', 'others', 'aw...\n",
       "19    ['first', 'trip', 'france', 'family'...\n",
       "20    ['stay', 'week', 'recommendation', '...\n",
       "21    ['family', 'young', 'boy', 'high', '...\n",
       "22    ['good', 'bit', 'comfy', 'bed', 'sav...\n",
       "23    ['firstly', 'positive', 'overall', '...\n",
       "24    ['chalet', 'really', 'need', 'invest...\n",
       "25    ['great', 'dome', 'amp', 'swim', 'fa...\n",
       "26    ['could', 'pay', 'come', 'accomodati...\n",
       "27    ['lovely', 'site', 'although', 'cott...\n",
       "28    ['bad', 'holiday', 'ever', 'chalet',...\n",
       "29    ['le', 'boisfrancs', 'show', 'age', ...\n",
       "...                                       ...\n",
       "1273  ['weekend', 'friday', 'monday', 'rea...\n",
       "1274  ['park', 'nice', 'free', 'map', 'giv...\n",
       "1275  ['stayed', 'midweek', 'beginning', '...\n",
       "1276  ['dont', 'expect', 'luxury', 'style'...\n",
       "1277  ['accommodation', 'renovated', 'prem...\n",
       "1278  ['stayed', 'person', 'comfort', 'vil...\n",
       "1279  ['adult', 'kid', 'going', 'last', 'y...\n",
       "1280  ['much', 'like', 'england', 'smaller...\n",
       "1281  ['pleasant', 'stay', 'centre', 'parc...\n",
       "1282  ['erperheide', 'fantastic', 'place',...\n",
       "1283  ['food', 'property', 'let', 'experie...\n",
       "1284  ['great', 'holiday', 'spent', 'week'...\n",
       "1285  ['fourth', 'time', 'year', 'center',...\n",
       "1286  ['took', 'two', 'son', 'age', 'amp',...\n",
       "1287  ['fun', 'packed', 'fantastic', 'expe...\n",
       "1288  ['arrival', 'centre', 'parcs', 'look...\n",
       "1289  ['spent', 'week', 'early', 'august',...\n",
       "1290  ['holiday', 'park', 'accomodation', ...\n",
       "1291  ['returned', 'mid', 'week', 'break',...\n",
       "1292  ['erperheide', 'four', 'time', 'love...\n",
       "1293  ['must', 'visit', 'anyone', 'kid', '...\n",
       "1294  ['stayed', 'week', 'year', 'old', 'j...\n",
       "1295  ['wife', 'year', 'stopped', 'comfort...\n",
       "1296  ['overal', 'good', 'price', 'nearly'...\n",
       "1297  ['spent', 'great', 'weekend', 'night...\n",
       "1298  ['wonderful', 'holiday', 'kid', 'age...\n",
       "1299  ['spent', 'weekend', 'january', '201...\n",
       "1300  ['loved', 'aqua', 'mundo', 'pool', '...\n",
       "1301  ['stayed', 'august', 'lovely', 'plac...\n",
       "1302  ['parc', 'really', 'nice', 'young', ...\n",
       "\n",
       "[1303 rows x 1 columns]"
      ]
     },
     "execution_count": 11,
     "metadata": {},
     "output_type": "execute_result"
    }
   ],
   "source": [
    "data2"
   ]
  },
  {
   "cell_type": "code",
   "execution_count": 10,
   "metadata": {},
   "outputs": [
    {
     "ename": "AttributeError",
     "evalue": "'LazyConfigValue' object has no attribute 'lower'",
     "output_type": "error",
     "traceback": [
      "\u001b[0;31m---------------------------------------------------------------------------\u001b[0m",
      "\u001b[0;31mAttributeError\u001b[0m                            Traceback (most recent call last)",
      "\u001b[0;32m~/anaconda3/lib/python3.6/site-packages/IPython/core/formatters.py\u001b[0m in \u001b[0;36m__call__\u001b[0;34m(self, obj)\u001b[0m\n\u001b[1;32m    343\u001b[0m             \u001b[0mmethod\u001b[0m \u001b[0;34m=\u001b[0m \u001b[0mget_real_method\u001b[0m\u001b[0;34m(\u001b[0m\u001b[0mobj\u001b[0m\u001b[0;34m,\u001b[0m \u001b[0mself\u001b[0m\u001b[0;34m.\u001b[0m\u001b[0mprint_method\u001b[0m\u001b[0;34m)\u001b[0m\u001b[0;34m\u001b[0m\u001b[0;34m\u001b[0m\u001b[0m\n\u001b[1;32m    344\u001b[0m             \u001b[0;32mif\u001b[0m \u001b[0mmethod\u001b[0m \u001b[0;32mis\u001b[0m \u001b[0;32mnot\u001b[0m \u001b[0;32mNone\u001b[0m\u001b[0;34m:\u001b[0m\u001b[0;34m\u001b[0m\u001b[0;34m\u001b[0m\u001b[0m\n\u001b[0;32m--> 345\u001b[0;31m                 \u001b[0;32mreturn\u001b[0m \u001b[0mmethod\u001b[0m\u001b[0;34m(\u001b[0m\u001b[0;34m)\u001b[0m\u001b[0;34m\u001b[0m\u001b[0;34m\u001b[0m\u001b[0m\n\u001b[0m\u001b[1;32m    346\u001b[0m             \u001b[0;32mreturn\u001b[0m \u001b[0;32mNone\u001b[0m\u001b[0;34m\u001b[0m\u001b[0;34m\u001b[0m\u001b[0m\n\u001b[1;32m    347\u001b[0m         \u001b[0;32melse\u001b[0m\u001b[0;34m:\u001b[0m\u001b[0;34m\u001b[0m\u001b[0;34m\u001b[0m\u001b[0m\n",
      "\u001b[0;32m~/anaconda3/lib/python3.6/site-packages/pandas/core/frame.py\u001b[0m in \u001b[0;36m_repr_html_\u001b[0;34m(self)\u001b[0m\n\u001b[1;32m    647\u001b[0m         \u001b[0;31m# display HTML, so this check can be removed when support for\u001b[0m\u001b[0;34m\u001b[0m\u001b[0;34m\u001b[0m\u001b[0;34m\u001b[0m\u001b[0m\n\u001b[1;32m    648\u001b[0m         \u001b[0;31m# IPython 2.x is no longer needed.\u001b[0m\u001b[0;34m\u001b[0m\u001b[0;34m\u001b[0m\u001b[0;34m\u001b[0m\u001b[0m\n\u001b[0;32m--> 649\u001b[0;31m         \u001b[0;32mif\u001b[0m \u001b[0mconsole\u001b[0m\u001b[0;34m.\u001b[0m\u001b[0min_qtconsole\u001b[0m\u001b[0;34m(\u001b[0m\u001b[0;34m)\u001b[0m\u001b[0;34m:\u001b[0m\u001b[0;34m\u001b[0m\u001b[0;34m\u001b[0m\u001b[0m\n\u001b[0m\u001b[1;32m    650\u001b[0m             \u001b[0;31m# 'HTML output is disabled in QtConsole'\u001b[0m\u001b[0;34m\u001b[0m\u001b[0;34m\u001b[0m\u001b[0;34m\u001b[0m\u001b[0m\n\u001b[1;32m    651\u001b[0m             \u001b[0;32mreturn\u001b[0m \u001b[0;32mNone\u001b[0m\u001b[0;34m\u001b[0m\u001b[0;34m\u001b[0m\u001b[0m\n",
      "\u001b[0;32m~/anaconda3/lib/python3.6/site-packages/pandas/io/formats/console.py\u001b[0m in \u001b[0;36min_qtconsole\u001b[0;34m()\u001b[0m\n\u001b[1;32m    121\u001b[0m             \u001b[0mip\u001b[0m\u001b[0;34m.\u001b[0m\u001b[0mconfig\u001b[0m\u001b[0;34m.\u001b[0m\u001b[0mget\u001b[0m\u001b[0;34m(\u001b[0m\u001b[0;34m'KernelApp'\u001b[0m\u001b[0;34m,\u001b[0m \u001b[0;34m{\u001b[0m\u001b[0;34m}\u001b[0m\u001b[0;34m)\u001b[0m\u001b[0;34m.\u001b[0m\u001b[0mget\u001b[0m\u001b[0;34m(\u001b[0m\u001b[0;34m'parent_appname'\u001b[0m\u001b[0;34m,\u001b[0m \u001b[0;34m\"\"\u001b[0m\u001b[0;34m)\u001b[0m \u001b[0;32mor\u001b[0m\u001b[0;34m\u001b[0m\u001b[0;34m\u001b[0m\u001b[0m\n\u001b[1;32m    122\u001b[0m             ip.config.get('IPKernelApp', {}).get('parent_appname', \"\"))\n\u001b[0;32m--> 123\u001b[0;31m         \u001b[0;32mif\u001b[0m \u001b[0;34m'qtconsole'\u001b[0m \u001b[0;32min\u001b[0m \u001b[0mfront_end\u001b[0m\u001b[0;34m.\u001b[0m\u001b[0mlower\u001b[0m\u001b[0;34m(\u001b[0m\u001b[0;34m)\u001b[0m\u001b[0;34m:\u001b[0m\u001b[0;34m\u001b[0m\u001b[0;34m\u001b[0m\u001b[0m\n\u001b[0m\u001b[1;32m    124\u001b[0m             \u001b[0;32mreturn\u001b[0m \u001b[0;32mTrue\u001b[0m\u001b[0;34m\u001b[0m\u001b[0;34m\u001b[0m\u001b[0m\n\u001b[1;32m    125\u001b[0m     \u001b[0;32mexcept\u001b[0m \u001b[0mNameError\u001b[0m\u001b[0;34m:\u001b[0m\u001b[0;34m\u001b[0m\u001b[0;34m\u001b[0m\u001b[0m\n",
      "\u001b[0;31mAttributeError\u001b[0m: 'LazyConfigValue' object has no attribute 'lower'"
     ]
    },
    {
     "data": {
      "text/plain": [
       "                                     Stemming\n",
       "0     [premier, adore, partis, petite, fil...\n",
       "1     [agreable, habitude, quel, plaisir, ...\n",
       "2     [bien, propre, chaud, de, l arrivee,...\n",
       "3     [reposant, noter, trois, restaurant,...\n",
       "4     [arrive, trois, nuits, deux, hors, s...\n",
       "5     [endroit, relaxant, cohesion, nature...\n",
       "6     [agreablement, surpris, super, bien,...\n",
       "7     [piscine, bondee, monde, pourtant, h...\n",
       "8     [personnel, service, client, hauteur...\n",
       "9     [vrai, paradis, deconnecter, travail...\n",
       "10    [detente, famille, l accueil, qualit...\n",
       "11    [beau, cadre, harmonie, naturedeconn...\n",
       "12    [agreable, bon, accueil, confortable...\n",
       "13    [calme, nature, partout, confortable...\n",
       "14    [bonnes, installation, seul, bemol, ...\n",
       "15    [venus, famille, amie, enfants, deco...\n",
       "16    [passe, bon,  environnement, aupres,...\n",
       "17    [vip, personnes, juste, super, adapt...\n",
       "18    [bien, vais, plaisir, cher, tellemen...\n",
       "19    [premier, famille, fille, endroit, c...\n",
       "20    [bien, agence, famille, nombreuse, e...\n",
       "21    [bel, endroit, calme, paradis, enfan...\n",
       "22    [bon, passe, famille, cote, nature, ...\n",
       "23    [passe, super, famille, vip, personn...\n",
       "24    [depaysant, hiver tres, adapte, enfa...\n",
       "25    [emerveillement, enfants, l endroit,...\n",
       "26    [magique, famille, alles, hors, peri...\n",
       "27    [bon, pouvoir, baigner, eau, chaude,...\n",
       "28    [geste, commercial, apprecie, compte...\n",
       "29    [recommande, personnes, veulent, s o...\n",
       "...                                       ...\n",
       "1964  [agreable, calme, securise, enfants ...\n",
       "1965  [concept, reposant, rendent, visite,...\n",
       "1966  [bonnes, infrastructure, neuves, qua...\n",
       "1967  [troisieme, identique, deux, premier...\n",
       "1968  [troisieme, venons, quelques, parc l...\n",
       "1969  [journee, avis, mitige, lui meme, pr...\n",
       "1970  [partis, premium, super, confortable...\n",
       "1971  [domaine, magnifique, dommage, servi...\n",
       "1972  [grande, premiere, adore, endroit, r...\n",
       "1973  [pas, agreable, bien, propre, person...\n",
       "1974  [voulu, tester, loin, de u00e7u, man...\n",
       "1975  [miss, eblouies, eclatees, maman, re...\n",
       "1976  [piscine, agreables, propre, sauf, s...\n",
       "1977  [emplacement, mouton, poussiere, sou...\n",
       "1978  [pas, agreable, park, daims la, mais...\n",
       "1979  [enfant, tombe, nez, montant, escali...\n",
       "1980  [magnifique, bien, present, reveils,...\n",
       "1981  [sympa, ressour u00e7ant, animaux, l...\n",
       "1982  [vacances, sympa, cadre, beau, spect...\n",
       "1983  [de u00e7u, daimsc est, 2eme, faison...\n",
       "1984  [vite, mal, puisque, poubelle, salle...\n",
       "1985  [formule, agreable, vacances, active...\n",
       "1986  [partis, amis, deux, enfants, ba, ag...\n",
       "1987  [personnel, agreable, centre, adapte...\n",
       "1988  [passe, bon, domaine, recent, bien, ...\n",
       "1989  [mal, entretenu, activites, onereuse...\n",
       "1990  [bon, sejours, bonnes, activites, li...\n",
       "1991  [joli, milieu, d une, foret, beaucou...\n",
       "1992  [permet, noter, seulement, restauran...\n",
       "1993  [venons, domaine, weeckend, 887 1, 3...\n",
       "\n",
       "[1994 rows x 1 columns]"
      ]
     },
     "execution_count": 10,
     "metadata": {},
     "output_type": "execute_result"
    }
   ],
   "source": [
    "data"
   ]
  },
  {
   "cell_type": "code",
   "execution_count": 12,
   "metadata": {},
   "outputs": [
    {
     "ename": "AttributeError",
     "evalue": "Can only use .str accessor with string values, which use np.object_ dtype in pandas",
     "output_type": "error",
     "traceback": [
      "\u001b[0;31m---------------------------------------------------------------------------\u001b[0m",
      "\u001b[0;31mAttributeError\u001b[0m                            Traceback (most recent call last)",
      "\u001b[0;32m<ipython-input-12-790a132ef488>\u001b[0m in \u001b[0;36m<module>\u001b[0;34m\u001b[0m\n\u001b[1;32m      1\u001b[0m \u001b[0;31m#the lemmantized_reviews are interpreted as a string by the read_csv command. We convert it into a list.\u001b[0m\u001b[0;34m\u001b[0m\u001b[0;34m\u001b[0m\u001b[0;34m\u001b[0m\u001b[0m\n\u001b[0;32m----> 2\u001b[0;31m \u001b[0mdata\u001b[0m\u001b[0;34m[\u001b[0m\u001b[0;34m'Stemming'\u001b[0m\u001b[0;34m]\u001b[0m \u001b[0;34m=\u001b[0m \u001b[0mdata\u001b[0m\u001b[0;34m[\u001b[0m\u001b[0;34m'Stemming'\u001b[0m\u001b[0;34m]\u001b[0m\u001b[0;34m.\u001b[0m\u001b[0mstr\u001b[0m\u001b[0;34m.\u001b[0m\u001b[0mreplace\u001b[0m\u001b[0;34m(\u001b[0m\u001b[0;34mr\"[\\[\\]\\']\"\u001b[0m\u001b[0;34m,\u001b[0m \u001b[0;34m\"\"\u001b[0m\u001b[0;34m)\u001b[0m\u001b[0;34m.\u001b[0m\u001b[0mstr\u001b[0m\u001b[0;34m.\u001b[0m\u001b[0msplit\u001b[0m\u001b[0;34m(\u001b[0m\u001b[0;34m\", \"\u001b[0m\u001b[0;34m)\u001b[0m\u001b[0;34m\u001b[0m\u001b[0;34m\u001b[0m\u001b[0m\n\u001b[0m\u001b[1;32m      3\u001b[0m \u001b[0mdata2\u001b[0m\u001b[0;34m[\u001b[0m\u001b[0;34m'lemmantized_reviews'\u001b[0m\u001b[0;34m]\u001b[0m \u001b[0;34m=\u001b[0m \u001b[0mdata\u001b[0m\u001b[0;34m[\u001b[0m\u001b[0;34m'lemmantized_reviews'\u001b[0m\u001b[0;34m]\u001b[0m\u001b[0;34m.\u001b[0m\u001b[0mstr\u001b[0m\u001b[0;34m.\u001b[0m\u001b[0mreplace\u001b[0m\u001b[0;34m(\u001b[0m\u001b[0;34mr\"[\\[\\]\\']\"\u001b[0m\u001b[0;34m,\u001b[0m \u001b[0;34m\"\"\u001b[0m\u001b[0;34m)\u001b[0m\u001b[0;34m.\u001b[0m\u001b[0mstr\u001b[0m\u001b[0;34m.\u001b[0m\u001b[0msplit\u001b[0m\u001b[0;34m(\u001b[0m\u001b[0;34m\", \"\u001b[0m\u001b[0;34m)\u001b[0m\u001b[0;34m\u001b[0m\u001b[0;34m\u001b[0m\u001b[0m\n",
      "\u001b[0;32m~/anaconda3/lib/python3.6/site-packages/pandas/core/generic.py\u001b[0m in \u001b[0;36m__getattr__\u001b[0;34m(self, name)\u001b[0m\n\u001b[1;32m   5051\u001b[0m         if (name in self._internal_names_set or name in self._metadata or\n\u001b[1;32m   5052\u001b[0m                 name in self._accessors):\n\u001b[0;32m-> 5053\u001b[0;31m             \u001b[0;32mreturn\u001b[0m \u001b[0mobject\u001b[0m\u001b[0;34m.\u001b[0m\u001b[0m__getattribute__\u001b[0m\u001b[0;34m(\u001b[0m\u001b[0mself\u001b[0m\u001b[0;34m,\u001b[0m \u001b[0mname\u001b[0m\u001b[0;34m)\u001b[0m\u001b[0;34m\u001b[0m\u001b[0;34m\u001b[0m\u001b[0m\n\u001b[0m\u001b[1;32m   5054\u001b[0m         \u001b[0;32melse\u001b[0m\u001b[0;34m:\u001b[0m\u001b[0;34m\u001b[0m\u001b[0;34m\u001b[0m\u001b[0m\n\u001b[1;32m   5055\u001b[0m             \u001b[0;32mif\u001b[0m \u001b[0mself\u001b[0m\u001b[0;34m.\u001b[0m\u001b[0m_info_axis\u001b[0m\u001b[0;34m.\u001b[0m\u001b[0m_can_hold_identifiers_and_holds_name\u001b[0m\u001b[0;34m(\u001b[0m\u001b[0mname\u001b[0m\u001b[0;34m)\u001b[0m\u001b[0;34m:\u001b[0m\u001b[0;34m\u001b[0m\u001b[0;34m\u001b[0m\u001b[0m\n",
      "\u001b[0;32m~/anaconda3/lib/python3.6/site-packages/pandas/core/accessor.py\u001b[0m in \u001b[0;36m__get__\u001b[0;34m(self, obj, cls)\u001b[0m\n\u001b[1;32m    169\u001b[0m             \u001b[0;31m# we're accessing the attribute of the class, i.e., Dataset.geo\u001b[0m\u001b[0;34m\u001b[0m\u001b[0;34m\u001b[0m\u001b[0;34m\u001b[0m\u001b[0m\n\u001b[1;32m    170\u001b[0m             \u001b[0;32mreturn\u001b[0m \u001b[0mself\u001b[0m\u001b[0;34m.\u001b[0m\u001b[0m_accessor\u001b[0m\u001b[0;34m\u001b[0m\u001b[0;34m\u001b[0m\u001b[0m\n\u001b[0;32m--> 171\u001b[0;31m         \u001b[0maccessor_obj\u001b[0m \u001b[0;34m=\u001b[0m \u001b[0mself\u001b[0m\u001b[0;34m.\u001b[0m\u001b[0m_accessor\u001b[0m\u001b[0;34m(\u001b[0m\u001b[0mobj\u001b[0m\u001b[0;34m)\u001b[0m\u001b[0;34m\u001b[0m\u001b[0;34m\u001b[0m\u001b[0m\n\u001b[0m\u001b[1;32m    172\u001b[0m         \u001b[0;31m# Replace the property with the accessor object. Inspired by:\u001b[0m\u001b[0;34m\u001b[0m\u001b[0;34m\u001b[0m\u001b[0;34m\u001b[0m\u001b[0m\n\u001b[1;32m    173\u001b[0m         \u001b[0;31m# http://www.pydanny.com/cached-property.html\u001b[0m\u001b[0;34m\u001b[0m\u001b[0;34m\u001b[0m\u001b[0;34m\u001b[0m\u001b[0m\n",
      "\u001b[0;32m~/anaconda3/lib/python3.6/site-packages/pandas/core/strings.py\u001b[0m in \u001b[0;36m__init__\u001b[0;34m(self, data)\u001b[0m\n\u001b[1;32m   1794\u001b[0m \u001b[0;34m\u001b[0m\u001b[0m\n\u001b[1;32m   1795\u001b[0m     \u001b[0;32mdef\u001b[0m \u001b[0m__init__\u001b[0m\u001b[0;34m(\u001b[0m\u001b[0mself\u001b[0m\u001b[0;34m,\u001b[0m \u001b[0mdata\u001b[0m\u001b[0;34m)\u001b[0m\u001b[0;34m:\u001b[0m\u001b[0;34m\u001b[0m\u001b[0;34m\u001b[0m\u001b[0m\n\u001b[0;32m-> 1796\u001b[0;31m         \u001b[0mself\u001b[0m\u001b[0;34m.\u001b[0m\u001b[0m_validate\u001b[0m\u001b[0;34m(\u001b[0m\u001b[0mdata\u001b[0m\u001b[0;34m)\u001b[0m\u001b[0;34m\u001b[0m\u001b[0;34m\u001b[0m\u001b[0m\n\u001b[0m\u001b[1;32m   1797\u001b[0m         \u001b[0mself\u001b[0m\u001b[0;34m.\u001b[0m\u001b[0m_is_categorical\u001b[0m \u001b[0;34m=\u001b[0m \u001b[0mis_categorical_dtype\u001b[0m\u001b[0;34m(\u001b[0m\u001b[0mdata\u001b[0m\u001b[0;34m)\u001b[0m\u001b[0;34m\u001b[0m\u001b[0;34m\u001b[0m\u001b[0m\n\u001b[1;32m   1798\u001b[0m \u001b[0;34m\u001b[0m\u001b[0m\n",
      "\u001b[0;32m~/anaconda3/lib/python3.6/site-packages/pandas/core/strings.py\u001b[0m in \u001b[0;36m_validate\u001b[0;34m(data)\u001b[0m\n\u001b[1;32m   1816\u001b[0m             \u001b[0;31m# (instead of test for object dtype), but that isn't practical for\u001b[0m\u001b[0;34m\u001b[0m\u001b[0;34m\u001b[0m\u001b[0;34m\u001b[0m\u001b[0m\n\u001b[1;32m   1817\u001b[0m             \u001b[0;31m# performance reasons until we have a str dtype (GH 9343)\u001b[0m\u001b[0;34m\u001b[0m\u001b[0;34m\u001b[0m\u001b[0;34m\u001b[0m\u001b[0m\n\u001b[0;32m-> 1818\u001b[0;31m             raise AttributeError(\"Can only use .str accessor with string \"\n\u001b[0m\u001b[1;32m   1819\u001b[0m                                  \u001b[0;34m\"values, which use np.object_ dtype in \"\u001b[0m\u001b[0;34m\u001b[0m\u001b[0;34m\u001b[0m\u001b[0m\n\u001b[1;32m   1820\u001b[0m                                  \"pandas\")\n",
      "\u001b[0;31mAttributeError\u001b[0m: Can only use .str accessor with string values, which use np.object_ dtype in pandas"
     ]
    }
   ],
   "source": [
    "#the lemmantized_reviews are interpreted as a string by the read_csv command. We convert it into a list. \n",
    "data['Stemming'] = data['Stemming'].str.replace(r\"[\\[\\]\\']\", \"\").str.split(\", \")"
   ]
  },
  {
   "cell_type": "code",
   "execution_count": 14,
   "metadata": {},
   "outputs": [
    {
     "data": {
      "text/plain": [
       "['premier',\n",
       " 'adore',\n",
       " 'partis',\n",
       " 'petite',\n",
       " 'fille',\n",
       " 'parfait',\n",
       " 'premuim',\n",
       " 'bien',\n",
       " 'agence',\n",
       " 'cocoon']"
      ]
     },
     "execution_count": 14,
     "metadata": {},
     "output_type": "execute_result"
    }
   ],
   "source": [
    "data['Stemming'][0][:10] #checking if it's a list"
   ]
  },
  {
   "cell_type": "code",
   "execution_count": 15,
   "metadata": {},
   "outputs": [],
   "source": [
    "data.dropna(subset=['Stemming'], inplace=True)"
   ]
  },
  {
   "cell_type": "code",
   "execution_count": 16,
   "metadata": {
    "scrolled": true
   },
   "outputs": [
    {
     "data": {
      "text/plain": [
       "(1994, 1)"
      ]
     },
     "execution_count": 16,
     "metadata": {},
     "output_type": "execute_result"
    }
   ],
   "source": [
    "data.shape"
   ]
  },
  {
   "cell_type": "markdown",
   "metadata": {},
   "source": [
    "## Remove words"
   ]
  },
  {
   "cell_type": "code",
   "execution_count": 32,
   "metadata": {},
   "outputs": [],
   "source": [
    "# We list the words we want to get rid of\n",
    "list_stop_words = [\"good\", \"great\", \"one\", \"nt\", \"u2013\", \"\", \"would\", \"get\", \"center\", \"parcs\",\"the\",\"le\"\n",
    "                   ,\" u00e0\",\"nous\",\"with\",\"what\",\"for\",\"etait\",\"not\",\"the\",\"une\",\"de\",\"pour\",\"plus\",\"zip\",\"under\",\"but\",\"tr u00e0\",\"   \",\n",
    "                  'n\\'t','...','\\'ve','\\'re', 'ã\\x9dou', \"''\", 'avez','est','être','être.on','le','les','de','et','la','pour','très','à',\n",
    "                'en','a','des','pas','dans','du','au','avec','sont','que','avons','de','et','pour'\n",
    "                ,'nous','un','est','en','des','pas','dans','du','au','avec','-\\\\taqua','-\\\\ten','-\\\\tle','farfelues.moi','\\\\u2764','amp','dis','\\\\u00bc',\n",
    "               'tré','tres','-\\\\tpas','-\\\\tla','1m01','cafetière\\\\u2026','une','tout','mais','qui','il','sur',\"c'est\",'ne','plus','ce','se',\n",
    "               'aux','je','peu','vraiment','par','vous','fait','faire','était','car','ou','quot','si','sans','tous','aussi','fois','n','ans','entre','peut',\n",
    "               'semaine','faut','voir','3','eu','cela','ont','nos','4','même','nos','contre','donc','surtour','son','reste','séjour','site','rapport',\n",
    "                'surtout','quand','2','sommes','sinon','vu','jours','assez','autres','\\u00e7a','ménage',\"n'est\",'toujours','soit','c','l','malgré','comme',\n",
    "                'niveau','toutes','non','avions','toute','\\u00e7a','mon','moins','passer','devant','où',\"c est\",\"trop\",\" u00e7a\",\"parc\",\"daims\",\"cottage\",\n",
    "                   \"sejour\",\"etre\",\"mundo\",\"rien\",'aqua',\"bois\",\"cottages\",\"passe\",\"l aqua\",\"d activites\",\"n'est\",\"j'ai\",'avant','apres','ils','alors',\n",
    "                   'trouve','deja',\"qu il\",'dit','vaut','enfin','quoi','ceux','cela','c']"
   ]
  },
  {
   "cell_type": "code",
   "execution_count": 18,
   "metadata": {},
   "outputs": [],
   "source": [
    "def remove_stop_word(x, list_stop_words=list_stop_words):\n",
    "    clean_x = [l for l in x if l not in list_stop_words]\n",
    "    return clean_x"
   ]
  },
  {
   "cell_type": "code",
   "execution_count": 19,
   "metadata": {},
   "outputs": [],
   "source": [
    "data['Stemming'] = data['Stemming'].apply(remove_stop_word)"
   ]
  },
  {
   "cell_type": "code",
   "execution_count": 20,
   "metadata": {},
   "outputs": [
    {
     "data": {
      "text/plain": [
       "(1994, 1)"
      ]
     },
     "execution_count": 20,
     "metadata": {},
     "output_type": "execute_result"
    }
   ],
   "source": [
    "data.shape"
   ]
  },
  {
   "cell_type": "markdown",
   "metadata": {},
   "source": [
    "## Building an LDA model"
   ]
  },
  {
   "cell_type": "code",
   "execution_count": 21,
   "metadata": {},
   "outputs": [],
   "source": [
    "dictionary = corpora.Dictionary(data['Stemming'])"
   ]
  },
  {
   "cell_type": "code",
   "execution_count": 22,
   "metadata": {},
   "outputs": [
    {
     "data": {
      "text/plain": [
       "12373"
      ]
     },
     "execution_count": 22,
     "metadata": {},
     "output_type": "execute_result"
    }
   ],
   "source": [
    "len(dictionary)"
   ]
  },
  {
   "cell_type": "code",
   "execution_count": 23,
   "metadata": {},
   "outputs": [],
   "source": [
    "doc_term_matrix = [dictionary.doc2bow(rev) for rev in data['Stemming']]"
   ]
  },
  {
   "cell_type": "code",
   "execution_count": 24,
   "metadata": {},
   "outputs": [],
   "source": [
    "import warnings\n",
    "warnings.filterwarnings('ignore')\n",
    "import re\n",
    "import matplotlib.pyplot as plt\n",
    "\n",
    "# Creating the object for LDA model using gensim library\n",
    "LDA = gensim.models.ldamodel.LdaModel\n",
    "\n",
    "# Build LDA model\n",
    "num_topics = 5\n",
    "lda_model = LDA(corpus=doc_term_matrix, id2word=dictionary, \n",
    "                num_topics=num_topics, \n",
    "                alpha=[0.001] * num_topics, \n",
    "                eta=[0.001] * len(dictionary),\n",
    "                chunksize=1000,\n",
    "                passes=20,\n",
    "                random_state=100,\n",
    "               )"
   ]
  },
  {
   "cell_type": "code",
   "execution_count": 25,
   "metadata": {
    "scrolled": true
   },
   "outputs": [
    {
     "data": {
      "text/plain": [
       "[(0,\n",
       "  '0.011*\"service\" + 0.009*\"sale\" + 0.006*\"vaisselle\" + 0.006*\"enfants\" + 0.006*\"prix\" + 0.005*\"point\" + 0.005*\"agreable\" + 0.005*\"arrivee\"'),\n",
       " (1,\n",
       "  '0.012*\"activites\" + 0.012*\"personnel\" + 0.009*\"vip\" + 0.008*\"calme\" + 0.008*\"nature\" + 0.008*\"propre\" + 0.008*\"famille\" + 0.008*\"agreable\"'),\n",
       " (2,\n",
       "  '0.012*\"enfants\" + 0.011*\"bien\" + 0.011*\"activites\" + 0.008*\"personnel\" + 0.008*\"prix\" + 0.007*\"grand\" + 0.007*\"piscine\" + 0.006*\"famille\"'),\n",
       " (3,\n",
       "  '0.027*\"bien\" + 0.013*\"enfants\" + 0.011*\"activites\" + 0.009*\"agreable\" + 0.009*\"famille\" + 0.009*\"super\" + 0.008*\"piscine\" + 0.007*\"propre\"'),\n",
       " (4,\n",
       "  '0.019*\"bien\" + 0.014*\"activites\" + 0.012*\"agreable\" + 0.012*\"enfants\" + 0.010*\"nature\" + 0.010*\"famille\" + 0.007*\"prix\" + 0.007*\"vip\"')]"
      ]
     },
     "execution_count": 25,
     "metadata": {},
     "output_type": "execute_result"
    }
   ],
   "source": [
    "lda_model.print_topics(num_words=8)"
   ]
  },
  {
   "cell_type": "code",
   "execution_count": null,
   "metadata": {},
   "outputs": [],
   "source": []
  },
  {
   "cell_type": "markdown",
   "metadata": {},
   "source": [
    "## Topic visualization"
   ]
  },
  {
   "cell_type": "code",
   "execution_count": 27,
   "metadata": {},
   "outputs": [
    {
     "data": {
      "text/plain": [
       "<gensim.corpora.dictionary.Dictionary at 0x1a1da8e978>"
      ]
     },
     "execution_count": 27,
     "metadata": {},
     "output_type": "execute_result"
    }
   ],
   "source": [
    "dictionary"
   ]
  },
  {
   "cell_type": "code",
   "execution_count": 29,
   "metadata": {},
   "outputs": [],
   "source": [
    "# Visualize the topics\n",
    "pd.options.display.max_colwidth = 1000\n",
    "viz = pyLDAvis.gensim.prepare(lda_model, doc_term_matrix, dictionary, mds='tsne')\n"
   ]
  },
  {
   "cell_type": "code",
   "execution_count": 31,
   "metadata": {},
   "outputs": [
    {
     "name": "stdout",
     "output_type": "stream",
     "text": [
      "\n",
      "Note: if you're in the IPython notebook, pyLDAvis.show() is not the best command\n",
      "      to use. Consider using pyLDAvis.display(), or pyLDAvis.enable_notebook().\n",
      "      See more information at http://pyLDAvis.github.io/quickstart.html .\n",
      "\n",
      "You must interrupt the kernel to end this command\n",
      "\n",
      "Serving to http://127.0.0.1:8889/    [Ctrl-C to exit]\n"
     ]
    },
    {
     "name": "stderr",
     "output_type": "stream",
     "text": [
      "127.0.0.1 - - [11/Feb/2019 15:00:26] \"GET / HTTP/1.1\" 200 -\n",
      "127.0.0.1 - - [11/Feb/2019 15:00:26] \"GET /LDAvis.css HTTP/1.1\" 200 -\n",
      "127.0.0.1 - - [11/Feb/2019 15:00:26] \"GET /d3.js HTTP/1.1\" 200 -\n",
      "127.0.0.1 - - [11/Feb/2019 15:00:26] code 404, message Not Found\n",
      "127.0.0.1 - - [11/Feb/2019 15:00:26] \"GET /favicon.ico HTTP/1.1\" 404 -\n",
      "127.0.0.1 - - [11/Feb/2019 15:00:26] \"GET /LDAvis.js HTTP/1.1\" 200 -\n",
      "127.0.0.1 - - [11/Feb/2019 15:04:08] \"GET / HTTP/1.1\" 200 -\n",
      "127.0.0.1 - - [11/Feb/2019 15:04:08] \"GET /LDAvis.css HTTP/1.1\" 200 -\n",
      "127.0.0.1 - - [11/Feb/2019 15:04:08] \"GET /d3.js HTTP/1.1\" 200 -\n",
      "127.0.0.1 - - [11/Feb/2019 15:04:08] \"GET /LDAvis.js HTTP/1.1\" 200 -\n",
      "127.0.0.1 - - [11/Feb/2019 15:04:08] code 404, message Not Found\n",
      "127.0.0.1 - - [11/Feb/2019 15:04:08] \"GET /favicon.ico HTTP/1.1\" 404 -\n"
     ]
    },
    {
     "name": "stdout",
     "output_type": "stream",
     "text": [
      "\n",
      "stopping Server...\n"
     ]
    }
   ],
   "source": [
    "pyLDAvis.enable_notebook()\n",
    "viz\n",
    "pyLDAvis.show(viz)"
   ]
  }
 ],
 "metadata": {
  "kernelspec": {
   "display_name": "Python 3",
   "language": "python",
   "name": "python3"
  },
  "language_info": {
   "codemirror_mode": {
    "name": "ipython",
    "version": 3
   },
   "file_extension": ".py",
   "mimetype": "text/x-python",
   "name": "python",
   "nbconvert_exporter": "python",
   "pygments_lexer": "ipython3",
   "version": "3.6.8"
  }
 },
 "nbformat": 4,
 "nbformat_minor": 2
}
