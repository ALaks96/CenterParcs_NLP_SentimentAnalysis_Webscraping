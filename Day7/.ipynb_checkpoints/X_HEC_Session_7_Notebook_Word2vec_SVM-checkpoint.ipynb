{
 "cells": [
  {
   "cell_type": "markdown",
   "metadata": {},
   "source": [
    "# Session 7 : Active Learning - Word2vec and Support Vector Machines\n",
    "The aim of this notebook is to explore semi-supervised learning via self training.\n",
    "\n",
    "Packages"
   ]
  },
  {
   "cell_type": "code",
   "execution_count": 1,
   "metadata": {},
   "outputs": [
    {
     "name": "stderr",
     "output_type": "stream",
     "text": [
      "[nltk_data] Downloading package punkt to\n",
      "[nltk_data]     /Users/johanattia/nltk_data...\n",
      "[nltk_data]   Package punkt is already up-to-date!\n"
     ]
    }
   ],
   "source": [
    "%matplotlib inline\n",
    "\n",
    "import os\n",
    "import re\n",
    "import warnings\n",
    "\n",
    "import pandas as pd\n",
    "import numpy as np\n",
    "import matplotlib.pyplot as plt\n",
    "\n",
    "import nltk\n",
    "nltk.download('punkt')\n",
    "from nltk.tokenize import word_tokenize\n",
    "from nltk.corpus import stopwords\n",
    "from nltk.stem.snowball import SnowballStemmer\n",
    "from nltk.stem.wordnet import WordNetLemmatizer\n",
    "\n",
    "import gensim\n",
    "from gensim.models.word2vec import Word2Vec\n",
    "from gensim.models import KeyedVectors\n",
    "\n",
    "import sklearn\n",
    "from sklearn.semi_supervised import LabelPropagation\n",
    "from sklearn.semi_supervised import LabelSpreading\n",
    "from sklearn.metrics import classification_report\n",
    "from sklearn.decomposition import PCA\n",
    "from sklearn.svm import SVC\n",
    "\n",
    "warnings.filterwarnings('ignore')"
   ]
  },
  {
   "cell_type": "markdown",
   "metadata": {},
   "source": [
    "Paths "
   ]
  },
  {
   "cell_type": "code",
   "execution_count": 2,
   "metadata": {},
   "outputs": [
    {
     "data": {
      "text/plain": [
       "'/Users/johanattia/OneDrive - Capgemini/Data Science X-HEC/Séance 7'"
      ]
     },
     "execution_count": 2,
     "metadata": {},
     "output_type": "execute_result"
    }
   ],
   "source": [
    "os.getcwd() # can help to obtain the good paths "
   ]
  },
  {
   "cell_type": "code",
   "execution_count": 3,
   "metadata": {},
   "outputs": [],
   "source": [
    "# your path to word2vec google vectors\n",
    "path_to_google_vectors = '/Users/johanattia/Documents/WORD EMBEDDINGS/'"
   ]
  },
  {
   "cell_type": "markdown",
   "metadata": {},
   "source": [
    "## I - Read data\n",
    "Labeled data"
   ]
  },
  {
   "cell_type": "code",
   "execution_count": 4,
   "metadata": {},
   "outputs": [
    {
     "data": {
      "text/html": [
       "<div>\n",
       "<style scoped>\n",
       "    .dataframe tbody tr th:only-of-type {\n",
       "        vertical-align: middle;\n",
       "    }\n",
       "\n",
       "    .dataframe tbody tr th {\n",
       "        vertical-align: top;\n",
       "    }\n",
       "\n",
       "    .dataframe thead th {\n",
       "        text-align: right;\n",
       "    }\n",
       "</style>\n",
       "<table border=\"1\" class=\"dataframe\">\n",
       "  <thead>\n",
       "    <tr style=\"text-align: right;\">\n",
       "      <th></th>\n",
       "      <th>group_number</th>\n",
       "      <th>review</th>\n",
       "      <th>service</th>\n",
       "      <th>service_sentiment</th>\n",
       "      <th>activities</th>\n",
       "      <th>activities_sentiment</th>\n",
       "      <th>cost</th>\n",
       "      <th>cost_sentiment</th>\n",
       "      <th>family</th>\n",
       "      <th>family_sentiment</th>\n",
       "      <th>food</th>\n",
       "      <th>food_sentiment</th>\n",
       "      <th>infrastructure</th>\n",
       "      <th>infra_sentiment</th>\n",
       "    </tr>\n",
       "  </thead>\n",
       "  <tbody>\n",
       "    <tr>\n",
       "      <th>0</th>\n",
       "      <td>groupe_1</td>\n",
       "      <td>We are veterans to the Center Parcs holiday an...</td>\n",
       "      <td>1.0</td>\n",
       "      <td>-1.0</td>\n",
       "      <td>1.0</td>\n",
       "      <td>1.0</td>\n",
       "      <td>1.0</td>\n",
       "      <td>-1.0</td>\n",
       "      <td>0.0</td>\n",
       "      <td>NaN</td>\n",
       "      <td>1.0</td>\n",
       "      <td>-1.0</td>\n",
       "      <td>1.0</td>\n",
       "      <td>-1.0</td>\n",
       "    </tr>\n",
       "    <tr>\n",
       "      <th>1</th>\n",
       "      <td>groupe_1</td>\n",
       "      <td>Lodge was fine, nice setting, centre is well l...</td>\n",
       "      <td>1.0</td>\n",
       "      <td>-1.0</td>\n",
       "      <td>1.0</td>\n",
       "      <td>1.0</td>\n",
       "      <td>1.0</td>\n",
       "      <td>-1.0</td>\n",
       "      <td>0.0</td>\n",
       "      <td>NaN</td>\n",
       "      <td>0.0</td>\n",
       "      <td>NaN</td>\n",
       "      <td>1.0</td>\n",
       "      <td>1.0</td>\n",
       "    </tr>\n",
       "    <tr>\n",
       "      <th>2</th>\n",
       "      <td>groupe_1</td>\n",
       "      <td>After the madness of Christmas, it was a well ...</td>\n",
       "      <td>1.0</td>\n",
       "      <td>1.0</td>\n",
       "      <td>0.0</td>\n",
       "      <td>NaN</td>\n",
       "      <td>0.0</td>\n",
       "      <td>NaN</td>\n",
       "      <td>1.0</td>\n",
       "      <td>1.0</td>\n",
       "      <td>0.0</td>\n",
       "      <td>NaN</td>\n",
       "      <td>0.0</td>\n",
       "      <td>NaN</td>\n",
       "    </tr>\n",
       "  </tbody>\n",
       "</table>\n",
       "</div>"
      ],
      "text/plain": [
       "  group_number                                             review  service  \\\n",
       "0     groupe_1  We are veterans to the Center Parcs holiday an...      1.0   \n",
       "1     groupe_1  Lodge was fine, nice setting, centre is well l...      1.0   \n",
       "2     groupe_1  After the madness of Christmas, it was a well ...      1.0   \n",
       "\n",
       "  service_sentiment  activities  activities_sentiment  cost  cost_sentiment  \\\n",
       "0              -1.0         1.0                   1.0   1.0            -1.0   \n",
       "1              -1.0         1.0                   1.0   1.0            -1.0   \n",
       "2               1.0         0.0                   NaN   0.0             NaN   \n",
       "\n",
       "   family  family_sentiment  food food_sentiment  infrastructure  \\\n",
       "0     0.0               NaN   1.0           -1.0             1.0   \n",
       "1     0.0               NaN   0.0            NaN             1.0   \n",
       "2     1.0               1.0   0.0            NaN             0.0   \n",
       "\n",
       "   infra_sentiment  \n",
       "0             -1.0  \n",
       "1              1.0  \n",
       "2              NaN  "
      ]
     },
     "execution_count": 4,
     "metadata": {},
     "output_type": "execute_result"
    }
   ],
   "source": [
    "# If your data are not in the current directory, don't forget : PATH + 'X_HEC_label.csv'\n",
    "labeled_data = pd.read_csv('X_HEC_label.csv', sep = \",\", index_col = False)\n",
    "labeled_data.head(3)"
   ]
  },
  {
   "cell_type": "code",
   "execution_count": 5,
   "metadata": {},
   "outputs": [
    {
     "data": {
      "text/plain": [
       "2551"
      ]
     },
     "execution_count": 5,
     "metadata": {},
     "output_type": "execute_result"
    }
   ],
   "source": [
    "len(labeled_data)"
   ]
  },
  {
   "cell_type": "markdown",
   "metadata": {},
   "source": [
    "Unlabeled data"
   ]
  },
  {
   "cell_type": "code",
   "execution_count": 6,
   "metadata": {},
   "outputs": [
    {
     "data": {
      "text/html": [
       "<div>\n",
       "<style scoped>\n",
       "    .dataframe tbody tr th:only-of-type {\n",
       "        vertical-align: middle;\n",
       "    }\n",
       "\n",
       "    .dataframe tbody tr th {\n",
       "        vertical-align: top;\n",
       "    }\n",
       "\n",
       "    .dataframe thead th {\n",
       "        text-align: right;\n",
       "    }\n",
       "</style>\n",
       "<table border=\"1\" class=\"dataframe\">\n",
       "  <thead>\n",
       "    <tr style=\"text-align: right;\">\n",
       "      <th></th>\n",
       "      <th>detected_language</th>\n",
       "      <th>hotel_name</th>\n",
       "      <th>inflected</th>\n",
       "      <th>published_date</th>\n",
       "      <th>rating</th>\n",
       "      <th>review</th>\n",
       "      <th>review_id</th>\n",
       "      <th>review_language</th>\n",
       "      <th>reviewer_id</th>\n",
       "      <th>title</th>\n",
       "      <th>tokens</th>\n",
       "      <th>trip_date</th>\n",
       "    </tr>\n",
       "  </thead>\n",
       "  <tbody>\n",
       "    <tr>\n",
       "      <th>0</th>\n",
       "      <td>en</td>\n",
       "      <td>Center Parcs Sherwood Forest</td>\n",
       "      <td>[clean, down, hill, look, corner]</td>\n",
       "      <td>31 octobre 2011</td>\n",
       "      <td>4</td>\n",
       "      <td>cleaness downing down hill  don t look in corn...</td>\n",
       "      <td>119968750</td>\n",
       "      <td>fr</td>\n",
       "      <td>5EB20A7D530F745C9237B7E5D60B61AB</td>\n",
       "      <td>centre parcs sherwood</td>\n",
       "      <td>[cleaness, downing, hill, look, corners]</td>\n",
       "      <td>octobre 2011</td>\n",
       "    </tr>\n",
       "    <tr>\n",
       "      <th>1</th>\n",
       "      <td>en</td>\n",
       "      <td>Center Parcs Sherwood Forest</td>\n",
       "      <td>[centre, parcs, sit, numerous, occasion, quite...</td>\n",
       "      <td>February 14, 2019</td>\n",
       "      <td>3</td>\n",
       "      <td>we ve been to centre parcs sites on numerous o...</td>\n",
       "      <td>652429761</td>\n",
       "      <td>en</td>\n",
       "      <td>E8B0404BB28844D394A367DD969BA417</td>\n",
       "      <td>Nice location, shame about the selfish guest c...</td>\n",
       "      <td>[centre, parcs, sites, numerous, occasions, qu...</td>\n",
       "      <td>February 2019</td>\n",
       "    </tr>\n",
       "    <tr>\n",
       "      <th>2</th>\n",
       "      <td>en</td>\n",
       "      <td>Center Parcs Sherwood Forest</td>\n",
       "      <td>[little, apprehensive, read, recent, review, n...</td>\n",
       "      <td>February 16, 2019</td>\n",
       "      <td>5</td>\n",
       "      <td>i was a little apprehensive reading some of th...</td>\n",
       "      <td>652801542</td>\n",
       "      <td>en</td>\n",
       "      <td>1C083AD19649761DEEF510997AFD804D</td>\n",
       "      <td>Amazing stay!</td>\n",
       "      <td>[little, apprehensive, reading, recent, review...</td>\n",
       "      <td>February 2019</td>\n",
       "    </tr>\n",
       "  </tbody>\n",
       "</table>\n",
       "</div>"
      ],
      "text/plain": [
       "  detected_language                    hotel_name  \\\n",
       "0                en  Center Parcs Sherwood Forest   \n",
       "1                en  Center Parcs Sherwood Forest   \n",
       "2                en  Center Parcs Sherwood Forest   \n",
       "\n",
       "                                           inflected     published_date  \\\n",
       "0                  [clean, down, hill, look, corner]    31 octobre 2011   \n",
       "1  [centre, parcs, sit, numerous, occasion, quite...  February 14, 2019   \n",
       "2  [little, apprehensive, read, recent, review, n...  February 16, 2019   \n",
       "\n",
       "   rating                                             review  review_id  \\\n",
       "0       4  cleaness downing down hill  don t look in corn...  119968750   \n",
       "1       3  we ve been to centre parcs sites on numerous o...  652429761   \n",
       "2       5  i was a little apprehensive reading some of th...  652801542   \n",
       "\n",
       "  review_language                       reviewer_id  \\\n",
       "0              fr  5EB20A7D530F745C9237B7E5D60B61AB   \n",
       "1              en  E8B0404BB28844D394A367DD969BA417   \n",
       "2              en  1C083AD19649761DEEF510997AFD804D   \n",
       "\n",
       "                                               title  \\\n",
       "0                              centre parcs sherwood   \n",
       "1  Nice location, shame about the selfish guest c...   \n",
       "2                                      Amazing stay!   \n",
       "\n",
       "                                              tokens       trip_date  \n",
       "0           [cleaness, downing, hill, look, corners]    octobre 2011  \n",
       "1  [centre, parcs, sites, numerous, occasions, qu...   February 2019  \n",
       "2  [little, apprehensive, reading, recent, review...   February 2019  "
      ]
     },
     "execution_count": 6,
     "metadata": {},
     "output_type": "execute_result"
    }
   ],
   "source": [
    "unlabeled_data = pd.read_json('english_reviews.json') #, sep = \",\", index_col = False)\n",
    "unlabeled_data.head(3)"
   ]
  },
  {
   "cell_type": "code",
   "execution_count": 7,
   "metadata": {},
   "outputs": [
    {
     "data": {
      "text/plain": [
       "49282"
      ]
     },
     "execution_count": 7,
     "metadata": {},
     "output_type": "execute_result"
    }
   ],
   "source": [
    "len(unlabeled_data)"
   ]
  },
  {
   "cell_type": "code",
   "execution_count": 8,
   "metadata": {},
   "outputs": [
    {
     "data": {
      "text/plain": [
       "['cleaness', 'downing', 'hill', 'look', 'corners']"
      ]
     },
     "execution_count": 8,
     "metadata": {},
     "output_type": "execute_result"
    }
   ],
   "source": [
    "unlabeled_data['tokens'][0]"
   ]
  },
  {
   "cell_type": "markdown",
   "metadata": {},
   "source": [
    "## II - Short Exploratory Analysis and Preprocessing"
   ]
  },
  {
   "cell_type": "code",
   "execution_count": 9,
   "metadata": {},
   "outputs": [
    {
     "data": {
      "text/plain": [
       "Index(['group_number', 'review', 'service', 'service_sentiment', 'activities',\n",
       "       'activities_sentiment', 'cost', 'cost_sentiment', 'family',\n",
       "       'family_sentiment', 'food', 'food_sentiment', 'infrastructure',\n",
       "       'infra_sentiment'],\n",
       "      dtype='object')"
      ]
     },
     "execution_count": 9,
     "metadata": {},
     "output_type": "execute_result"
    }
   ],
   "source": [
    "labeled_data.columns"
   ]
  },
  {
   "cell_type": "code",
   "execution_count": 10,
   "metadata": {},
   "outputs": [
    {
     "data": {
      "text/plain": [
       "array([[<matplotlib.axes._subplots.AxesSubplot object at 0x1a26532ba8>,\n",
       "        <matplotlib.axes._subplots.AxesSubplot object at 0x1201c3cc0>],\n",
       "       [<matplotlib.axes._subplots.AxesSubplot object at 0x1a265759b0>,\n",
       "        <matplotlib.axes._subplots.AxesSubplot object at 0x1a266615c0>],\n",
       "       [<matplotlib.axes._subplots.AxesSubplot object at 0x1a2674fd68>,\n",
       "        <matplotlib.axes._subplots.AxesSubplot object at 0x1a26835668>]],\n",
       "      dtype=object)"
      ]
     },
     "execution_count": 10,
     "metadata": {},
     "output_type": "execute_result"
    },
    {
     "data": {
      "image/png": "[encoded data removed]",
      "text/plain": [
       "<Figure size 720x504 with 6 Axes>"
      ]
     },
     "metadata": {
      "needs_background": "light"
     },
     "output_type": "display_data"
    }
   ],
   "source": [
    "labeled_data[['service', 'activities', 'cost', 'family', 'food', 'infrastructure']].hist(alpha = 0.6, figsize=(10, 7))"
   ]
  },
  {
   "cell_type": "code",
   "execution_count": 11,
   "metadata": {},
   "outputs": [
    {
     "data": {
      "text/html": [
       "<div>\n",
       "<style scoped>\n",
       "    .dataframe tbody tr th:only-of-type {\n",
       "        vertical-align: middle;\n",
       "    }\n",
       "\n",
       "    .dataframe tbody tr th {\n",
       "        vertical-align: top;\n",
       "    }\n",
       "\n",
       "    .dataframe thead th {\n",
       "        text-align: right;\n",
       "    }\n",
       "</style>\n",
       "<table border=\"1\" class=\"dataframe\">\n",
       "  <thead>\n",
       "    <tr style=\"text-align: right;\">\n",
       "      <th></th>\n",
       "      <th>group_number</th>\n",
       "      <th>review</th>\n",
       "      <th>service</th>\n",
       "      <th>service_sentiment</th>\n",
       "      <th>activities</th>\n",
       "      <th>activities_sentiment</th>\n",
       "      <th>cost</th>\n",
       "      <th>cost_sentiment</th>\n",
       "      <th>family_sentiment</th>\n",
       "      <th>food</th>\n",
       "      <th>food_sentiment</th>\n",
       "      <th>infrastructure</th>\n",
       "      <th>infra_sentiment</th>\n",
       "    </tr>\n",
       "    <tr>\n",
       "      <th>family</th>\n",
       "      <th></th>\n",
       "      <th></th>\n",
       "      <th></th>\n",
       "      <th></th>\n",
       "      <th></th>\n",
       "      <th></th>\n",
       "      <th></th>\n",
       "      <th></th>\n",
       "      <th></th>\n",
       "      <th></th>\n",
       "      <th></th>\n",
       "      <th></th>\n",
       "      <th></th>\n",
       "    </tr>\n",
       "  </thead>\n",
       "  <tbody>\n",
       "    <tr>\n",
       "      <th>0.0</th>\n",
       "      <td>1222</td>\n",
       "      <td>1222</td>\n",
       "      <td>1222</td>\n",
       "      <td>897</td>\n",
       "      <td>1222</td>\n",
       "      <td>846</td>\n",
       "      <td>1222</td>\n",
       "      <td>808</td>\n",
       "      <td>422</td>\n",
       "      <td>1222</td>\n",
       "      <td>691</td>\n",
       "      <td>1222</td>\n",
       "      <td>972</td>\n",
       "    </tr>\n",
       "    <tr>\n",
       "      <th>1.0</th>\n",
       "      <td>1328</td>\n",
       "      <td>1328</td>\n",
       "      <td>1328</td>\n",
       "      <td>1011</td>\n",
       "      <td>1328</td>\n",
       "      <td>1098</td>\n",
       "      <td>1328</td>\n",
       "      <td>925</td>\n",
       "      <td>1326</td>\n",
       "      <td>1328</td>\n",
       "      <td>836</td>\n",
       "      <td>1328</td>\n",
       "      <td>1104</td>\n",
       "    </tr>\n",
       "    <tr>\n",
       "      <th>9.0</th>\n",
       "      <td>1</td>\n",
       "      <td>1</td>\n",
       "      <td>1</td>\n",
       "      <td>0</td>\n",
       "      <td>1</td>\n",
       "      <td>0</td>\n",
       "      <td>1</td>\n",
       "      <td>1</td>\n",
       "      <td>0</td>\n",
       "      <td>1</td>\n",
       "      <td>1</td>\n",
       "      <td>1</td>\n",
       "      <td>0</td>\n",
       "    </tr>\n",
       "  </tbody>\n",
       "</table>\n",
       "</div>"
      ],
      "text/plain": [
       "        group_number  review  service  service_sentiment  activities  \\\n",
       "family                                                                 \n",
       "0.0             1222    1222     1222                897        1222   \n",
       "1.0             1328    1328     1328               1011        1328   \n",
       "9.0                1       1        1                  0           1   \n",
       "\n",
       "        activities_sentiment  cost  cost_sentiment  family_sentiment  food  \\\n",
       "family                                                                       \n",
       "0.0                      846  1222             808               422  1222   \n",
       "1.0                     1098  1328             925              1326  1328   \n",
       "9.0                        0     1               1                 0     1   \n",
       "\n",
       "        food_sentiment  infrastructure  infra_sentiment  \n",
       "family                                                   \n",
       "0.0                691            1222              972  \n",
       "1.0                836            1328             1104  \n",
       "9.0                  1               1                0  "
      ]
     },
     "execution_count": 11,
     "metadata": {},
     "output_type": "execute_result"
    }
   ],
   "source": [
    "labeled_data.groupby('family').count()"
   ]
  },
  {
   "cell_type": "code",
   "execution_count": 12,
   "metadata": {},
   "outputs": [
    {
     "data": {
      "text/html": [
       "<div>\n",
       "<style scoped>\n",
       "    .dataframe tbody tr th:only-of-type {\n",
       "        vertical-align: middle;\n",
       "    }\n",
       "\n",
       "    .dataframe tbody tr th {\n",
       "        vertical-align: top;\n",
       "    }\n",
       "\n",
       "    .dataframe thead th {\n",
       "        text-align: right;\n",
       "    }\n",
       "</style>\n",
       "<table border=\"1\" class=\"dataframe\">\n",
       "  <thead>\n",
       "    <tr style=\"text-align: right;\">\n",
       "      <th></th>\n",
       "      <th>group_number</th>\n",
       "      <th>review</th>\n",
       "      <th>service</th>\n",
       "      <th>service_sentiment</th>\n",
       "      <th>activities</th>\n",
       "      <th>activities_sentiment</th>\n",
       "      <th>cost</th>\n",
       "      <th>cost_sentiment</th>\n",
       "      <th>family</th>\n",
       "      <th>family_sentiment</th>\n",
       "      <th>food</th>\n",
       "      <th>food_sentiment</th>\n",
       "      <th>infra_sentiment</th>\n",
       "    </tr>\n",
       "    <tr>\n",
       "      <th>infrastructure</th>\n",
       "      <th></th>\n",
       "      <th></th>\n",
       "      <th></th>\n",
       "      <th></th>\n",
       "      <th></th>\n",
       "      <th></th>\n",
       "      <th></th>\n",
       "      <th></th>\n",
       "      <th></th>\n",
       "      <th></th>\n",
       "      <th></th>\n",
       "      <th></th>\n",
       "      <th></th>\n",
       "    </tr>\n",
       "  </thead>\n",
       "  <tbody>\n",
       "    <tr>\n",
       "      <th>-1.0</th>\n",
       "      <td>4</td>\n",
       "      <td>4</td>\n",
       "      <td>4</td>\n",
       "      <td>4</td>\n",
       "      <td>4</td>\n",
       "      <td>0</td>\n",
       "      <td>4</td>\n",
       "      <td>0</td>\n",
       "      <td>4</td>\n",
       "      <td>0</td>\n",
       "      <td>4</td>\n",
       "      <td>0</td>\n",
       "      <td>4</td>\n",
       "    </tr>\n",
       "    <tr>\n",
       "      <th>0.0</th>\n",
       "      <td>713</td>\n",
       "      <td>713</td>\n",
       "      <td>713</td>\n",
       "      <td>496</td>\n",
       "      <td>713</td>\n",
       "      <td>508</td>\n",
       "      <td>713</td>\n",
       "      <td>456</td>\n",
       "      <td>713</td>\n",
       "      <td>466</td>\n",
       "      <td>713</td>\n",
       "      <td>389</td>\n",
       "      <td>241</td>\n",
       "    </tr>\n",
       "    <tr>\n",
       "      <th>1.0</th>\n",
       "      <td>1834</td>\n",
       "      <td>1834</td>\n",
       "      <td>1834</td>\n",
       "      <td>1408</td>\n",
       "      <td>1834</td>\n",
       "      <td>1436</td>\n",
       "      <td>1834</td>\n",
       "      <td>1278</td>\n",
       "      <td>1834</td>\n",
       "      <td>1282</td>\n",
       "      <td>1834</td>\n",
       "      <td>1139</td>\n",
       "      <td>1831</td>\n",
       "    </tr>\n",
       "  </tbody>\n",
       "</table>\n",
       "</div>"
      ],
      "text/plain": [
       "                group_number  review  service  service_sentiment  activities  \\\n",
       "infrastructure                                                                 \n",
       "-1.0                       4       4        4                  4           4   \n",
       " 0.0                     713     713      713                496         713   \n",
       " 1.0                    1834    1834     1834               1408        1834   \n",
       "\n",
       "                activities_sentiment  cost  cost_sentiment  family  \\\n",
       "infrastructure                                                       \n",
       "-1.0                               0     4               0       4   \n",
       " 0.0                             508   713             456     713   \n",
       " 1.0                            1436  1834            1278    1834   \n",
       "\n",
       "                family_sentiment  food  food_sentiment  infra_sentiment  \n",
       "infrastructure                                                           \n",
       "-1.0                           0     4               0                4  \n",
       " 0.0                         466   713             389              241  \n",
       " 1.0                        1282  1834            1139             1831  "
      ]
     },
     "execution_count": 12,
     "metadata": {},
     "output_type": "execute_result"
    }
   ],
   "source": [
    "labeled_data.groupby('infrastructure').count()"
   ]
  },
  {
   "cell_type": "code",
   "execution_count": 13,
   "metadata": {},
   "outputs": [
    {
     "data": {
      "text/html": [
       "<div>\n",
       "<style scoped>\n",
       "    .dataframe tbody tr th:only-of-type {\n",
       "        vertical-align: middle;\n",
       "    }\n",
       "\n",
       "    .dataframe tbody tr th {\n",
       "        vertical-align: top;\n",
       "    }\n",
       "\n",
       "    .dataframe thead th {\n",
       "        text-align: right;\n",
       "    }\n",
       "</style>\n",
       "<table border=\"1\" class=\"dataframe\">\n",
       "  <thead>\n",
       "    <tr style=\"text-align: right;\">\n",
       "      <th></th>\n",
       "      <th>group_number</th>\n",
       "      <th>review</th>\n",
       "      <th>service</th>\n",
       "      <th>service_sentiment</th>\n",
       "      <th>activities</th>\n",
       "      <th>activities_sentiment</th>\n",
       "      <th>cost_sentiment</th>\n",
       "      <th>family</th>\n",
       "      <th>family_sentiment</th>\n",
       "      <th>food</th>\n",
       "      <th>food_sentiment</th>\n",
       "      <th>infrastructure</th>\n",
       "      <th>infra_sentiment</th>\n",
       "    </tr>\n",
       "    <tr>\n",
       "      <th>cost</th>\n",
       "      <th></th>\n",
       "      <th></th>\n",
       "      <th></th>\n",
       "      <th></th>\n",
       "      <th></th>\n",
       "      <th></th>\n",
       "      <th></th>\n",
       "      <th></th>\n",
       "      <th></th>\n",
       "      <th></th>\n",
       "      <th></th>\n",
       "      <th></th>\n",
       "      <th></th>\n",
       "    </tr>\n",
       "  </thead>\n",
       "  <tbody>\n",
       "    <tr>\n",
       "      <th>-1.0</th>\n",
       "      <td>3</td>\n",
       "      <td>3</td>\n",
       "      <td>3</td>\n",
       "      <td>0</td>\n",
       "      <td>3</td>\n",
       "      <td>3</td>\n",
       "      <td>3</td>\n",
       "      <td>3</td>\n",
       "      <td>2</td>\n",
       "      <td>3</td>\n",
       "      <td>1</td>\n",
       "      <td>3</td>\n",
       "      <td>3</td>\n",
       "    </tr>\n",
       "    <tr>\n",
       "      <th>0.0</th>\n",
       "      <td>1285</td>\n",
       "      <td>1285</td>\n",
       "      <td>1285</td>\n",
       "      <td>961</td>\n",
       "      <td>1285</td>\n",
       "      <td>947</td>\n",
       "      <td>470</td>\n",
       "      <td>1285</td>\n",
       "      <td>861</td>\n",
       "      <td>1285</td>\n",
       "      <td>713</td>\n",
       "      <td>1285</td>\n",
       "      <td>1025</td>\n",
       "    </tr>\n",
       "    <tr>\n",
       "      <th>1.0</th>\n",
       "      <td>1263</td>\n",
       "      <td>1263</td>\n",
       "      <td>1263</td>\n",
       "      <td>947</td>\n",
       "      <td>1263</td>\n",
       "      <td>994</td>\n",
       "      <td>1261</td>\n",
       "      <td>1263</td>\n",
       "      <td>885</td>\n",
       "      <td>1263</td>\n",
       "      <td>814</td>\n",
       "      <td>1263</td>\n",
       "      <td>1048</td>\n",
       "    </tr>\n",
       "  </tbody>\n",
       "</table>\n",
       "</div>"
      ],
      "text/plain": [
       "      group_number  review  service  service_sentiment  activities  \\\n",
       "cost                                                                 \n",
       "-1.0             3       3        3                  0           3   \n",
       " 0.0          1285    1285     1285                961        1285   \n",
       " 1.0          1263    1263     1263                947        1263   \n",
       "\n",
       "      activities_sentiment  cost_sentiment  family  family_sentiment  food  \\\n",
       "cost                                                                         \n",
       "-1.0                     3               3       3                 2     3   \n",
       " 0.0                   947             470    1285               861  1285   \n",
       " 1.0                   994            1261    1263               885  1263   \n",
       "\n",
       "      food_sentiment  infrastructure  infra_sentiment  \n",
       "cost                                                   \n",
       "-1.0               1               3                3  \n",
       " 0.0             713            1285             1025  \n",
       " 1.0             814            1263             1048  "
      ]
     },
     "execution_count": 13,
     "metadata": {},
     "output_type": "execute_result"
    }
   ],
   "source": [
    "labeled_data.groupby('cost').count()"
   ]
  },
  {
   "cell_type": "markdown",
   "metadata": {},
   "source": [
    "To simplify the following procedure, we are going to remove the bad-annotated reviews with -1 and 9 for columns 'family', 'infrastructure' and 'cost'."
   ]
  },
  {
   "cell_type": "code",
   "execution_count": 14,
   "metadata": {},
   "outputs": [],
   "source": [
    "labeled_data = labeled_data[labeled_data.infrastructure != -1]\n",
    "labeled_data = labeled_data[labeled_data.cost != -1]\n",
    "labeled_data = labeled_data[labeled_data.family != 9]\n",
    "labeled_data = labeled_data.reset_index(drop = True)"
   ]
  },
  {
   "cell_type": "code",
   "execution_count": 15,
   "metadata": {},
   "outputs": [
    {
     "data": {
      "text/plain": [
       "2543"
      ]
     },
     "execution_count": 15,
     "metadata": {},
     "output_type": "execute_result"
    }
   ],
   "source": [
    "len(labeled_data)"
   ]
  },
  {
   "cell_type": "markdown",
   "metadata": {},
   "source": [
    "## III - Active Learning and Self-Training\n",
    "Let's explain the strategy :\n",
    "1. We split labeled data in two groups : a training labeled dataset and a test labeled dataset. \n",
    "2. We use the training labeled dataset to train a SVM classifier (or other classifiers).\n",
    "3. We test the trained model on our test labeled dataset and analyze performances.\n",
    "4. If performances are good enough, we can stop the process. Otherwise, we craftily label unlabeled samples and we iterate this strategy from 2 until good enough performances. \n",
    "\n",
    "An important question : What does \"we craftily label unlabeld samples\" mean ?\n",
    "\n",
    "Case 1 : If a label is predict with very high probability (or equivalently with very low probability in a binary classification case), we look carefully to confirm the label. Then, we add the labeled sample in the training labeled dataset for the next iterations.\n",
    "\n",
    "Case 2 : If a label is predict with medium probability (around 0.5), we consider it as a local model weakness because of its indecision. Thus, we label the sample and integrate the new labeled sample in the training labeled dataset for the next iterations.\n",
    "\n",
    "NB : At each iteration, we randomly choose some samples belonging to cases 1 and 2 for manual labelling. A limit/difficulty concerns the \"random choice\" of samples to label, because we have not prior knowledge about true labels distribution in the unlabeled dataset.\n",
    "\n",
    "NB : You have to replace sentiments -1 by another value, 2 for instance, because we will use the value -1 to mean \"unlabeled sample\" in the label propagation process.\n",
    "\n",
    "Let's try with column \"cost\" binary classification task ! It will be the same procedure for all other labels.\n",
    "\n",
    "### 1). Text preprocessing"
   ]
  },
  {
   "cell_type": "code",
   "execution_count": 16,
   "metadata": {},
   "outputs": [],
   "source": [
    "english_stopwords = [\"a\", \"about\", \"above\", \"above\", \"across\", \"after\", \"afterwards\", \"again\", \"against\", \"all\", \"almost\", \"alone\", \"along\", \"already\", \"also\",\"although\",\"always\",\"am\",\"among\", \"amongst\", \"amoungst\", \"amount\",  \"an\", \"and\", \"another\", \"any\",\"anyhow\",\"anyone\",\"anything\",\"anyway\", \"anywhere\", \"are\", \"around\", \"as\",  \"at\", \"back\",\"be\",\"became\", \"because\",\"become\",\"becomes\", \"becoming\", \"been\", \"before\", \"beforehand\", \"behind\", \"being\", \"below\", \"beside\", \"besides\", \"between\", \"beyond\", \"bill\", \"both\", \"bottom\",\"but\", \"by\", \"call\", \"can\", \"cannot\", \"cant\", \"co\", \"con\", \"could\", \"couldnt\", \"cry\", \"de\", \"describe\", \"detail\", \"do\", \"done\", \"down\", \"due\", \"during\", \"each\", \"eg\", \"eight\", \"either\", \"eleven\",\"else\", \"elsewhere\", \"empty\", \"enough\", \"etc\", \"even\", \"ever\", \"every\", \"everyone\", \"everything\", \"everywhere\", \"except\", \"few\", \"fifteen\", \"fify\", \"fill\", \"find\", \"fire\", \"first\", \"five\", \"for\", \"former\", \"formerly\", \"forty\", \"found\", \"four\", \"from\", \"front\", \"full\", \"further\", \"get\", \"give\", \"good\", \"great\", \"woburn\" \"go\", \"had\", \"has\", \"hasnt\", \"have\", \"he\", \"hence\", \"her\", \"here\", \"hereafter\", \"hereby\", \"herein\", \"hereupon\", \"hers\", \"herself\", \"him\", \"himself\", \"his\", \"how\", \"however\", \"hundred\", \"ie\", \"if\", \"in\", \"inc\", \"indeed\", \"interest\", \"into\", \"is\", \"it\", \"its\", \"itself\", \"keep\", \"last\", \"latter\", \"latterly\", \"least\", \"less\", \"ltd\", \"made\", \"many\", \"may\", \"me\", \"meanwhile\", \"might\", \"mill\", \"mine\", \"more\", \"moreover\", \"most\", \"mostly\", \"move\", \"much\", \"must\", \"my\", \"myself\", \"name\", \"namely\", \"neither\", \"never\", \"nevertheless\", \"next\", \"nine\", \"no\", \"nobody\", \"none\", \"noone\", \"nor\", \"not\", \"nothing\", \"now\", \"nowhere\", \"of\", \"off\", \"often\", \"on\", \"once\", \"one\", \"only\", \"onto\", \"or\", \"other\", \"others\", \"otherwise\", \"our\", \"ours\", \"ourselves\", \"out\", \"over\", \"own\",\"part\", \"per\", \"perhaps\", \"please\", \"put\", \"rather\", \"re\", \"same\", \"see\", \"seem\", \"seemed\", \"seeming\", \"seems\", \"serious\", \"several\", \"she\", \"should\", \"show\", \"side\", \"since\", \"sincere\", \"six\", \"sixty\", \"so\", \"some\", \"somehow\", \"someone\", \"something\", \"sometime\", \"sometimes\", \"somewhere\", \"still\", \"such\", \"system\", \"take\", \"ten\", \"than\", \"that\", \"the\", \"their\", \"them\", \"themselves\", \"then\", \"thence\", \"there\", \"thereafter\", \"thereby\", \"therefore\", \"therein\", \"thereupon\", \"these\", \"they\", \"thickv\", \"thin\", \"third\", \"this\", \"those\", \"though\", \"three\", \"through\", \"throughout\", \"thru\", \"thus\", \"to\", \"together\", \"too\", \"top\", \"toward\", \"towards\", \"twelve\", \"twenty\", \"two\", \"un\", \"under\", \"until\", \"up\", \"upon\", \"us\", \"very\", \"via\", \"was\", \"we\", \"well\", \"were\", \"what\", \"whatever\", \"when\", \"whence\", \"whenever\", \"where\", \"whereafter\", \"whereas\", \"whereby\", \"wherein\", \"whereupon\", \"wherever\", \"whether\", \"which\", \"while\", \"whither\", \"who\", \"whoever\", \"whole\", \"whom\", \"whose\", \"why\", \"will\", \"with\", \"within\", \"without\", \"would\", \"yet\", \"you\", \"your\", \"yours\", \"yourself\", \"yourselves\", \"the\"]"
   ]
  },
  {
   "cell_type": "code",
   "execution_count": 17,
   "metadata": {},
   "outputs": [],
   "source": [
    "def character_replacement(input_string):\n",
    "    character_mapping = {\"\\\\u00e9\": \"é\",\n",
    "                        \"\\\\u2019\": \"'\",\n",
    "                        \"\\\\\": \"\",\n",
    "                        \"\\\\u00fb\": \"û\",\n",
    "                        \"u00e8\": \"è\",\n",
    "                        \"u00e0\": \"à\",\n",
    "                        \"u00f4\": \"ô\",\n",
    "                        \"u00ea\": \"ê\",\n",
    "                        \"u00ee\": \"i\",\n",
    "                        \"u00fb\": \"û\",\n",
    "                        \"u2018\": \"'\",\n",
    "                        \"u00e2\": \"a\",\n",
    "                        \"u00ab\": \"'\",\n",
    "                        \"u00bb\": \"'\",\n",
    "                        \"u00e7\": \"ç\",\n",
    "                        \"u00e2\": \"â\",\n",
    "                        \"u00f9\": \"ù\",\n",
    "                        \"u00a3\": \"£\",\n",
    "                        }\n",
    "\n",
    "\n",
    "    for character in character_mapping:\n",
    "        input_string = input_string.replace(character, character_mapping[character])\n",
    "\n",
    "    input_string = input_string.lower()\n",
    "\n",
    "    characters_to_remove = [\"@\", \"/\", \"#\", \".\", \",\", \"!\", \"?\", \"(\", \")\", \"-\", \"_\", \"’\", \"'\", \"\\\"\", \":\", \"1\", \"2\", \"3\", \"4\", \"5\", \"6\", \"7\", \"8\", \"9\", \"0\"]\n",
    "    transformation_dict = {initial: \" \" for initial in characters_to_remove}\n",
    "    no_punctuation_reviews = input_string.translate(str.maketrans(transformation_dict))\n",
    "\n",
    "    return no_punctuation_reviews"
   ]
  },
  {
   "cell_type": "code",
   "execution_count": 18,
   "metadata": {},
   "outputs": [],
   "source": [
    "def tokenize(input_string):\n",
    "    return word_tokenize(input_string)\n",
    "\n",
    "def remove_stop_words(input_tokens, english_stopwords = english_stopwords):\n",
    "    return [token for token in input_tokens if token not in english_stopwords]\n",
    "\n",
    "lemmatizer = WordNetLemmatizer()\n",
    "def lemmatize(tokens, lemmatizer = lemmatizer):\n",
    "    tokens = [lemmatizer.lemmatize(lemmatizer.lemmatize(lemmatizer.lemmatize(token,pos='a'),pos='v'),pos='n') for token in tokens]\n",
    "    return tokens"
   ]
  },
  {
   "cell_type": "code",
   "execution_count": 19,
   "metadata": {},
   "outputs": [],
   "source": [
    "labeled_data['review'] = labeled_data['review'].apply(lambda x: character_replacement(x))\n",
    "labeled_data['tokens'] = labeled_data['review'].apply(lambda x: tokenize(x))\n",
    "labeled_data['tokens'] = labeled_data['tokens'].apply(lambda token_list: [meaningful_word for meaningful_word in token_list if len(meaningful_word) > 3])\n",
    "labeled_data['tokens'] = labeled_data['tokens'].apply(lambda x: remove_stop_words(x))"
   ]
  },
  {
   "cell_type": "code",
   "execution_count": 20,
   "metadata": {},
   "outputs": [
    {
     "data": {
      "text/html": [
       "<div>\n",
       "<style scoped>\n",
       "    .dataframe tbody tr th:only-of-type {\n",
       "        vertical-align: middle;\n",
       "    }\n",
       "\n",
       "    .dataframe tbody tr th {\n",
       "        vertical-align: top;\n",
       "    }\n",
       "\n",
       "    .dataframe thead th {\n",
       "        text-align: right;\n",
       "    }\n",
       "</style>\n",
       "<table border=\"1\" class=\"dataframe\">\n",
       "  <thead>\n",
       "    <tr style=\"text-align: right;\">\n",
       "      <th></th>\n",
       "      <th>group_number</th>\n",
       "      <th>review</th>\n",
       "      <th>service</th>\n",
       "      <th>service_sentiment</th>\n",
       "      <th>activities</th>\n",
       "      <th>activities_sentiment</th>\n",
       "      <th>cost</th>\n",
       "      <th>cost_sentiment</th>\n",
       "      <th>family</th>\n",
       "      <th>family_sentiment</th>\n",
       "      <th>food</th>\n",
       "      <th>food_sentiment</th>\n",
       "      <th>infrastructure</th>\n",
       "      <th>infra_sentiment</th>\n",
       "      <th>tokens</th>\n",
       "    </tr>\n",
       "  </thead>\n",
       "  <tbody>\n",
       "    <tr>\n",
       "      <th>0</th>\n",
       "      <td>groupe_1</td>\n",
       "      <td>we are veterans to the center parcs holiday an...</td>\n",
       "      <td>1.0</td>\n",
       "      <td>-1.0</td>\n",
       "      <td>1.0</td>\n",
       "      <td>1.0</td>\n",
       "      <td>1.0</td>\n",
       "      <td>-1.0</td>\n",
       "      <td>0.0</td>\n",
       "      <td>NaN</td>\n",
       "      <td>1.0</td>\n",
       "      <td>-1.0</td>\n",
       "      <td>1.0</td>\n",
       "      <td>-1.0</td>\n",
       "      <td>[veterans, center, parcs, holiday, visited, on...</td>\n",
       "    </tr>\n",
       "    <tr>\n",
       "      <th>1</th>\n",
       "      <td>groupe_1</td>\n",
       "      <td>lodge was fine  nice setting  centre is well l...</td>\n",
       "      <td>1.0</td>\n",
       "      <td>-1.0</td>\n",
       "      <td>1.0</td>\n",
       "      <td>1.0</td>\n",
       "      <td>1.0</td>\n",
       "      <td>-1.0</td>\n",
       "      <td>0.0</td>\n",
       "      <td>NaN</td>\n",
       "      <td>0.0</td>\n",
       "      <td>NaN</td>\n",
       "      <td>1.0</td>\n",
       "      <td>1.0</td>\n",
       "      <td>[lodge, fine, nice, setting, centre, laid, eas...</td>\n",
       "    </tr>\n",
       "    <tr>\n",
       "      <th>2</th>\n",
       "      <td>groupe_1</td>\n",
       "      <td>after the madness of christmas  it was a well ...</td>\n",
       "      <td>1.0</td>\n",
       "      <td>1.0</td>\n",
       "      <td>0.0</td>\n",
       "      <td>NaN</td>\n",
       "      <td>0.0</td>\n",
       "      <td>NaN</td>\n",
       "      <td>1.0</td>\n",
       "      <td>1.0</td>\n",
       "      <td>0.0</td>\n",
       "      <td>NaN</td>\n",
       "      <td>0.0</td>\n",
       "      <td>NaN</td>\n",
       "      <td>[madness, christmas, earned, enjoyable, break,...</td>\n",
       "    </tr>\n",
       "  </tbody>\n",
       "</table>\n",
       "</div>"
      ],
      "text/plain": [
       "  group_number                                             review  service  \\\n",
       "0     groupe_1  we are veterans to the center parcs holiday an...      1.0   \n",
       "1     groupe_1  lodge was fine  nice setting  centre is well l...      1.0   \n",
       "2     groupe_1  after the madness of christmas  it was a well ...      1.0   \n",
       "\n",
       "  service_sentiment  activities  activities_sentiment  cost  cost_sentiment  \\\n",
       "0              -1.0         1.0                   1.0   1.0            -1.0   \n",
       "1              -1.0         1.0                   1.0   1.0            -1.0   \n",
       "2               1.0         0.0                   NaN   0.0             NaN   \n",
       "\n",
       "   family  family_sentiment  food food_sentiment  infrastructure  \\\n",
       "0     0.0               NaN   1.0           -1.0             1.0   \n",
       "1     0.0               NaN   0.0            NaN             1.0   \n",
       "2     1.0               1.0   0.0            NaN             0.0   \n",
       "\n",
       "   infra_sentiment                                             tokens  \n",
       "0             -1.0  [veterans, center, parcs, holiday, visited, on...  \n",
       "1              1.0  [lodge, fine, nice, setting, centre, laid, eas...  \n",
       "2              NaN  [madness, christmas, earned, enjoyable, break,...  "
      ]
     },
     "execution_count": 20,
     "metadata": {},
     "output_type": "execute_result"
    }
   ],
   "source": [
    "labeled_data.head(3)"
   ]
  },
  {
   "cell_type": "markdown",
   "metadata": {},
   "source": [
    "### 2). Building datasets"
   ]
  },
  {
   "cell_type": "code",
   "execution_count": 21,
   "metadata": {},
   "outputs": [],
   "source": [
    "training_set = {'tokens' : list(labeled_data['tokens'])[:2000],\n",
    "                'labels' : list(labeled_data['cost'])[:2000]}\n",
    "training_set = pd.DataFrame(training_set)\n",
    "\n",
    "\n",
    "test_set = {'tokens' : list(labeled_data['tokens'])[2000:],\n",
    "            'labels' : list(labeled_data['cost'])[2000:]}\n",
    "test_set = pd.DataFrame(test_set)"
   ]
  },
  {
   "cell_type": "code",
   "execution_count": 22,
   "metadata": {},
   "outputs": [
    {
     "data": {
      "text/html": [
       "<div>\n",
       "<style scoped>\n",
       "    .dataframe tbody tr th:only-of-type {\n",
       "        vertical-align: middle;\n",
       "    }\n",
       "\n",
       "    .dataframe tbody tr th {\n",
       "        vertical-align: top;\n",
       "    }\n",
       "\n",
       "    .dataframe thead th {\n",
       "        text-align: right;\n",
       "    }\n",
       "</style>\n",
       "<table border=\"1\" class=\"dataframe\">\n",
       "  <thead>\n",
       "    <tr style=\"text-align: right;\">\n",
       "      <th></th>\n",
       "      <th>tokens</th>\n",
       "      <th>labels</th>\n",
       "    </tr>\n",
       "  </thead>\n",
       "  <tbody>\n",
       "    <tr>\n",
       "      <th>0</th>\n",
       "      <td>[veterans, center, parcs, holiday, visited, on...</td>\n",
       "      <td>1.0</td>\n",
       "    </tr>\n",
       "    <tr>\n",
       "      <th>1</th>\n",
       "      <td>[lodge, fine, nice, setting, centre, laid, eas...</td>\n",
       "      <td>1.0</td>\n",
       "    </tr>\n",
       "    <tr>\n",
       "      <th>2</th>\n",
       "      <td>[madness, christmas, earned, enjoyable, break,...</td>\n",
       "      <td>0.0</td>\n",
       "    </tr>\n",
       "    <tr>\n",
       "      <th>3</th>\n",
       "      <td>[visited, centre, parcs, times, past, years, t...</td>\n",
       "      <td>0.0</td>\n",
       "    </tr>\n",
       "    <tr>\n",
       "      <th>4</th>\n",
       "      <td>[stayed, family, group, january, january, days...</td>\n",
       "      <td>1.0</td>\n",
       "    </tr>\n",
       "  </tbody>\n",
       "</table>\n",
       "</div>"
      ],
      "text/plain": [
       "                                              tokens  labels\n",
       "0  [veterans, center, parcs, holiday, visited, on...     1.0\n",
       "1  [lodge, fine, nice, setting, centre, laid, eas...     1.0\n",
       "2  [madness, christmas, earned, enjoyable, break,...     0.0\n",
       "3  [visited, centre, parcs, times, past, years, t...     0.0\n",
       "4  [stayed, family, group, january, january, days...     1.0"
      ]
     },
     "execution_count": 22,
     "metadata": {},
     "output_type": "execute_result"
    }
   ],
   "source": [
    "semi_supervised_data = {'tokens' : list(training_set['tokens']) + list(unlabeled_data['tokens']),\n",
    "                        'labels' : list(training_set['labels']) + [-1]*len(unlabeled_data)}\n",
    "\n",
    "# We use -1 to encode unlabeled samples\n",
    "\n",
    "semi_supervised_data = pd.DataFrame(semi_supervised_data)\n",
    "semi_supervised_data.head()"
   ]
  },
  {
   "cell_type": "markdown",
   "metadata": {},
   "source": [
    "### 3). Naïve document embeddings with word2vec"
   ]
  },
  {
   "cell_type": "code",
   "execution_count": 22,
   "metadata": {},
   "outputs": [],
   "source": [
    "w2v = KeyedVectors.load_word2vec_format(path_to_google_vectors + 'GoogleNews-vectors-negative300.bin', binary = True)"
   ]
  },
  {
   "cell_type": "code",
   "execution_count": 23,
   "metadata": {},
   "outputs": [],
   "source": [
    "def my_vector_getter(word, wv = w2v) :\n",
    "    # returns the vector of a word\n",
    "    try:\n",
    "        word_array = wv[word].reshape(1,-1)\n",
    "        return word_array\n",
    "    except :\n",
    "        # if word not in google word2vec vocabulary, return vector with low norm\n",
    "        return np.zeros((1,300))"
   ]
  },
  {
   "cell_type": "code",
   "execution_count": 24,
   "metadata": {},
   "outputs": [],
   "source": [
    "def document_embedding(text, wv = w2v) :\n",
    "    # returns naïve document embedding\n",
    "    embeddings = np.concatenate([my_vector_getter(token) for token in text])\n",
    "    centroid = np.mean(embeddings, axis=0).reshape(1,-1)\n",
    "    return centroid"
   ]
  },
  {
   "cell_type": "code",
   "execution_count": 26,
   "metadata": {},
   "outputs": [
    {
     "data": {
      "text/plain": [
       "(1, 300)"
      ]
     },
     "execution_count": 26,
     "metadata": {},
     "output_type": "execute_result"
    }
   ],
   "source": [
    "document_embedding(semi_supervised_data['tokens'][0]).shape"
   ]
  },
  {
   "cell_type": "code",
   "execution_count": 25,
   "metadata": {},
   "outputs": [],
   "source": [
    "X = np.zeros((len(semi_supervised_data), 300))\n",
    "\n",
    "for i in range(len(semi_supervised_data)) :\n",
    "    X[i] = document_embedding(semi_supervised_data['tokens'][i])\n",
    "    \n",
    "X_values = X.values\n",
    "X_train = X_values[:2000]\n",
    "Y_train = training_set['labels'].values"
   ]
  },
  {
   "cell_type": "markdown",
   "metadata": {},
   "source": [
    "### 4). Label propagation\n",
    "Explore different hyperparameters of LabelPropagation algorithms to improve performances ! Training may be too long for the course with based-word2vec representation, so you can perform PCA :"
   ]
  },
  {
   "cell_type": "code",
   "execution_count": 26,
   "metadata": {},
   "outputs": [],
   "source": [
    "pca = PCA(n_components = 50)\n",
    "X_train_pca = pca.fit_transform(X_train)"
   ]
  },
  {
   "cell_type": "code",
   "execution_count": 35,
   "metadata": {},
   "outputs": [
    {
     "data": {
      "text/plain": [
       "SVC(C=1.0, cache_size=200, class_weight=None, coef0=0.0,\n",
       "  decision_function_shape='ovr', degree=3, gamma='auto_deprecated',\n",
       "  kernel='rbf', max_iter=-1, probability=False, random_state=None,\n",
       "  shrinking=True, tol=0.001, verbose=False)"
      ]
     },
     "execution_count": 35,
     "metadata": {},
     "output_type": "execute_result"
    }
   ],
   "source": [
    "svm = SVC()\n",
    "svm.fit(X_train_pca, Y_train)"
   ]
  },
  {
   "cell_type": "code",
   "execution_count": 37,
   "metadata": {},
   "outputs": [
    {
     "data": {
      "text/plain": [
       "(2000, 50)"
      ]
     },
     "execution_count": 37,
     "metadata": {},
     "output_type": "execute_result"
    }
   ],
   "source": [
    "X_train_pca.shape"
   ]
  },
  {
   "cell_type": "markdown",
   "metadata": {},
   "source": [
    "Evaluate on test set"
   ]
  },
  {
   "cell_type": "code",
   "execution_count": 39,
   "metadata": {},
   "outputs": [],
   "source": [
    "X_test = np.zeros((len(test_set), 300))\n",
    "\n",
    "for i in range(len(test_set)) :\n",
    "    X_test[i] = document_embedding(test_set['tokens'][i])\n",
    "    \n",
    "X_test_pca = pca.transform(X_test)\n",
    "Y_test = test_set['labels'].values"
   ]
  },
  {
   "cell_type": "code",
   "execution_count": 40,
   "metadata": {},
   "outputs": [
    {
     "name": "stdout",
     "output_type": "stream",
     "text": [
      "              precision    recall  f1-score   support\n",
      "\n",
      "         0.0       0.54      0.95      0.69       258\n",
      "         1.0       0.85      0.28      0.42       285\n",
      "\n",
      "   micro avg       0.60      0.60      0.60       543\n",
      "   macro avg       0.70      0.61      0.56       543\n",
      "weighted avg       0.70      0.60      0.55       543\n",
      "\n"
     ]
    }
   ],
   "source": [
    "Y_pred = svm.predict(X_test_pca)\n",
    "# target_names = [0.0, 1.0]\n",
    "print(classification_report(Y_test, Y_pred)) #, target_names = target_names))"
   ]
  },
  {
   "cell_type": "markdown",
   "metadata": {},
   "source": [
    "if we consider that performances are not good enough, we pass to the following section !\n",
    "### 5). Labelling and iterating\n",
    "Let's take N random reviews and observe predictions ! We will show you with 5 samples but do it with far more samples :"
   ]
  },
  {
   "cell_type": "code",
   "execution_count": null,
   "metadata": {},
   "outputs": [],
   "source": [
    "svm.predict_proba(X_values[3000:3005])"
   ]
  },
  {
   "cell_type": "code",
   "execution_count": null,
   "metadata": {},
   "outputs": [],
   "source": [
    "semi_supervised_data.iloc[[3000:3005]]"
   ]
  },
  {
   "cell_type": "markdown",
   "metadata": {},
   "source": [
    "Since we are satisfied about performances, we are going to label :"
   ]
  },
  {
   "cell_type": "code",
   "execution_count": null,
   "metadata": {},
   "outputs": [],
   "source": [
    "semi_supervised_data.iloc[3000]['labels'] = \n",
    "semi_supervised_data.iloc[3001]['labels'] =\n",
    "semi_supervised_data.iloc[3002]['labels'] =\n",
    "semi_supervised_data.iloc[3003]['labels'] =\n",
    "semi_supervised_data.iloc[3004]['labels'] ="
   ]
  },
  {
   "cell_type": "markdown",
   "metadata": {},
   "source": [
    "Let's retrain with new labels :"
   ]
  },
  {
   "cell_type": "code",
   "execution_count": null,
   "metadata": {},
   "outputs": [],
   "source": [
    "X_train = np.concatenate((X_train, X_values[3000:3005]), axis = 0)\n",
    "Y_train = np.concatenate((Y_train, semi_supervised_data['labels'][3000:3005].values), axis = 0)\n",
    "\n",
    "svm = SVC()\n",
    "svm.fit(X_train_pca, Y_train)"
   ]
  },
  {
   "cell_type": "markdown",
   "metadata": {},
   "source": [
    "Evaluate :"
   ]
  },
  {
   "cell_type": "code",
   "execution_count": null,
   "metadata": {},
   "outputs": [],
   "source": [
    "Y_pred = svm.predict(X_test_pca)\n",
    "#target_names = [0.0, 1.0]\n",
    "print(classification_report(Y_test, Y_pred) #, target_names = target_names))"
   ]
  },
  {
   "cell_type": "markdown",
   "metadata": {},
   "source": [
    "Observe and label :"
   ]
  },
  {
   "cell_type": "code",
   "execution_count": null,
   "metadata": {},
   "outputs": [],
   "source": [
    "BEGIN = \n",
    "WINDOW = 20\n",
    "\n",
    "svm.predict_proba(X_values[BEGIN:BEGIN+WINDOW])"
   ]
  },
  {
   "cell_type": "code",
   "execution_count": null,
   "metadata": {},
   "outputs": [],
   "source": [
    "semi_supervised_data.iloc[[BEGIN:BEGIN+WINDOW]]"
   ]
  },
  {
   "cell_type": "code",
   "execution_count": null,
   "metadata": {},
   "outputs": [],
   "source": [
    "semi_supervised_data.iloc[BEGIN]['labels'] = \n",
    "semi_supervised_data.iloc[BEGIN+1]['labels'] =\n",
    "semi_supervised_data.iloc[BEGIN+2]['labels'] =\n",
    "semi_supervised_data.iloc[BEGIN+3]['labels'] =\n",
    "semi_supervised_data.iloc[BEGIN+4]['labels'] =\n",
    "# ...\n",
    "semi_supervised_data.iloc[BEGIN+WINDOW]['labels'] ="
   ]
  },
  {
   "cell_type": "markdown",
   "metadata": {},
   "source": [
    "And restart procedure until good enough performances..."
   ]
  },
  {
   "cell_type": "code",
   "execution_count": null,
   "metadata": {},
   "outputs": [],
   "source": [
    "X_train = np.concatenate((X_train, X_values[BEGIN:BEGIN+WINDOW]), axis = 0)\n",
    "Y_train = np.concatenate((Y_train, semi_supervised_data['labels'][BEGIN:BEGIN+WINDOW].values), axis = 0)\n",
    "\n",
    "svm = SVC()\n",
    "svm.fit(X_train_pca, Y_train)"
   ]
  },
  {
   "cell_type": "markdown",
   "metadata": {},
   "source": [
    "..."
   ]
  },
  {
   "cell_type": "code",
   "execution_count": null,
   "metadata": {},
   "outputs": [],
   "source": []
  },
  {
   "cell_type": "code",
   "execution_count": null,
   "metadata": {},
   "outputs": [],
   "source": []
  },
  {
   "cell_type": "markdown",
   "metadata": {},
   "source": [
    "### 6). Sentiment Analysis : How to compute a simple sentiment score ?\n",
    "\n",
    "#### (i) You have two classes : Positive and Negative sentiments\n",
    "\n",
    "For a review d, we want to define a continuous score(d) in [-1 ; 1] according to the following simple rules :\n",
    "- Near to 1 if very positive\n",
    "- Near to -1 if very negative\n",
    "- Near to 0 if it is as negative as positive\n",
    "\n",
    "Set $P_{positive}$ predicted probability to belong to Positive class, $P_{negative}$ predicted probability to belong to Negative class, a simple approach is :\n",
    "\n",
    "score(d) := $P_{positive}$ - $P_{negative}$ = $\\frac{P_{positive} - P_{negative}}{P_{positive} + P_{negative}}$ = $-1$ $+$ $2 \\times P_{positive}$ which is equivalent to score(d) := $P_{positive}$ if we would want to define a score in [0 ; 1].\n",
    "\n",
    "#### (ii) You have three classes : Positive, Negative and Neutral sentiments\n",
    "\n",
    "In a similar way to the previous approach with $P_{positive}$, $P_{negative}$ and $P_{neutral}$ for a score defined in [-1 ; 1] :\n",
    "\n",
    "score(d) := $P_{positive}$ - $P_{negative}$ = $\\frac{P_{positive} - P_{negative}}{P_{positive} + P_{neutral} + P_{negative}}$ where $P_{neutral}$ plays a role of feelings attenuation.\n",
    "\n",
    "You can now perform the label propapagation for sentiment analysis with continuous score or discrete classes. Let's try ! "
   ]
  },
  {
   "cell_type": "code",
   "execution_count": null,
   "metadata": {},
   "outputs": [],
   "source": []
  },
  {
   "cell_type": "code",
   "execution_count": null,
   "metadata": {},
   "outputs": [],
   "source": []
  },
  {
   "cell_type": "markdown",
   "metadata": {},
   "source": [
    "### 7). Session Report\n",
    "\n",
    "We have worked with label propagation algorithm and naïve document embeddings with word2vec, you are free to use label spreading algorithm in sklearn, S3VM and other semi-supervised learning algorithm (look at https://github.com/tmadl/semisup-learn) or explore other document/word representations to determine the better suited method for our problem. \n",
    "\n",
    "Keep in mind that data sciences need empirical approaches in application !\n",
    "\n",
    "References :\n",
    "- https://scikit-learn.org/stable/modules/label_propagation.html#semi-supervised\n",
    "- https://scikit-learn.org/stable/modules/generated/sklearn.semi_supervised.LabelPropagation.html#sklearn.semi_supervised.LabelPropagation\n",
    "- https://scikit-learn.org/stable/modules/generated/sklearn.semi_supervised.LabelSpreading.html#sklearn.semi_supervised.LabelSpreading\n",
    "- http://pages.cs.wisc.edu/~jerryzhu/pub/CMU-CALD-02-107.pdf\n",
    "- http://citeseer.ist.psu.edu/viewdoc/summary?doi=10.1.1.115.3219"
   ]
  }
 ],
 "metadata": {
  "kernelspec": {
   "display_name": "Python 3",
   "language": "python",
   "name": "python3"
  },
  "language_info": {
   "codemirror_mode": {
    "name": "ipython",
    "version": 3
   },
   "file_extension": ".py",
   "mimetype": "text/x-python",
   "name": "python",
   "nbconvert_exporter": "python",
   "pygments_lexer": "ipython3",
   "version": "3.7.1"
  }
 },
 "nbformat": 4,
 "nbformat_minor": 2
}
