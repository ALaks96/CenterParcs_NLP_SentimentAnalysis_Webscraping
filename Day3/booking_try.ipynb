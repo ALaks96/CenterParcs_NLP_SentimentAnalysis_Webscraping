{
 "cells": [
  {
   "cell_type": "markdown",
   "metadata": {},
   "source": [
    "# Webscrapping Centerparcs Le Bois aux Daims"
   ]
  },
  {
   "cell_type": "markdown",
   "metadata": {},
   "source": [
    "## 1. Importing packages "
   ]
  },
  {
   "cell_type": "code",
   "execution_count": 1,
   "metadata": {},
   "outputs": [],
   "source": [
    "import scrapy\n",
    "from scrapy.crawler import CrawlerProcess\n",
    "from scrapy.spiders import CrawlSpider, Rule\n",
    "from scrapy.selector import Selector\n",
    "import sys\n",
    "from scrapy.http import Request\n",
    "from scrapy.linkextractors import LinkExtractor\n",
    "import json\n",
    "import logging\n",
    "import pandas as pd"
   ]
  },
  {
   "cell_type": "markdown",
   "metadata": {},
   "source": [
    "## 2. Defining class and functions"
   ]
  },
  {
   "cell_type": "code",
   "execution_count": 14,
   "metadata": {},
   "outputs": [],
   "source": [
    "class HotelreviewsItem(scrapy.Item):\n",
    "\n",
    "    reviewer_id = scrapy.Field()\n",
    "    rating = scrapy.Field()\n",
    "    review = scrapy.Field()\n",
    "    title = scrapy.Field()\n",
    "    trip_date = scrapy.Field()\n",
    "    trip_type = scrapy.Field()\n",
    "    published_date = scrapy.Field()\n",
    "    hotel_type = scrapy.Field()\n",
    "    hotel_name = scrapy.Field()\n",
    "    reviewer_id = scrapy.Field()\n",
    "    review_language = scrapy.Field()\n",
    "    review_id = scrapy.Field()\n",
    "    price_range = scrapy.Field()\n"
   ]
  },
  {
   "cell_type": "code",
   "execution_count": 12,
   "metadata": {},
   "outputs": [],
   "source": [
    "def user_info_splitter(raw_user_info):\n",
    "    \"\"\"\n",
    "\n",
    "    :param raw_user_info:\n",
    "    :return:\n",
    "    \"\"\"\n",
    "\n",
    "    user_info = {}\n",
    "\n",
    "    splited_info = raw_user_info.split()\n",
    "    for element in splited_info:\n",
    "        converted_element = get_convertible_elements_as_dic(element)\n",
    "        if converted_element:\n",
    "            user_info[converted_element[0]] = converted_element[1]\n",
    "\n",
    "    return user_info"
   ]
  },
  {
   "cell_type": "markdown",
   "metadata": {},
   "source": [
    "## 3. JSON Pipeline"
   ]
  },
  {
   "cell_type": "code",
   "execution_count": 13,
   "metadata": {},
   "outputs": [],
   "source": [
    "class JsonWriterPipeline(object):\n",
    "\n",
    "    def open_spider(self, spider):\n",
    "        self.file = open('booking.jl', 'w')\n",
    "\n",
    "    def close_spider(self, spider):\n",
    "        self.file.close()\n",
    "\n",
    "    def process_item(self, item, spider):\n",
    "        line = json.dumps(dict(item)) + \"\\n\"\n",
    "        self.file.write(line)\n",
    "        return item"
   ]
  },
  {
   "cell_type": "markdown",
   "metadata": {},
   "source": [
    "## 4. Spider"
   ]
  },
  {
   "cell_type": "code",
   "execution_count": null,
   "metadata": {},
   "outputs": [],
   "source": [
    "class MySpider(CrawlSpider):\n",
    "    name = 'BasicSpider'\n",
    "    domain_url = \"https://www.booking.com\"\n",
    "    start_urls = [\n",
    "        \"https://www.booking.com/hotel/fr/domaine-du-bois-aux-daims.fr.html#tab-reviews\"]\n",
    "    \n",
    "    custom_settings = {\n",
    "        'LOG_LEVEL': logging.WARNING,\n",
    "        'ITEM_PIPELINES': {'__main__.JsonWriterPipeline': 1}, \n",
    "        'FEED_FORMAT':'json',                                 \n",
    "        'FEED_URI': 'booking.json'                       \n",
    "    }\n",
    "\n",
    "    def parse(self, response):\n",
    "\n",
    "        next_reviews_page_url = \"https://www.booking.com\" + response.xpath(\n",
    "            \"/html/body/div[5]/div[1]/div[3]/div[1]/div[1]/div[8]/div/div[1]/div[2]/div[2]/div[2]/div[3]/div[4]/div/div[1]/ul/li[3]/a/svg/path\").extract()[0]\n",
    "        \n",
    "        all_review_pages = response.xpath(\n",
    "            \"/html/body/div[5]/div[1]/div[3]/div[1]/div[1]/div[8]/div/div[1]/div[2]/div[2]/div[2]/div[3]/div[4]/div/div[1]/ul/li[2]/ul/li[7]/a\").extract()[0]\n",
    "\n",
    "        next_reviews_page_url = \"https://www.booking.com\" + response.xpath(\n",
    "            \"/html/body/div[5]/div[1]/div[3]/div[1]/div[1]/div[8]/div/div[1]/div[2]/div[2]/div[2]/div[3]/div[4]/div/div[1]/ul/li[3]/a/svg/path\").extract()[0]            \"//a[contains(@class,'nav') and contains(@class,'next') and contains(@class,'primary')]/@href\").extract()[0]\n",
    "\n",
    "        yield scrapy.Request(next_reviews_page_url, callback=self.parse)\n",
    "\n",
    "        review_urls = []\n",
    "        for partial_review_url in response.xpath(\"//div[contains(@class,'quote')]/a/@href\").extract():\n",
    "            review_url = response.urljoin(partial_review_url)\n",
    "            if review_url not in review_urls:\n",
    "                review_urls.append(review_url)\n",
    "\n",
    "            yield scrapy.Request(review_url, callback=self.parse_review_page)\n",
    "\n",
    "    def parse_review_page(self, response):\n",
    "\n",
    "        item = HotelreviewsItem()\n",
    "\n",
    "        item[\"reviewer_id\"] = next(iter(response.xpath(\n",
    "            \"/html/body/div[5]/div[1]/div[3]/div[1]/div[1]/div[8]/div/div[1]/div[2]/div[2]/div[2]/div[3]/ul/li[2]/div/div[2]/div/div[1]/div/div[2]/span[1]\").extract()),\n",
    "                                   None)\n",
    "        item[\"review_language\"] = next(iter(response.xpath(\n",
    "            \"/html/body/div[5]/div[1]/div[3]/div[1]/div[1]/div[8]/div/div[1]/div[2]/div[2]/div[2]/div[1]/div[2]/div/div/label[1]/input\").extract()),\n",
    "                                       None)\n",
    "        item[\"review_id\"] = next(iter(response.xpath(\n",
    "            \"//div[contains(@class,'prw_reviews_resp_sur_h_featured_review')]/div/div/div/div/div[contains(@class,'prw_reviews_user_links_hs')]/span/@data-reviewid\").extract()),\n",
    "                                 None)\n",
    "\n",
    "        review_id = item[\"review_id\"]\n",
    "        review_url_on_page = response.xpath('//script[@type=\"application/ld+json\"]/text()').extract()\n",
    "        review = eval(review_url_on_page[0])\n",
    "\n",
    "        item[\"review\"] = review[\"reviewBody\"].replace(\"\\\\n\", \"\")\n",
    "        item[\"title\"] = review[\"name\"]\n",
    "        item[\"rating\"] = review[\"reviewRating\"][\"ratingValue\"]\n",
    "        item[\"image_url\"] = review[\"image\"]\n",
    "        item[\"hotel_type\"] = review[\"itemReviewed\"][\"@type\"]\n",
    "        item[\"hotel_name\"] = review[\"itemReviewed\"][\"name\"]\n",
    "        item[\"price_range\"] = review[\"itemReviewed\"][\"priceRange\"]\n",
    "        item[\"hotel_adress\"] = review[\"itemReviewed\"][\"address\"]\n",
    "        try:\n",
    "            item[\"published_date\"] = review[\"datePublished\"]\n",
    "        except KeyError:\n",
    "\n",
    "            item[\"published_date\"] = next(iter(response.xpath(\n",
    "                f\"//div[contains(@id,'review_{review_id}')]/div/div/span[@class='ratingDate']/@title\"\"\").extract()),\n",
    "                                          None)\n",
    "\n",
    "\n",
    "        try:\n",
    "            item[\"trip_date\"] = next(iter(response.xpath(\"//div[contains(@class,\"\n",
    "                                                         \"'prw_reviews_resp_sur_h_featured_review')]/div/div/div/div[\"\n",
    "                                                         \"contains(@class,'prw_reviews_stay_date_hsx')]/text()\").extract()),\n",
    "                                     None)\n",
    "\n",
    "        except:\n",
    "\n",
    "            item[\"trip_date\"] = next(iter(response.xpath(\n",
    "                \"//div[contains(@id,'review_538163624')]/div/div/div[@data-prwidget-name='reviews_stay_date_hsx']/text()\").extract()),\n",
    "                                     None)\n",
    "\n",
    "        yield item\n"
   ]
  }
 ],
 "metadata": {
  "kernelspec": {
   "display_name": "Python 3",
   "language": "python",
   "name": "python3"
  },
  "language_info": {
   "codemirror_mode": {
    "name": "ipython",
    "version": 3
   },
   "file_extension": ".py",
   "mimetype": "text/x-python",
   "name": "python",
   "nbconvert_exporter": "python",
   "pygments_lexer": "ipython3",
   "version": "3.6.8"
  }
 },
 "nbformat": 4,
 "nbformat_minor": 2
}
