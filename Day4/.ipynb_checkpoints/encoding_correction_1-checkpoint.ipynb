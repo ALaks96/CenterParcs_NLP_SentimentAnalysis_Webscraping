{
 "cells": [
  {
   "cell_type": "markdown",
   "metadata": {
    "colab_type": "text",
    "id": "AJJa5LepUlM5"
   },
   "source": [
    "# Making initial imports"
   ]
  },
  {
   "cell_type": "code",
   "execution_count": 1,
   "metadata": {
    "colab": {},
    "colab_type": "code",
    "id": "B1brrbapzwjh"
   },
   "outputs": [],
   "source": [
    "# !pip install langdetect\n",
    "import pandas as pd\n",
    "import matplotlib.pyplot as plt\n",
    "import seaborn as sns\n",
    "import re"
   ]
  },
  {
   "cell_type": "code",
   "execution_count": 2,
   "metadata": {
    "colab": {
     "base_uri": "https://localhost:8080/",
     "height": 102
    },
    "colab_type": "code",
    "id": "cX6z2S4cPsVu",
    "outputId": "ddf42c5b-5901-4ea0-e200-c2a26cbe32a8"
   },
   "outputs": [
    {
     "name": "stderr",
     "output_type": "stream",
     "text": [
      "[nltk_data] Downloading package punkt to\n",
      "[nltk_data]     C:\\Users\\Ellio\\AppData\\Roaming\\nltk_data...\n",
      "[nltk_data]   Package punkt is already up-to-date!\n",
      "[nltk_data] Downloading package stopwords to\n",
      "[nltk_data]     C:\\Users\\Ellio\\AppData\\Roaming\\nltk_data...\n",
      "[nltk_data]   Package stopwords is already up-to-date!\n"
     ]
    },
    {
     "data": {
      "text/plain": [
       "True"
      ]
     },
     "execution_count": 2,
     "metadata": {},
     "output_type": "execute_result"
    }
   ],
   "source": [
    "# NLP library imports\n",
    "import nltk\n",
    "from nltk.corpus import stopwords\n",
    "from nltk.stem.wordnet import WordNetLemmatizer\n",
    "from nltk.stem import PorterStemmer\n",
    "from nltk import word_tokenize\n",
    "from nltk.tokenize import sent_tokenize\n",
    "from nltk.tokenize import word_tokenize\n",
    "nltk.download('punkt')\n",
    "nltk.download('stopwords')"
   ]
  },
  {
   "cell_type": "markdown",
   "metadata": {
    "colab_type": "text",
    "id": "s5YWKd3kDjAN"
   },
   "source": [
    "# Loading data scrapped on TrustPilot"
   ]
  },
  {
   "cell_type": "markdown",
   "metadata": {
    "colab_type": "text",
    "id": "SVw85YFlviN_"
   },
   "source": [
    "The dataframe is  composed with the comments scraped on Trustpolit at [this page](https://fr.trustpilot.com/review/www.centerparcs.fr/fr-fr)."
   ]
  },
  {
   "cell_type": "code",
   "execution_count": 3,
   "metadata": {
    "colab": {
     "base_uri": "https://localhost:8080/",
     "height": 204
    },
    "colab_type": "code",
    "id": "ihyBDJ8tsv6v",
    "outputId": "c3395200-8aa6-49ef-efcb-00cb275e889d"
   },
   "outputs": [
    {
     "data": {
      "text/html": [
       "<div>\n",
       "<style scoped>\n",
       "    .dataframe tbody tr th:only-of-type {\n",
       "        vertical-align: middle;\n",
       "    }\n",
       "\n",
       "    .dataframe tbody tr th {\n",
       "        vertical-align: top;\n",
       "    }\n",
       "\n",
       "    .dataframe thead th {\n",
       "        text-align: right;\n",
       "    }\n",
       "</style>\n",
       "<table border=\"1\" class=\"dataframe\">\n",
       "  <thead>\n",
       "    <tr style=\"text-align: right;\">\n",
       "      <th></th>\n",
       "      <th>hotel_adress</th>\n",
       "      <th>hotel_name</th>\n",
       "      <th>hotel_type</th>\n",
       "      <th>image_url</th>\n",
       "      <th>locid</th>\n",
       "      <th>pid</th>\n",
       "      <th>price_range</th>\n",
       "      <th>published_date</th>\n",
       "      <th>rating</th>\n",
       "      <th>review</th>\n",
       "      <th>review_id</th>\n",
       "      <th>review_language</th>\n",
       "      <th>reviewer_id</th>\n",
       "      <th>title</th>\n",
       "      <th>trip_date</th>\n",
       "      <th>trip_type</th>\n",
       "    </tr>\n",
       "  </thead>\n",
       "  <tbody>\n",
       "    <tr>\n",
       "      <th>0</th>\n",
       "      <td>{'@type': 'PostalAddress', 'streetAddress': '1...</td>\n",
       "      <td>Center Parcs Le Lac d'Ailette</td>\n",
       "      <td>LodgingBusiness</td>\n",
       "      <td>https://media-cdn.tripadvisor.com/media/photo-...</td>\n",
       "      <td>775381</td>\n",
       "      <td>38673</td>\n",
       "      <td>115€ - 267€  (Selon les tarifs moyens d'une ch...</td>\n",
       "      <td>27 septembre 2018</td>\n",
       "      <td>4</td>\n",
       "      <td>Apr\\u00e8s une d\\u00e9sastreuse aventure au Bo...</td>\n",
       "      <td>619991006</td>\n",
       "      <td>fr</td>\n",
       "      <td>A70008728AC6B6105263C31212876BAB</td>\n",
       "      <td>tr\\u00e8s bon week end</td>\n",
       "      <td>août 2018</td>\n",
       "      <td>None</td>\n",
       "    </tr>\n",
       "    <tr>\n",
       "      <th>1</th>\n",
       "      <td>{'@type': 'PostalAddress', 'streetAddress': '1...</td>\n",
       "      <td>Center Parcs Le Lac d'Ailette</td>\n",
       "      <td>LodgingBusiness</td>\n",
       "      <td>https://media-cdn.tripadvisor.com/media/photo-...</td>\n",
       "      <td>775381</td>\n",
       "      <td>38673</td>\n",
       "      <td>115€ - 267€  (Selon les tarifs moyens d'une ch...</td>\n",
       "      <td>18 janvier 2019</td>\n",
       "      <td>5</td>\n",
       "      <td>Ambiance d\\u00e9tendue , une vraie d\\u00e9conn...</td>\n",
       "      <td>646844882</td>\n",
       "      <td>fr</td>\n",
       "      <td>E1D229008CB104D9A0B50E1C28400729</td>\n",
       "      <td>S\\u00e9jour agr\\u00e9able comme toujours ,une ...</td>\n",
       "      <td>mars 2018</td>\n",
       "      <td>A voyagé en famille</td>\n",
       "    </tr>\n",
       "    <tr>\n",
       "      <th>2</th>\n",
       "      <td>{'@type': 'PostalAddress', 'streetAddress': '1...</td>\n",
       "      <td>Center Parcs Le Lac d'Ailette</td>\n",
       "      <td>LodgingBusiness</td>\n",
       "      <td>https://media-cdn.tripadvisor.com/media/photo-...</td>\n",
       "      <td>775381</td>\n",
       "      <td>38673</td>\n",
       "      <td>115€ - 267€  (Selon les tarifs moyens d'une ch...</td>\n",
       "      <td>11 novembre 2018</td>\n",
       "      <td>3</td>\n",
       "      <td>Premi\\u00e8re fois que nous allions \\u00e0 cen...</td>\n",
       "      <td>632573813</td>\n",
       "      <td>fr</td>\n",
       "      <td>56719A188FFAF310DB972EF10480F7DD</td>\n",
       "      <td>3,5 serait plus juste</td>\n",
       "      <td>juillet 2018</td>\n",
       "      <td>A voyagé en couple</td>\n",
       "    </tr>\n",
       "    <tr>\n",
       "      <th>3</th>\n",
       "      <td>{'@type': 'PostalAddress', 'streetAddress': '1...</td>\n",
       "      <td>Center Parcs Le Lac d'Ailette</td>\n",
       "      <td>LodgingBusiness</td>\n",
       "      <td>https://media-cdn.tripadvisor.com/media/photo-...</td>\n",
       "      <td>775381</td>\n",
       "      <td>38673</td>\n",
       "      <td>115€ - 267€  (Selon les tarifs moyens d'une ch...</td>\n",
       "      <td>3 octobre 2018</td>\n",
       "      <td>4</td>\n",
       "      <td>G\\u00e9nial pour les enfants petits et grands ...</td>\n",
       "      <td>621674154</td>\n",
       "      <td>fr</td>\n",
       "      <td>05035FA5944AFAFFD00A7A4A4A6331D7</td>\n",
       "      <td>Endroit sympathique</td>\n",
       "      <td>avril 2018</td>\n",
       "      <td>None</td>\n",
       "    </tr>\n",
       "    <tr>\n",
       "      <th>4</th>\n",
       "      <td>{'@type': 'PostalAddress', 'streetAddress': '1...</td>\n",
       "      <td>Center Parcs Le Lac d'Ailette</td>\n",
       "      <td>LodgingBusiness</td>\n",
       "      <td>https://media-cdn.tripadvisor.com/media/photo-...</td>\n",
       "      <td>775381</td>\n",
       "      <td>38673</td>\n",
       "      <td>115€ - 267€  (Selon les tarifs moyens d'une ch...</td>\n",
       "      <td>17 janvier 2019</td>\n",
       "      <td>2</td>\n",
       "      <td>Nous avons fait une r\\u00e9servation avec notr...</td>\n",
       "      <td>646623017</td>\n",
       "      <td>fr</td>\n",
       "      <td>0304614F0BFFA918916A51FD21624A4E</td>\n",
       "      <td>R\\u00e9servation f\\u00e9vrier 2019</td>\n",
       "      <td>janvier 2019</td>\n",
       "      <td>A voyagé en famille</td>\n",
       "    </tr>\n",
       "  </tbody>\n",
       "</table>\n",
       "</div>"
      ],
      "text/plain": [
       "                                        hotel_adress  \\\n",
       "0  {'@type': 'PostalAddress', 'streetAddress': '1...   \n",
       "1  {'@type': 'PostalAddress', 'streetAddress': '1...   \n",
       "2  {'@type': 'PostalAddress', 'streetAddress': '1...   \n",
       "3  {'@type': 'PostalAddress', 'streetAddress': '1...   \n",
       "4  {'@type': 'PostalAddress', 'streetAddress': '1...   \n",
       "\n",
       "                      hotel_name       hotel_type  \\\n",
       "0  Center Parcs Le Lac d'Ailette  LodgingBusiness   \n",
       "1  Center Parcs Le Lac d'Ailette  LodgingBusiness   \n",
       "2  Center Parcs Le Lac d'Ailette  LodgingBusiness   \n",
       "3  Center Parcs Le Lac d'Ailette  LodgingBusiness   \n",
       "4  Center Parcs Le Lac d'Ailette  LodgingBusiness   \n",
       "\n",
       "                                           image_url   locid    pid  \\\n",
       "0  https://media-cdn.tripadvisor.com/media/photo-...  775381  38673   \n",
       "1  https://media-cdn.tripadvisor.com/media/photo-...  775381  38673   \n",
       "2  https://media-cdn.tripadvisor.com/media/photo-...  775381  38673   \n",
       "3  https://media-cdn.tripadvisor.com/media/photo-...  775381  38673   \n",
       "4  https://media-cdn.tripadvisor.com/media/photo-...  775381  38673   \n",
       "\n",
       "                                         price_range     published_date  \\\n",
       "0  115€ - 267€  (Selon les tarifs moyens d'une ch...  27 septembre 2018   \n",
       "1  115€ - 267€  (Selon les tarifs moyens d'une ch...    18 janvier 2019   \n",
       "2  115€ - 267€  (Selon les tarifs moyens d'une ch...   11 novembre 2018   \n",
       "3  115€ - 267€  (Selon les tarifs moyens d'une ch...     3 octobre 2018   \n",
       "4  115€ - 267€  (Selon les tarifs moyens d'une ch...    17 janvier 2019   \n",
       "\n",
       "   rating                                             review  review_id  \\\n",
       "0       4  Apr\\u00e8s une d\\u00e9sastreuse aventure au Bo...  619991006   \n",
       "1       5  Ambiance d\\u00e9tendue , une vraie d\\u00e9conn...  646844882   \n",
       "2       3  Premi\\u00e8re fois que nous allions \\u00e0 cen...  632573813   \n",
       "3       4  G\\u00e9nial pour les enfants petits et grands ...  621674154   \n",
       "4       2  Nous avons fait une r\\u00e9servation avec notr...  646623017   \n",
       "\n",
       "  review_language                       reviewer_id  \\\n",
       "0              fr  A70008728AC6B6105263C31212876BAB   \n",
       "1              fr  E1D229008CB104D9A0B50E1C28400729   \n",
       "2              fr  56719A188FFAF310DB972EF10480F7DD   \n",
       "3              fr  05035FA5944AFAFFD00A7A4A4A6331D7   \n",
       "4              fr  0304614F0BFFA918916A51FD21624A4E   \n",
       "\n",
       "                                               title      trip_date  \\\n",
       "0                             tr\\u00e8s bon week end      août 2018   \n",
       "1  S\\u00e9jour agr\\u00e9able comme toujours ,une ...      mars 2018   \n",
       "2                             3,5 serait plus juste    juillet 2018   \n",
       "3                                Endroit sympathique     avril 2018   \n",
       "4                 R\\u00e9servation f\\u00e9vrier 2019   janvier 2019   \n",
       "\n",
       "             trip_type  \n",
       "0                 None  \n",
       "1  A voyagé en famille  \n",
       "2   A voyagé en couple  \n",
       "3                 None  \n",
       "4  A voyagé en famille  "
      ]
     },
     "execution_count": 3,
     "metadata": {},
     "output_type": "execute_result"
    }
   ],
   "source": [
    "df = pd.read_json('tripadvisor2 (1).json')\n",
    "df.head()"
   ]
  },
  {
   "cell_type": "code",
   "execution_count": 48,
   "metadata": {},
   "outputs": [
    {
     "data": {
      "text/html": [
       "<div>\n",
       "<style scoped>\n",
       "    .dataframe tbody tr th:only-of-type {\n",
       "        vertical-align: middle;\n",
       "    }\n",
       "\n",
       "    .dataframe tbody tr th {\n",
       "        vertical-align: top;\n",
       "    }\n",
       "\n",
       "    .dataframe thead th {\n",
       "        text-align: right;\n",
       "    }\n",
       "</style>\n",
       "<table border=\"1\" class=\"dataframe\">\n",
       "  <thead>\n",
       "    <tr style=\"text-align: right;\">\n",
       "      <th></th>\n",
       "      <th>hotel_name</th>\n",
       "      <th>published_date</th>\n",
       "      <th>rating</th>\n",
       "      <th>review</th>\n",
       "      <th>language</th>\n",
       "      <th>title</th>\n",
       "      <th>trip_date</th>\n",
       "    </tr>\n",
       "  </thead>\n",
       "  <tbody>\n",
       "    <tr>\n",
       "      <th>0</th>\n",
       "      <td>Center Parcs Le Lac d'Ailette</td>\n",
       "      <td>27 septembre 2018</td>\n",
       "      <td>4</td>\n",
       "      <td>Apr\\u00e8s une d\\u00e9sastreuse aventure au Bo...</td>\n",
       "      <td>fr</td>\n",
       "      <td>tr\\u00e8s bon week end</td>\n",
       "      <td>août 2018</td>\n",
       "    </tr>\n",
       "    <tr>\n",
       "      <th>1</th>\n",
       "      <td>Center Parcs Le Lac d'Ailette</td>\n",
       "      <td>18 janvier 2019</td>\n",
       "      <td>5</td>\n",
       "      <td>Ambiance d\\u00e9tendue , une vraie d\\u00e9conn...</td>\n",
       "      <td>fr</td>\n",
       "      <td>S\\u00e9jour agr\\u00e9able comme toujours ,une ...</td>\n",
       "      <td>mars 2018</td>\n",
       "    </tr>\n",
       "    <tr>\n",
       "      <th>2</th>\n",
       "      <td>Center Parcs Le Lac d'Ailette</td>\n",
       "      <td>11 novembre 2018</td>\n",
       "      <td>3</td>\n",
       "      <td>Premi\\u00e8re fois que nous allions \\u00e0 cen...</td>\n",
       "      <td>fr</td>\n",
       "      <td>3,5 serait plus juste</td>\n",
       "      <td>juillet 2018</td>\n",
       "    </tr>\n",
       "    <tr>\n",
       "      <th>3</th>\n",
       "      <td>Center Parcs Le Lac d'Ailette</td>\n",
       "      <td>3 octobre 2018</td>\n",
       "      <td>4</td>\n",
       "      <td>G\\u00e9nial pour les enfants petits et grands ...</td>\n",
       "      <td>fr</td>\n",
       "      <td>Endroit sympathique</td>\n",
       "      <td>avril 2018</td>\n",
       "    </tr>\n",
       "    <tr>\n",
       "      <th>4</th>\n",
       "      <td>Center Parcs Le Lac d'Ailette</td>\n",
       "      <td>17 janvier 2019</td>\n",
       "      <td>2</td>\n",
       "      <td>Nous avons fait une r\\u00e9servation avec notr...</td>\n",
       "      <td>fr</td>\n",
       "      <td>R\\u00e9servation f\\u00e9vrier 2019</td>\n",
       "      <td>janvier 2019</td>\n",
       "    </tr>\n",
       "    <tr>\n",
       "      <th>5</th>\n",
       "      <td>Center Parcs Le Lac d'Ailette</td>\n",
       "      <td>August 31, 2018</td>\n",
       "      <td>4</td>\n",
       "      <td>This was the third European CP we\\'ve visited,...</td>\n",
       "      <td>en</td>\n",
       "      <td>Great holiday, but too many cars on site</td>\n",
       "      <td>August 2018</td>\n",
       "    </tr>\n",
       "    <tr>\n",
       "      <th>6</th>\n",
       "      <td>Center Parcs Le Lac d'Ailette</td>\n",
       "      <td>September 1, 2018</td>\n",
       "      <td>5</td>\n",
       "      <td>I have to admit after reading so many negative...</td>\n",
       "      <td>en</td>\n",
       "      <td>Supassed expectations</td>\n",
       "      <td>August 2018</td>\n",
       "    </tr>\n",
       "    <tr>\n",
       "      <th>7</th>\n",
       "      <td>Center Parcs Le Lac d'Ailette</td>\n",
       "      <td>August 31, 2018</td>\n",
       "      <td>3</td>\n",
       "      <td>they have good amenities but the cottages are ...</td>\n",
       "      <td>en</td>\n",
       "      <td>good amenities but the cottages are not clean</td>\n",
       "      <td>August 2018</td>\n",
       "    </tr>\n",
       "    <tr>\n",
       "      <th>8</th>\n",
       "      <td>Center Parcs Le Lac d'Ailette</td>\n",
       "      <td>September 1, 2018</td>\n",
       "      <td>3</td>\n",
       "      <td>Pool was fun but there was overcrowding at tim...</td>\n",
       "      <td>en</td>\n",
       "      <td>Not enamoured with Le Lac D\\'Ailette</td>\n",
       "      <td>August 2018</td>\n",
       "    </tr>\n",
       "    <tr>\n",
       "      <th>9</th>\n",
       "      <td>Center Parcs Le Lac d'Ailette</td>\n",
       "      <td>September 1, 2018</td>\n",
       "      <td>2</td>\n",
       "      <td>Our third European Centre Parcs.  The location...</td>\n",
       "      <td>en</td>\n",
       "      <td>Family holiday - children 10 and 7</td>\n",
       "      <td>August 2018</td>\n",
       "    </tr>\n",
       "    <tr>\n",
       "      <th>10</th>\n",
       "      <td>Center Parcs Le Lac d'Ailette</td>\n",
       "      <td>August 31, 2018</td>\n",
       "      <td>2</td>\n",
       "      <td>Hi- we are on our way home following a week at...</td>\n",
       "      <td>en</td>\n",
       "      <td>Very tired and dirty resort</td>\n",
       "      <td>August 2018</td>\n",
       "    </tr>\n",
       "    <tr>\n",
       "      <th>11</th>\n",
       "      <td>Center Parcs Le Lac d'Ailette</td>\n",
       "      <td>August 29, 2018</td>\n",
       "      <td>2</td>\n",
       "      <td>the place is nice, looks good.BUT we arrived t...</td>\n",
       "      <td>en</td>\n",
       "      <td>Nice place, super disappointing service</td>\n",
       "      <td>August 2018</td>\n",
       "    </tr>\n",
       "    <tr>\n",
       "      <th>12</th>\n",
       "      <td>Center Parcs Le Lac d'Ailette</td>\n",
       "      <td>August 29, 2018</td>\n",
       "      <td>4</td>\n",
       "      <td>Journey from folkestone was easy it took appro...</td>\n",
       "      <td>en</td>\n",
       "      <td>Annual holiday</td>\n",
       "      <td>June 2017</td>\n",
       "    </tr>\n",
       "    <tr>\n",
       "      <th>13</th>\n",
       "      <td>Center Parcs Le Lac d'Ailette</td>\n",
       "      <td>August 31, 2018</td>\n",
       "      <td>5</td>\n",
       "      <td>Just had a fab family holiday plenty to do and...</td>\n",
       "      <td>en</td>\n",
       "      <td>Fantastic</td>\n",
       "      <td>August 2018</td>\n",
       "    </tr>\n",
       "    <tr>\n",
       "      <th>14</th>\n",
       "      <td>Center Parcs Le Lac d'Ailette</td>\n",
       "      <td>August 30, 2018</td>\n",
       "      <td>2</td>\n",
       "      <td>This was our third stay in a Center Parcs\\' vi...</td>\n",
       "      <td>en</td>\n",
       "      <td>Not good</td>\n",
       "      <td>August 2018</td>\n",
       "    </tr>\n",
       "    <tr>\n",
       "      <th>15</th>\n",
       "      <td>Center Parcs Le Lac d'Ailette</td>\n",
       "      <td>August 28, 2018</td>\n",
       "      <td>5</td>\n",
       "      <td>Stayed 24th Aug to 27th Aug. Very easy to get ...</td>\n",
       "      <td>en</td>\n",
       "      <td>\\'A surprise\\'</td>\n",
       "      <td>August 2018</td>\n",
       "    </tr>\n",
       "    <tr>\n",
       "      <th>16</th>\n",
       "      <td>Center Parcs Le Lac d'Ailette</td>\n",
       "      <td>August 27, 2018</td>\n",
       "      <td>5</td>\n",
       "      <td>So getting here was easy just 2.5 hours from C...</td>\n",
       "      <td>en</td>\n",
       "      <td>Brilliant Holiday - Here\\u2019s some tips</td>\n",
       "      <td>August 2018</td>\n",
       "    </tr>\n",
       "    <tr>\n",
       "      <th>17</th>\n",
       "      <td>Center Parcs Le Lac d'Ailette</td>\n",
       "      <td>August 28, 2018</td>\n",
       "      <td>3</td>\n",
       "      <td>We had a nice family weekend here. It is a ver...</td>\n",
       "      <td>en</td>\n",
       "      <td>Fun weekend but not the best centre parcs</td>\n",
       "      <td>July 2018</td>\n",
       "    </tr>\n",
       "    <tr>\n",
       "      <th>18</th>\n",
       "      <td>Center Parcs Le Lac d'Ailette</td>\n",
       "      <td>August 27, 2018</td>\n",
       "      <td>5</td>\n",
       "      <td>We had a fantastic 7 night stay at the start o...</td>\n",
       "      <td>en</td>\n",
       "      <td>Fantastic stay for the whole family</td>\n",
       "      <td>August 2018</td>\n",
       "    </tr>\n",
       "    <tr>\n",
       "      <th>19</th>\n",
       "      <td>Center Parcs Le Lac d'Ailette</td>\n",
       "      <td>August 26, 2018</td>\n",
       "      <td>5</td>\n",
       "      <td>Stayed in premium 4 bed house 401! Not a fault...</td>\n",
       "      <td>en</td>\n",
       "      <td>Best Centre Parcs</td>\n",
       "      <td>September 2017</td>\n",
       "    </tr>\n",
       "    <tr>\n",
       "      <th>20</th>\n",
       "      <td>Center Parcs Le Lac d'Ailette</td>\n",
       "      <td>August 25, 2018</td>\n",
       "      <td>4</td>\n",
       "      <td>What a great place to stay! Lovely peaceful, g...</td>\n",
       "      <td>en</td>\n",
       "      <td>Great place, will definitely come back!</td>\n",
       "      <td>August 2018</td>\n",
       "    </tr>\n",
       "    <tr>\n",
       "      <th>21</th>\n",
       "      <td>Center Parcs Le Lac d'Ailette</td>\n",
       "      <td>August 19, 2018</td>\n",
       "      <td>4</td>\n",
       "      <td>I am writing this on my last day sitting on a ...</td>\n",
       "      <td>en</td>\n",
       "      <td>Don\\u2019t believe the hype!</td>\n",
       "      <td>August 2018</td>\n",
       "    </tr>\n",
       "    <tr>\n",
       "      <th>22</th>\n",
       "      <td>Center Parcs Le Lac d'Ailette</td>\n",
       "      <td>August 23, 2018</td>\n",
       "      <td>4</td>\n",
       "      <td>We have just returned from a trip to this Cent...</td>\n",
       "      <td>en</td>\n",
       "      <td>Works well - kids loved - easy travels - comfo...</td>\n",
       "      <td>August 2018</td>\n",
       "    </tr>\n",
       "    <tr>\n",
       "      <th>23</th>\n",
       "      <td>Center Parcs Le Lac d'Ailette</td>\n",
       "      <td>August 25, 2018</td>\n",
       "      <td>4</td>\n",
       "      <td>Aqua mundo was the highlight- whole family lov...</td>\n",
       "      <td>en</td>\n",
       "      <td>Centre parcs fun!</td>\n",
       "      <td>August 2018</td>\n",
       "    </tr>\n",
       "    <tr>\n",
       "      <th>24</th>\n",
       "      <td>Center Parcs Le Lac d'Ailette</td>\n",
       "      <td>August 26, 2018</td>\n",
       "      <td>4</td>\n",
       "      <td>We spent 4 nights recently and had a good time...</td>\n",
       "      <td>en</td>\n",
       "      <td>Overall great stay</td>\n",
       "      <td>August 2018</td>\n",
       "    </tr>\n",
       "    <tr>\n",
       "      <th>25</th>\n",
       "      <td>Center Parcs Le Lac d'Ailette</td>\n",
       "      <td>August 18, 2018</td>\n",
       "      <td>4</td>\n",
       "      <td>Stayed in a Premium 4 bedroom cottage, loads o...</td>\n",
       "      <td>en</td>\n",
       "      <td>Great stay!!! Good family fun!!</td>\n",
       "      <td>August 2018</td>\n",
       "    </tr>\n",
       "    <tr>\n",
       "      <th>26</th>\n",
       "      <td>Center Parcs Le Lac d'Ailette</td>\n",
       "      <td>August 17, 2018</td>\n",
       "      <td>3</td>\n",
       "      <td>Our family visited this parc last week. Premiu...</td>\n",
       "      <td>en</td>\n",
       "      <td>Things could be really good.</td>\n",
       "      <td>August 2018</td>\n",
       "    </tr>\n",
       "    <tr>\n",
       "      <th>27</th>\n",
       "      <td>Center Parcs Le Lac d'Ailette</td>\n",
       "      <td>August 15, 2018</td>\n",
       "      <td>3</td>\n",
       "      <td>I was really torn when it came to booking this...</td>\n",
       "      <td>en</td>\n",
       "      <td>Enjoyable but not sure we would return</td>\n",
       "      <td>August 2018</td>\n",
       "    </tr>\n",
       "    <tr>\n",
       "      <th>28</th>\n",
       "      <td>Center Parcs Le Lac d'Ailette</td>\n",
       "      <td>August 15, 2018</td>\n",
       "      <td>4</td>\n",
       "      <td>We had a great holiday at Le Lac there were pl...</td>\n",
       "      <td>en</td>\n",
       "      <td>Aug Fun</td>\n",
       "      <td>August 2018</td>\n",
       "    </tr>\n",
       "    <tr>\n",
       "      <th>29</th>\n",
       "      <td>Center Parcs Le Lac d'Ailette</td>\n",
       "      <td>August 17, 2018</td>\n",
       "      <td>5</td>\n",
       "      <td>Please don\\u2019t be put off by some of the re...</td>\n",
       "      <td>en</td>\n",
       "      <td>Brilliant holiday!</td>\n",
       "      <td>August 2018</td>\n",
       "    </tr>\n",
       "    <tr>\n",
       "      <th>...</th>\n",
       "      <td>...</td>\n",
       "      <td>...</td>\n",
       "      <td>...</td>\n",
       "      <td>...</td>\n",
       "      <td>...</td>\n",
       "      <td>...</td>\n",
       "      <td>...</td>\n",
       "    </tr>\n",
       "    <tr>\n",
       "      <th>633</th>\n",
       "      <td>Center Parcs Le Lac d'Ailette</td>\n",
       "      <td>October 30, 2010</td>\n",
       "      <td>2</td>\n",
       "      <td>We returned from Center Parcs Le Lac d\\u2019Ai...</td>\n",
       "      <td>en</td>\n",
       "      <td>Not for us...dirty and understaffed</td>\n",
       "      <td>October 2010</td>\n",
       "    </tr>\n",
       "    <tr>\n",
       "      <th>634</th>\n",
       "      <td>Center Parcs Le Lac d'Ailette</td>\n",
       "      <td>March 7, 2011</td>\n",
       "      <td>1</td>\n",
       "      <td>Filthy dirty villas; filthy swimming pools; la...</td>\n",
       "      <td>en</td>\n",
       "      <td>Cryptosporidium!!!</td>\n",
       "      <td>February 2011</td>\n",
       "    </tr>\n",
       "    <tr>\n",
       "      <th>635</th>\n",
       "      <td>Center Parcs Le Lac d'Ailette</td>\n",
       "      <td>August 17, 2010</td>\n",
       "      <td>4</td>\n",
       "      <td>We have been to 2 of the UK parcs and although...</td>\n",
       "      <td>en</td>\n",
       "      <td>Just like the UK but better</td>\n",
       "      <td>August 2010</td>\n",
       "    </tr>\n",
       "    <tr>\n",
       "      <th>636</th>\n",
       "      <td>Center Parcs Le Lac d'Ailette</td>\n",
       "      <td>August 31, 2010</td>\n",
       "      <td>4</td>\n",
       "      <td>We totally agree with all the positive reviews...</td>\n",
       "      <td>en</td>\n",
       "      <td>Great Holiday for Disabled - Really relaxing a...</td>\n",
       "      <td>August 2010</td>\n",
       "    </tr>\n",
       "    <tr>\n",
       "      <th>637</th>\n",
       "      <td>Center Parcs Le Lac d'Ailette</td>\n",
       "      <td>August 27, 2010</td>\n",
       "      <td>4</td>\n",
       "      <td>Just returned from 2 weeks at this park after ...</td>\n",
       "      <td>en</td>\n",
       "      <td>Great setting, good accomodation, good facilities</td>\n",
       "      <td>August 2010</td>\n",
       "    </tr>\n",
       "    <tr>\n",
       "      <th>638</th>\n",
       "      <td>Center Parcs Le Lac d'Ailette</td>\n",
       "      <td>August 26, 2010</td>\n",
       "      <td>4</td>\n",
       "      <td>Having visited UK parks and one in Belguim  - ...</td>\n",
       "      <td>en</td>\n",
       "      <td>best so far....</td>\n",
       "      <td>August 2010</td>\n",
       "    </tr>\n",
       "    <tr>\n",
       "      <th>639</th>\n",
       "      <td>Center Parcs Le Lac d'Ailette</td>\n",
       "      <td>August 29, 2010</td>\n",
       "      <td>4</td>\n",
       "      <td>like, I suspect,  other people I was a bit anx...</td>\n",
       "      <td>en</td>\n",
       "      <td>Ignore all the negativity of previous reports ...</td>\n",
       "      <td>August 2010</td>\n",
       "    </tr>\n",
       "    <tr>\n",
       "      <th>640</th>\n",
       "      <td>Center Parcs Le Lac d'Ailette</td>\n",
       "      <td>June 5, 2010</td>\n",
       "      <td>5</td>\n",
       "      <td>After reading some bad reviews I was a bit sce...</td>\n",
       "      <td>en</td>\n",
       "      <td>Fantastic holiday with breathtaking nature!</td>\n",
       "      <td>June 2010</td>\n",
       "    </tr>\n",
       "    <tr>\n",
       "      <th>641</th>\n",
       "      <td>Center Parcs Le Lac d'Ailette</td>\n",
       "      <td>June 13, 2010</td>\n",
       "      <td>4</td>\n",
       "      <td>Spent a week in that park with 4 children. The...</td>\n",
       "      <td>en</td>\n",
       "      <td>Great holiday for family</td>\n",
       "      <td>June 2010</td>\n",
       "    </tr>\n",
       "    <tr>\n",
       "      <th>642</th>\n",
       "      <td>Center Parcs Le Lac d'Ailette</td>\n",
       "      <td>July 18, 2010</td>\n",
       "      <td>2</td>\n",
       "      <td>This was my first experience of centre parcs f...</td>\n",
       "      <td>en</td>\n",
       "      <td>Good for children but not clean and far too mu...</td>\n",
       "      <td>June 2010</td>\n",
       "    </tr>\n",
       "    <tr>\n",
       "      <th>643</th>\n",
       "      <td>Center Parcs Le Lac d'Ailette</td>\n",
       "      <td>August 12, 2010</td>\n",
       "      <td>4</td>\n",
       "      <td>I really enjoyed this holiday at Center Parcs,...</td>\n",
       "      <td>en</td>\n",
       "      <td>Great Family Holiday With Plenty To Do</td>\n",
       "      <td>August 2009</td>\n",
       "    </tr>\n",
       "    <tr>\n",
       "      <th>644</th>\n",
       "      <td>Center Parcs Le Lac d'Ailette</td>\n",
       "      <td>May 15, 2010</td>\n",
       "      <td>2</td>\n",
       "      <td>I\\'m french so get used to go in the French Ce...</td>\n",
       "      <td>en</td>\n",
       "      <td>No value for money</td>\n",
       "      <td>May 2010</td>\n",
       "    </tr>\n",
       "    <tr>\n",
       "      <th>645</th>\n",
       "      <td>Center Parcs Le Lac d'Ailette</td>\n",
       "      <td>July 28, 2009</td>\n",
       "      <td>4</td>\n",
       "      <td>We had a great holiday, checkin was a breeze a...</td>\n",
       "      <td>en</td>\n",
       "      <td>A superb holiday,</td>\n",
       "      <td>July 2009</td>\n",
       "    </tr>\n",
       "    <tr>\n",
       "      <th>646</th>\n",
       "      <td>Center Parcs Le Lac d'Ailette</td>\n",
       "      <td>August 1, 2009</td>\n",
       "      <td>1</td>\n",
       "      <td>The site was badly signposted when you arrived...</td>\n",
       "      <td>en</td>\n",
       "      <td>The worst trip ever!!</td>\n",
       "      <td>July 2007</td>\n",
       "    </tr>\n",
       "    <tr>\n",
       "      <th>647</th>\n",
       "      <td>Center Parcs Le Lac d'Ailette</td>\n",
       "      <td>August 4, 2009</td>\n",
       "      <td>4</td>\n",
       "      <td>We booked this CP as a change to our normal du...</td>\n",
       "      <td>en</td>\n",
       "      <td>Enjoyable stay</td>\n",
       "      <td>July 2009</td>\n",
       "    </tr>\n",
       "    <tr>\n",
       "      <th>648</th>\n",
       "      <td>Center Parcs Le Lac d'Ailette</td>\n",
       "      <td>September 4, 2009</td>\n",
       "      <td>4</td>\n",
       "      <td>In summary, the pool and kids facilites were g...</td>\n",
       "      <td>en</td>\n",
       "      <td>Best Centre Parc in France</td>\n",
       "      <td>July 2009</td>\n",
       "    </tr>\n",
       "    <tr>\n",
       "      <th>649</th>\n",
       "      <td>Center Parcs Le Lac d'Ailette</td>\n",
       "      <td>August 2, 2009</td>\n",
       "      <td>4</td>\n",
       "      <td>Having enjoyed many stays at all the various E...</td>\n",
       "      <td>en</td>\n",
       "      <td>Great Lake Vista - Retaurants Disappointing</td>\n",
       "      <td>July 2009</td>\n",
       "    </tr>\n",
       "    <tr>\n",
       "      <th>650</th>\n",
       "      <td>Center Parcs Le Lac d'Ailette</td>\n",
       "      <td>January 22, 2009</td>\n",
       "      <td>4</td>\n",
       "      <td>This is the fourth Center Parcs I have visited...</td>\n",
       "      <td>en</td>\n",
       "      <td>Fantastic Children\\'s Play Areas</td>\n",
       "      <td>December 2008</td>\n",
       "    </tr>\n",
       "    <tr>\n",
       "      <th>651</th>\n",
       "      <td>Center Parcs Le Lac d'Ailette</td>\n",
       "      <td>May 30, 2009</td>\n",
       "      <td>3</td>\n",
       "      <td>This was our fifth visit to centerparcs Europe...</td>\n",
       "      <td>en</td>\n",
       "      <td>ok but a bit of a rip off!</td>\n",
       "      <td>May 2009</td>\n",
       "    </tr>\n",
       "    <tr>\n",
       "      <th>652</th>\n",
       "      <td>Center Parcs Le Lac d'Ailette</td>\n",
       "      <td>June 16, 2009</td>\n",
       "      <td>5</td>\n",
       "      <td>We stayed here for a week 29th May to 5th June...</td>\n",
       "      <td>en</td>\n",
       "      <td>Great week, the sun shone and everyone was happy</td>\n",
       "      <td>May 2009</td>\n",
       "    </tr>\n",
       "    <tr>\n",
       "      <th>653</th>\n",
       "      <td>Center Parcs Le Lac d'Ailette</td>\n",
       "      <td>July 17, 2009</td>\n",
       "      <td>4</td>\n",
       "      <td>This is the 3rd Euro CP I have visited in the ...</td>\n",
       "      <td>en</td>\n",
       "      <td>How many flumes can a man take ???</td>\n",
       "      <td>May 2009</td>\n",
       "    </tr>\n",
       "    <tr>\n",
       "      <th>654</th>\n",
       "      <td>Center Parcs Le Lac d'Ailette</td>\n",
       "      <td>May 31, 2009</td>\n",
       "      <td>3</td>\n",
       "      <td>Firstly I have to say that we have been to CP\\...</td>\n",
       "      <td>en</td>\n",
       "      <td>A different type of Centerparcs</td>\n",
       "      <td>May 2009</td>\n",
       "    </tr>\n",
       "    <tr>\n",
       "      <th>655</th>\n",
       "      <td>Center Parcs Le Lac d'Ailette</td>\n",
       "      <td>June 2, 2008</td>\n",
       "      <td>5</td>\n",
       "      <td>Did Monday to Friday half term week and it was...</td>\n",
       "      <td>en</td>\n",
       "      <td>fab fab fab</td>\n",
       "      <td>May 2008</td>\n",
       "    </tr>\n",
       "    <tr>\n",
       "      <th>656</th>\n",
       "      <td>Center Parcs Le Lac d'Ailette</td>\n",
       "      <td>May 31, 2008</td>\n",
       "      <td>2</td>\n",
       "      <td>Not impressed with Centre Parcs at all - site ...</td>\n",
       "      <td>en</td>\n",
       "      <td>Stay at Home and save your money!</td>\n",
       "      <td>May 2008</td>\n",
       "    </tr>\n",
       "    <tr>\n",
       "      <th>657</th>\n",
       "      <td>Center Parcs Le Lac d'Ailette</td>\n",
       "      <td>August 15, 2008</td>\n",
       "      <td>3</td>\n",
       "      <td>This is the 7th different Center Parcs we have...</td>\n",
       "      <td>en</td>\n",
       "      <td>Not the best Ceter Parcs</td>\n",
       "      <td>August 2008</td>\n",
       "    </tr>\n",
       "    <tr>\n",
       "      <th>658</th>\n",
       "      <td>Center Parcs Le Lac d'Ailette</td>\n",
       "      <td>August 22, 2008</td>\n",
       "      <td>4</td>\n",
       "      <td>I\\'m not sure what I make of this place! It\\'s...</td>\n",
       "      <td>en</td>\n",
       "      <td>Center Parcs meets Newport Bay!</td>\n",
       "      <td>August 2008</td>\n",
       "    </tr>\n",
       "    <tr>\n",
       "      <th>659</th>\n",
       "      <td>Center Parcs Le Lac d'Ailette</td>\n",
       "      <td>May 31, 2008</td>\n",
       "      <td>4</td>\n",
       "      <td>We (my husband, 5 and 6 years old girls and my...</td>\n",
       "      <td>en</td>\n",
       "      <td>Happy kids = happy parents ;)</td>\n",
       "      <td>May 2008</td>\n",
       "    </tr>\n",
       "    <tr>\n",
       "      <th>660</th>\n",
       "      <td>Center Parcs Le Lac d'Ailette</td>\n",
       "      <td>April 20, 2008</td>\n",
       "      <td>3</td>\n",
       "      <td>Visited here in April with my husband and 2 ch...</td>\n",
       "      <td>en</td>\n",
       "      <td>Great pool, great houses, awful sports facilities</td>\n",
       "      <td>April 2008</td>\n",
       "    </tr>\n",
       "    <tr>\n",
       "      <th>661</th>\n",
       "      <td>Center Parcs Le Lac d'Ailette</td>\n",
       "      <td>March 30, 2008</td>\n",
       "      <td>3</td>\n",
       "      <td>Journey time from Calais takes approximately 2...</td>\n",
       "      <td>en</td>\n",
       "      <td>newly designed accomodation  a breath of fresh...</td>\n",
       "      <td>March 2008</td>\n",
       "    </tr>\n",
       "    <tr>\n",
       "      <th>662</th>\n",
       "      <td>Center Parcs Le Lac d'Ailette</td>\n",
       "      <td>November 1, 2007</td>\n",
       "      <td>4</td>\n",
       "      <td>We stayed at this new Center Parcs 22nd to 26t...</td>\n",
       "      <td>en</td>\n",
       "      <td>First review of great new Center Parcs in Fran...</td>\n",
       "      <td>October 2007</td>\n",
       "    </tr>\n",
       "  </tbody>\n",
       "</table>\n",
       "<p>663 rows × 7 columns</p>\n",
       "</div>"
      ],
      "text/plain": [
       "                        hotel_name     published_date  rating  \\\n",
       "0    Center Parcs Le Lac d'Ailette  27 septembre 2018       4   \n",
       "1    Center Parcs Le Lac d'Ailette    18 janvier 2019       5   \n",
       "2    Center Parcs Le Lac d'Ailette   11 novembre 2018       3   \n",
       "3    Center Parcs Le Lac d'Ailette     3 octobre 2018       4   \n",
       "4    Center Parcs Le Lac d'Ailette    17 janvier 2019       2   \n",
       "5    Center Parcs Le Lac d'Ailette    August 31, 2018       4   \n",
       "6    Center Parcs Le Lac d'Ailette  September 1, 2018       5   \n",
       "7    Center Parcs Le Lac d'Ailette    August 31, 2018       3   \n",
       "8    Center Parcs Le Lac d'Ailette  September 1, 2018       3   \n",
       "9    Center Parcs Le Lac d'Ailette  September 1, 2018       2   \n",
       "10   Center Parcs Le Lac d'Ailette    August 31, 2018       2   \n",
       "11   Center Parcs Le Lac d'Ailette    August 29, 2018       2   \n",
       "12   Center Parcs Le Lac d'Ailette    August 29, 2018       4   \n",
       "13   Center Parcs Le Lac d'Ailette    August 31, 2018       5   \n",
       "14   Center Parcs Le Lac d'Ailette    August 30, 2018       2   \n",
       "15   Center Parcs Le Lac d'Ailette    August 28, 2018       5   \n",
       "16   Center Parcs Le Lac d'Ailette    August 27, 2018       5   \n",
       "17   Center Parcs Le Lac d'Ailette    August 28, 2018       3   \n",
       "18   Center Parcs Le Lac d'Ailette    August 27, 2018       5   \n",
       "19   Center Parcs Le Lac d'Ailette    August 26, 2018       5   \n",
       "20   Center Parcs Le Lac d'Ailette    August 25, 2018       4   \n",
       "21   Center Parcs Le Lac d'Ailette    August 19, 2018       4   \n",
       "22   Center Parcs Le Lac d'Ailette    August 23, 2018       4   \n",
       "23   Center Parcs Le Lac d'Ailette    August 25, 2018       4   \n",
       "24   Center Parcs Le Lac d'Ailette    August 26, 2018       4   \n",
       "25   Center Parcs Le Lac d'Ailette    August 18, 2018       4   \n",
       "26   Center Parcs Le Lac d'Ailette    August 17, 2018       3   \n",
       "27   Center Parcs Le Lac d'Ailette    August 15, 2018       3   \n",
       "28   Center Parcs Le Lac d'Ailette    August 15, 2018       4   \n",
       "29   Center Parcs Le Lac d'Ailette    August 17, 2018       5   \n",
       "..                             ...                ...     ...   \n",
       "633  Center Parcs Le Lac d'Ailette   October 30, 2010       2   \n",
       "634  Center Parcs Le Lac d'Ailette      March 7, 2011       1   \n",
       "635  Center Parcs Le Lac d'Ailette    August 17, 2010       4   \n",
       "636  Center Parcs Le Lac d'Ailette    August 31, 2010       4   \n",
       "637  Center Parcs Le Lac d'Ailette    August 27, 2010       4   \n",
       "638  Center Parcs Le Lac d'Ailette    August 26, 2010       4   \n",
       "639  Center Parcs Le Lac d'Ailette    August 29, 2010       4   \n",
       "640  Center Parcs Le Lac d'Ailette       June 5, 2010       5   \n",
       "641  Center Parcs Le Lac d'Ailette      June 13, 2010       4   \n",
       "642  Center Parcs Le Lac d'Ailette      July 18, 2010       2   \n",
       "643  Center Parcs Le Lac d'Ailette    August 12, 2010       4   \n",
       "644  Center Parcs Le Lac d'Ailette       May 15, 2010       2   \n",
       "645  Center Parcs Le Lac d'Ailette      July 28, 2009       4   \n",
       "646  Center Parcs Le Lac d'Ailette     August 1, 2009       1   \n",
       "647  Center Parcs Le Lac d'Ailette     August 4, 2009       4   \n",
       "648  Center Parcs Le Lac d'Ailette  September 4, 2009       4   \n",
       "649  Center Parcs Le Lac d'Ailette     August 2, 2009       4   \n",
       "650  Center Parcs Le Lac d'Ailette   January 22, 2009       4   \n",
       "651  Center Parcs Le Lac d'Ailette       May 30, 2009       3   \n",
       "652  Center Parcs Le Lac d'Ailette      June 16, 2009       5   \n",
       "653  Center Parcs Le Lac d'Ailette      July 17, 2009       4   \n",
       "654  Center Parcs Le Lac d'Ailette       May 31, 2009       3   \n",
       "655  Center Parcs Le Lac d'Ailette       June 2, 2008       5   \n",
       "656  Center Parcs Le Lac d'Ailette       May 31, 2008       2   \n",
       "657  Center Parcs Le Lac d'Ailette    August 15, 2008       3   \n",
       "658  Center Parcs Le Lac d'Ailette    August 22, 2008       4   \n",
       "659  Center Parcs Le Lac d'Ailette       May 31, 2008       4   \n",
       "660  Center Parcs Le Lac d'Ailette     April 20, 2008       3   \n",
       "661  Center Parcs Le Lac d'Ailette     March 30, 2008       3   \n",
       "662  Center Parcs Le Lac d'Ailette   November 1, 2007       4   \n",
       "\n",
       "                                                review language  \\\n",
       "0    Apr\\u00e8s une d\\u00e9sastreuse aventure au Bo...       fr   \n",
       "1    Ambiance d\\u00e9tendue , une vraie d\\u00e9conn...       fr   \n",
       "2    Premi\\u00e8re fois que nous allions \\u00e0 cen...       fr   \n",
       "3    G\\u00e9nial pour les enfants petits et grands ...       fr   \n",
       "4    Nous avons fait une r\\u00e9servation avec notr...       fr   \n",
       "5    This was the third European CP we\\'ve visited,...       en   \n",
       "6    I have to admit after reading so many negative...       en   \n",
       "7    they have good amenities but the cottages are ...       en   \n",
       "8    Pool was fun but there was overcrowding at tim...       en   \n",
       "9    Our third European Centre Parcs.  The location...       en   \n",
       "10   Hi- we are on our way home following a week at...       en   \n",
       "11   the place is nice, looks good.BUT we arrived t...       en   \n",
       "12   Journey from folkestone was easy it took appro...       en   \n",
       "13   Just had a fab family holiday plenty to do and...       en   \n",
       "14   This was our third stay in a Center Parcs\\' vi...       en   \n",
       "15   Stayed 24th Aug to 27th Aug. Very easy to get ...       en   \n",
       "16   So getting here was easy just 2.5 hours from C...       en   \n",
       "17   We had a nice family weekend here. It is a ver...       en   \n",
       "18   We had a fantastic 7 night stay at the start o...       en   \n",
       "19   Stayed in premium 4 bed house 401! Not a fault...       en   \n",
       "20   What a great place to stay! Lovely peaceful, g...       en   \n",
       "21   I am writing this on my last day sitting on a ...       en   \n",
       "22   We have just returned from a trip to this Cent...       en   \n",
       "23   Aqua mundo was the highlight- whole family lov...       en   \n",
       "24   We spent 4 nights recently and had a good time...       en   \n",
       "25   Stayed in a Premium 4 bedroom cottage, loads o...       en   \n",
       "26   Our family visited this parc last week. Premiu...       en   \n",
       "27   I was really torn when it came to booking this...       en   \n",
       "28   We had a great holiday at Le Lac there were pl...       en   \n",
       "29   Please don\\u2019t be put off by some of the re...       en   \n",
       "..                                                 ...      ...   \n",
       "633  We returned from Center Parcs Le Lac d\\u2019Ai...       en   \n",
       "634  Filthy dirty villas; filthy swimming pools; la...       en   \n",
       "635  We have been to 2 of the UK parcs and although...       en   \n",
       "636  We totally agree with all the positive reviews...       en   \n",
       "637  Just returned from 2 weeks at this park after ...       en   \n",
       "638  Having visited UK parks and one in Belguim  - ...       en   \n",
       "639  like, I suspect,  other people I was a bit anx...       en   \n",
       "640  After reading some bad reviews I was a bit sce...       en   \n",
       "641  Spent a week in that park with 4 children. The...       en   \n",
       "642  This was my first experience of centre parcs f...       en   \n",
       "643  I really enjoyed this holiday at Center Parcs,...       en   \n",
       "644  I\\'m french so get used to go in the French Ce...       en   \n",
       "645  We had a great holiday, checkin was a breeze a...       en   \n",
       "646  The site was badly signposted when you arrived...       en   \n",
       "647  We booked this CP as a change to our normal du...       en   \n",
       "648  In summary, the pool and kids facilites were g...       en   \n",
       "649  Having enjoyed many stays at all the various E...       en   \n",
       "650  This is the fourth Center Parcs I have visited...       en   \n",
       "651  This was our fifth visit to centerparcs Europe...       en   \n",
       "652  We stayed here for a week 29th May to 5th June...       en   \n",
       "653  This is the 3rd Euro CP I have visited in the ...       en   \n",
       "654  Firstly I have to say that we have been to CP\\...       en   \n",
       "655  Did Monday to Friday half term week and it was...       en   \n",
       "656  Not impressed with Centre Parcs at all - site ...       en   \n",
       "657  This is the 7th different Center Parcs we have...       en   \n",
       "658  I\\'m not sure what I make of this place! It\\'s...       en   \n",
       "659  We (my husband, 5 and 6 years old girls and my...       en   \n",
       "660  Visited here in April with my husband and 2 ch...       en   \n",
       "661  Journey time from Calais takes approximately 2...       en   \n",
       "662  We stayed at this new Center Parcs 22nd to 26t...       en   \n",
       "\n",
       "                                                 title        trip_date  \n",
       "0                               tr\\u00e8s bon week end        août 2018  \n",
       "1    S\\u00e9jour agr\\u00e9able comme toujours ,une ...        mars 2018  \n",
       "2                               3,5 serait plus juste      juillet 2018  \n",
       "3                                  Endroit sympathique       avril 2018  \n",
       "4                   R\\u00e9servation f\\u00e9vrier 2019     janvier 2019  \n",
       "5             Great holiday, but too many cars on site      August 2018  \n",
       "6                                Supassed expectations      August 2018  \n",
       "7        good amenities but the cottages are not clean      August 2018  \n",
       "8                 Not enamoured with Le Lac D\\'Ailette      August 2018  \n",
       "9                   Family holiday - children 10 and 7      August 2018  \n",
       "10                         Very tired and dirty resort      August 2018  \n",
       "11             Nice place, super disappointing service      August 2018  \n",
       "12                                     Annual holiday         June 2017  \n",
       "13                                           Fantastic      August 2018  \n",
       "14                                            Not good      August 2018  \n",
       "15                                      \\'A surprise\\'      August 2018  \n",
       "16           Brilliant Holiday - Here\\u2019s some tips      August 2018  \n",
       "17           Fun weekend but not the best centre parcs        July 2018  \n",
       "18                 Fantastic stay for the whole family      August 2018  \n",
       "19                                   Best Centre Parcs   September 2017  \n",
       "20             Great place, will definitely come back!      August 2018  \n",
       "21                        Don\\u2019t believe the hype!      August 2018  \n",
       "22   Works well - kids loved - easy travels - comfo...      August 2018  \n",
       "23                                   Centre parcs fun!      August 2018  \n",
       "24                                  Overall great stay      August 2018  \n",
       "25                     Great stay!!! Good family fun!!      August 2018  \n",
       "26                        Things could be really good.      August 2018  \n",
       "27              Enjoyable but not sure we would return      August 2018  \n",
       "28                                             Aug Fun      August 2018  \n",
       "29                                 Brilliant holiday!       August 2018  \n",
       "..                                                 ...              ...  \n",
       "633                Not for us...dirty and understaffed     October 2010  \n",
       "634                                 Cryptosporidium!!!    February 2011  \n",
       "635                        Just like the UK but better      August 2010  \n",
       "636  Great Holiday for Disabled - Really relaxing a...      August 2010  \n",
       "637  Great setting, good accomodation, good facilities      August 2010  \n",
       "638                                    best so far....      August 2010  \n",
       "639  Ignore all the negativity of previous reports ...      August 2010  \n",
       "640        Fantastic holiday with breathtaking nature!        June 2010  \n",
       "641                           Great holiday for family        June 2010  \n",
       "642  Good for children but not clean and far too mu...        June 2010  \n",
       "643             Great Family Holiday With Plenty To Do      August 2009  \n",
       "644                                 No value for money         May 2010  \n",
       "645                                  A superb holiday,        July 2009  \n",
       "646                              The worst trip ever!!        July 2007  \n",
       "647                                     Enjoyable stay        July 2009  \n",
       "648                         Best Centre Parc in France        July 2009  \n",
       "649        Great Lake Vista - Retaurants Disappointing        July 2009  \n",
       "650                   Fantastic Children\\'s Play Areas    December 2008  \n",
       "651                         ok but a bit of a rip off!         May 2009  \n",
       "652   Great week, the sun shone and everyone was happy         May 2009  \n",
       "653                 How many flumes can a man take ???         May 2009  \n",
       "654                    A different type of Centerparcs         May 2009  \n",
       "655                                        fab fab fab         May 2008  \n",
       "656                  Stay at Home and save your money!         May 2008  \n",
       "657                           Not the best Ceter Parcs      August 2008  \n",
       "658                    Center Parcs meets Newport Bay!      August 2008  \n",
       "659                      Happy kids = happy parents ;)         May 2008  \n",
       "660  Great pool, great houses, awful sports facilities       April 2008  \n",
       "661  newly designed accomodation  a breath of fresh...       March 2008  \n",
       "662  First review of great new Center Parcs in Fran...     October 2007  \n",
       "\n",
       "[663 rows x 7 columns]"
      ]
     },
     "execution_count": 48,
     "metadata": {},
     "output_type": "execute_result"
    }
   ],
   "source": [
    "df1 = df[['hotel_name','published_date','rating','review','review_language','title','trip_date']]\n",
    "df1.columns = ['hotel_name','published_date','rating','review','language','title','trip_date']\n",
    "df1"
   ]
  },
  {
   "cell_type": "code",
   "execution_count": 58,
   "metadata": {
    "collapsed": true
   },
   "outputs": [
    {
     "data": {
      "text/plain": [
       "0      Après une désastreuse aventure au Bois franc, ...\n",
       "1      Ambiance détendue , une vraie déconnexion.  Le...\n",
       "2      Première fois que nous allions à center Parcs ...\n",
       "3      Génial pour les enfants petits et grands ! Ple...\n",
       "4      Nous avons fait une réservation avec notre CE ...\n",
       "5      This was the third European CP we've visited, ...\n",
       "6      I have to admit after reading so many negative...\n",
       "7      they have good amenities but the cottages are ...\n",
       "8      Pool was fun but there was overcrowding at tim...\n",
       "9      Our third European Centre Parcs.  The location...\n",
       "10     Hi- we are on our way home following a week at...\n",
       "11     the place is nice, looks good.BUT we arrived t...\n",
       "12     Journey from folkestone was easy it took appro...\n",
       "13     Just had a fab family holiday plenty to do and...\n",
       "14     This was our third stay in a Center Parcs' vil...\n",
       "15     Stayed 24th Aug to 27th Aug. Very easy to get ...\n",
       "16     So getting here was easy just 2.5 hours from C...\n",
       "17     We had a nice family weekend here. It is a ver...\n",
       "18     We had a fantastic 7 night stay at the start o...\n",
       "19     Stayed in premium 4 bed house 401! Not a fault...\n",
       "20     What a great place to stay! Lovely peaceful, g...\n",
       "21     I am writing this on my last day sitting on a ...\n",
       "22     We have just returned from a trip to this Cent...\n",
       "23     Aqua mundo was the highlight- whole family lov...\n",
       "24     We spent 4 nights recently and had a good time...\n",
       "25     Stayed in a Premium 4 bedroom cottage, loads o...\n",
       "26     Our family visited this parc last week. Premiu...\n",
       "27     I was really torn when it came to booking this...\n",
       "28     We had a great holiday at Le Lac there were pl...\n",
       "29     Please don't be put off by some of the reviews...\n",
       "                             ...                        \n",
       "633    We returned from Center Parcs Le Lac d'Ailette...\n",
       "634    Filthy dirty villas; filthy swimming pools; la...\n",
       "635    We have been to 2 of the UK parcs and although...\n",
       "636    We totally agree with all the positive reviews...\n",
       "637    Just returned from 2 weeks at this park after ...\n",
       "638    Having visited UK parks and one in Belguim  - ...\n",
       "639    like, I suspect,  other people I was a bit anx...\n",
       "640    After reading some bad reviews I was a bit sce...\n",
       "641    Spent a week in that park with 4 children. The...\n",
       "642    This was my first experience of centre parcs f...\n",
       "643    I really enjoyed this holiday at Center Parcs,...\n",
       "644    I'm french so get used to go in the French Cen...\n",
       "645    We had a great holiday, checkin was a breeze a...\n",
       "646    The site was badly signposted when you arrived...\n",
       "647    We booked this CP as a change to our normal du...\n",
       "648    In summary, the pool and kids facilites were g...\n",
       "649    Having enjoyed many stays at all the various E...\n",
       "650    This is the fourth Center Parcs I have visited...\n",
       "651    This was our fifth visit to centerparcs Europe...\n",
       "652    We stayed here for a week 29th May to 5th June...\n",
       "653    This is the 3rd Euro CP I have visited in the ...\n",
       "654    Firstly I have to say that we have been to CP'...\n",
       "655    Did Monday to Friday half term week and it was...\n",
       "656    Not impressed with Centre Parcs at all - site ...\n",
       "657    This is the 7th different Center Parcs we have...\n",
       "658    I'm not sure what I make of this place! It's t...\n",
       "659    We (my husband, 5 and 6 years old girls and my...\n",
       "660    Visited here in April with my husband and 2 ch...\n",
       "661    Journey time from Calais takes approximately 2...\n",
       "662    We stayed at this new Center Parcs 22nd to 26t...\n",
       "Name: review, Length: 663, dtype: object"
      ]
     },
     "execution_count": 58,
     "metadata": {},
     "output_type": "execute_result"
    }
   ],
   "source": [
    "df1.review = df1.review.apply(lambda x:x.replace(r\"\\u00e8\",\"è\"))\n",
    "df1.review = df1.review.apply(lambda x:x.replace(r'\\u00e9', 'é'))\n",
    "df1.review = df1.review.apply(lambda x:x.replace(r\"\\u00ea\",\"ê\"))\n",
    "df1.review = df1.review.apply(lambda x:x.replace(r\"\\u00eb\",\"ë\"))\n",
    "df1.review = df1.review.apply(lambda x:x.replace(r\"\\u00fb\",\"û\"))\n",
    "df1.review = df1.review.apply(lambda x:x.replace(r\"\\u00f9\",\"ù\"))\n",
    "df1.review = df1.review.apply(lambda x:x.replace(r'\\u00e0', 'à'))\n",
    "df1.review = df1.review.apply(lambda x:x.replace(r'\\u00e2', 'â'))\n",
    "df1.review = df1.review.apply(lambda x:x.replace(r'\\u00f4', 'ô'))\n",
    "df1.review = df1.review.apply(lambda x:x.replace(r'\\u00ee', 'î'))\n",
    "df1.review = df1.review.apply(lambda x:x.replace(r'\\u00ef', 'ï'))\n",
    "df1.review = df1.review.apply(lambda x:x.replace(r'\\u2019', \"'\"))\n",
    "df1.review = df1.review.apply(lambda x:x.replace(r'\\'', \"'\"))\n",
    "\n",
    "df1.review"
   ]
  },
  {
   "cell_type": "code",
   "execution_count": 59,
   "metadata": {
    "collapsed": true
   },
   "outputs": [
    {
     "data": {
      "text/plain": [
       "0                                      très bon week end\n",
       "1      Séjour agréable comme toujours ,une vraie déco...\n",
       "2                                 3,5 serait plus juste \n",
       "3                                    Endroit sympathique\n",
       "4                               Réservation février 2019\n",
       "5               Great holiday, but too many cars on site\n",
       "6                                  Supassed expectations\n",
       "7          good amenities but the cottages are not clean\n",
       "8                    Not enamoured with Le Lac D'Ailette\n",
       "9                     Family holiday - children 10 and 7\n",
       "10                           Very tired and dirty resort\n",
       "11               Nice place, super disappointing service\n",
       "12                                       Annual holiday \n",
       "13                                             Fantastic\n",
       "14                                              Not good\n",
       "15                                          'A surprise'\n",
       "16                  Brilliant Holiday - Here's some tips\n",
       "17             Fun weekend but not the best centre parcs\n",
       "18                   Fantastic stay for the whole family\n",
       "19                                     Best Centre Parcs\n",
       "20               Great place, will definitely come back!\n",
       "21                               Don't believe the hype!\n",
       "22     Works well - kids loved - easy travels - comfo...\n",
       "23                                     Centre parcs fun!\n",
       "24                                    Overall great stay\n",
       "25                       Great stay!!! Good family fun!!\n",
       "26                          Things could be really good.\n",
       "27                Enjoyable but not sure we would return\n",
       "28                                               Aug Fun\n",
       "29                                   Brilliant holiday! \n",
       "                             ...                        \n",
       "633                  Not for us...dirty and understaffed\n",
       "634                                   Cryptosporidium!!!\n",
       "635                          Just like the UK but better\n",
       "636    Great Holiday for Disabled - Really relaxing a...\n",
       "637    Great setting, good accomodation, good facilities\n",
       "638                                      best so far....\n",
       "639    Ignore all the negativity of previous reports ...\n",
       "640          Fantastic holiday with breathtaking nature!\n",
       "641                             Great holiday for family\n",
       "642    Good for children but not clean and far too mu...\n",
       "643               Great Family Holiday With Plenty To Do\n",
       "644                                   No value for money\n",
       "645                                    A superb holiday,\n",
       "646                                The worst trip ever!!\n",
       "647                                       Enjoyable stay\n",
       "648                           Best Centre Parc in France\n",
       "649          Great Lake Vista - Retaurants Disappointing\n",
       "650                      Fantastic Children's Play Areas\n",
       "651                           ok but a bit of a rip off!\n",
       "652     Great week, the sun shone and everyone was happy\n",
       "653                   How many flumes can a man take ???\n",
       "654                      A different type of Centerparcs\n",
       "655                                          fab fab fab\n",
       "656                    Stay at Home and save your money!\n",
       "657                             Not the best Ceter Parcs\n",
       "658                      Center Parcs meets Newport Bay!\n",
       "659                        Happy kids = happy parents ;)\n",
       "660    Great pool, great houses, awful sports facilities\n",
       "661    newly designed accomodation  a breath of fresh...\n",
       "662    First review of great new Center Parcs in Fran...\n",
       "Name: title, Length: 663, dtype: object"
      ]
     },
     "execution_count": 59,
     "metadata": {},
     "output_type": "execute_result"
    }
   ],
   "source": [
    "df1.title = df1.title.apply(lambda x:x.replace(r\"\\u00e8\",\"è\"))\n",
    "df1.title = df1.title.apply(lambda x:x.replace(r'\\u00e9', 'é'))\n",
    "df1.title = df1.title.apply(lambda x:x.replace(r\"\\u00ea\",\"ê\"))\n",
    "df1.title = df1.title.apply(lambda x:x.replace(r\"\\u00eb\",\"ë\"))\n",
    "df1.title = df1.title.apply(lambda x:x.replace(r\"\\u00f9\",\"ù\"))\n",
    "df1.title = df1.title.apply(lambda x:x.replace(r'\\u00ee', 'î'))\n",
    "df1.title = df1.title.apply(lambda x:x.replace(r'\\u00ef', 'ï'))\n",
    "df1.title = df1.title.apply(lambda x:x.replace(r\"\\u00fb\",\"û\"))\n",
    "df1.title = df1.title.apply(lambda x:x.replace(r'\\u00e0', 'à'))\n",
    "df1.title = df1.title.apply(lambda x:x.replace(r'\\u00e2', 'â'))\n",
    "df1.title = df1.title.apply(lambda x:x.replace(r'\\u00f4', 'ô'))\n",
    "df1.title = df1.title.apply(lambda x:x.replace(r'\\u2019', \"'\"))\n",
    "df1.title = df1.title.apply(lambda x:x.replace(r'\\'', \"'\"))\n",
    "\n",
    "df1.title"
   ]
  },
  {
   "cell_type": "code",
   "execution_count": 60,
   "metadata": {},
   "outputs": [],
   "source": [
    "df1.trip_date = df1.trip_date.apply(lambda x:x.replace(r\"\\u00e8\",\"è\"))\n",
    "df1.trip_date = df1.trip_date.apply(lambda x:x.replace(r'\\u00e9', 'é'))\n",
    "df1.trip_date = df1.trip_date.apply(lambda x:x.replace(r\"\\u00ea\",\"ê\"))\n",
    "df1.trip_date = df1.trip_date.apply(lambda x:x.replace(r\"\\u00eb\",\"ë\"))\n",
    "df1.trip_date = df1.trip_date.apply(lambda x:x.replace(r\"\\u00f9\",\"ù\"))\n",
    "df1.trip_date = df1.trip_date.apply(lambda x:x.replace(r'\\u00ee', 'î'))\n",
    "df1.trip_date = df1.trip_date.apply(lambda x:x.replace(r'\\u00ef', 'ï'))\n",
    "df1.trip_date = df1.trip_date.apply(lambda x:x.replace(r\"\\u00fb\",\"û\"))\n",
    "df1.trip_date = df1.trip_date.apply(lambda x:x.replace(r'\\u00e0', 'à'))\n",
    "df1.trip_date = df1.trip_date.apply(lambda x:x.replace(r'\\u00e2', 'â'))\n",
    "df1.trip_date = df1.trip_date.apply(lambda x:x.replace(r'\\u00f4', 'ô'))\n",
    "df1.trip_date = df1.trip_date.apply(lambda x:x.replace(r'\\u2019', \"'\"))\n",
    "df1.trip_date = df1.trip_date.apply(lambda x:x.replace(r'\\'', \"'\"))"
   ]
  },
  {
   "cell_type": "code",
   "execution_count": 52,
   "metadata": {},
   "outputs": [
    {
     "data": {
      "text/plain": [
       "0      Après une désastreuse aventure au Bois franc, ...\n",
       "1      Ambiance détendue , une vraie déconnexion.  Le...\n",
       "2      Première fois que nous allions à center Parcs ...\n",
       "3      Génial pour les enfants petits et grands ! Ple...\n",
       "4      Nous avons fait une réservation avec notre CE ...\n",
       "5      This was the third European CP we've visited, ...\n",
       "6      I have to admit after reading so many negative...\n",
       "7      they have good amenities but the cottages are ...\n",
       "8      Pool was fun but there was overcrowding at tim...\n",
       "9      Our third European Centre Parcs.  The location...\n",
       "10     Hi- we are on our way home following a week at...\n",
       "11     the place is nice, looks good.BUT we arrived t...\n",
       "12     Journey from folkestone was easy it took appro...\n",
       "13     Just had a fab family holiday plenty to do and...\n",
       "14     This was our third stay in a Center Parcs' vil...\n",
       "15     Stayed 24th Aug to 27th Aug. Very easy to get ...\n",
       "16     So getting here was easy just 2.5 hours from C...\n",
       "17     We had a nice family weekend here. It is a ver...\n",
       "18     We had a fantastic 7 night stay at the start o...\n",
       "19     Stayed in premium 4 bed house 401! Not a fault...\n",
       "20     What a great place to stay! Lovely peaceful, g...\n",
       "21     I am writing this on my last day sitting on a ...\n",
       "22     We have just returned from a trip to this Cent...\n",
       "23     Aqua mundo was the highlight- whole family lov...\n",
       "24     We spent 4 nights recently and had a good time...\n",
       "25     Stayed in a Premium 4 bedroom cottage, loads o...\n",
       "26     Our family visited this parc last week. Premiu...\n",
       "27     I was really torn when it came to booking this...\n",
       "28     We had a great holiday at Le Lac there were pl...\n",
       "29     Please don't be put off by some of the reviews...\n",
       "                             ...                        \n",
       "633    We returned from Center Parcs Le Lac d'Ailette...\n",
       "634    Filthy dirty villas; filthy swimming pools; la...\n",
       "635    We have been to 2 of the UK parcs and although...\n",
       "636    We totally agree with all the positive reviews...\n",
       "637    Just returned from 2 weeks at this park after ...\n",
       "638    Having visited UK parks and one in Belguim  - ...\n",
       "639    like, I suspect,  other people I was a bit anx...\n",
       "640    After reading some bad reviews I was a bit sce...\n",
       "641    Spent a week in that park with 4 children. The...\n",
       "642    This was my first experience of centre parcs f...\n",
       "643    I really enjoyed this holiday at Center Parcs,...\n",
       "644    I'm french so get used to go in the French Cen...\n",
       "645    We had a great holiday, checkin was a breeze a...\n",
       "646    The site was badly signposted when you arrived...\n",
       "647    We booked this CP as a change to our normal du...\n",
       "648    In summary, the pool and kids facilites were g...\n",
       "649    Having enjoyed many stays at all the various E...\n",
       "650    This is the fourth Center Parcs I have visited...\n",
       "651    This was our fifth visit to centerparcs Europe...\n",
       "652    We stayed here for a week 29th May to 5th June...\n",
       "653    This is the 3rd Euro CP I have visited in the ...\n",
       "654    Firstly I have to say that we have been to CP'...\n",
       "655    Did Monday to Friday half term week and it was...\n",
       "656    Not impressed with Centre Parcs at all - site ...\n",
       "657    This is the 7th different Center Parcs we have...\n",
       "658    I'm not sure what I make of this place! It's t...\n",
       "659    We (my husband, 5 and 6 years old girls and my...\n",
       "660    Visited here in April with my husband and 2 ch...\n",
       "661    Journey time from Calais takes approximately 2...\n",
       "662    We stayed at this new Center Parcs 22nd to 26t...\n",
       "Name: review, Length: 663, dtype: object"
      ]
     },
     "execution_count": 52,
     "metadata": {},
     "output_type": "execute_result"
    }
   ],
   "source": [
    "df1['review']"
   ]
  },
  {
   "cell_type": "code",
   "execution_count": null,
   "metadata": {},
   "outputs": [],
   "source": []
  },
  {
   "cell_type": "markdown",
   "metadata": {
    "colab_type": "text",
    "id": "O3KKfifnDq2V"
   },
   "source": [
    "# Shapping dataFrame"
   ]
  },
  {
   "cell_type": "markdown",
   "metadata": {},
   "source": [
    "**Making some modifications from raw data**"
   ]
  },
  {
   "cell_type": "code",
   "execution_count": 81,
   "metadata": {
    "colab": {
     "base_uri": "https://localhost:8080/",
     "height": 235
    },
    "colab_type": "code",
    "id": "mDAVmCJdtM31",
    "outputId": "05c9ca5c-3b48-4564-dce2-470ca8a9c320"
   },
   "outputs": [
    {
     "ename": "KeyError",
     "evalue": "'published_date'",
     "output_type": "error",
     "traceback": [
      "\u001b[1;31m---------------------------------------------------------------------------\u001b[0m",
      "\u001b[1;31mKeyError\u001b[0m                                  Traceback (most recent call last)",
      "\u001b[1;32m~\\Anaconda3\\lib\\site-packages\\pandas\\core\\indexes\\base.py\u001b[0m in \u001b[0;36mget_loc\u001b[1;34m(self, key, method, tolerance)\u001b[0m\n\u001b[0;32m   3077\u001b[0m             \u001b[1;32mtry\u001b[0m\u001b[1;33m:\u001b[0m\u001b[1;33m\u001b[0m\u001b[1;33m\u001b[0m\u001b[0m\n\u001b[1;32m-> 3078\u001b[1;33m                 \u001b[1;32mreturn\u001b[0m \u001b[0mself\u001b[0m\u001b[1;33m.\u001b[0m\u001b[0m_engine\u001b[0m\u001b[1;33m.\u001b[0m\u001b[0mget_loc\u001b[0m\u001b[1;33m(\u001b[0m\u001b[0mkey\u001b[0m\u001b[1;33m)\u001b[0m\u001b[1;33m\u001b[0m\u001b[1;33m\u001b[0m\u001b[0m\n\u001b[0m\u001b[0;32m   3079\u001b[0m             \u001b[1;32mexcept\u001b[0m \u001b[0mKeyError\u001b[0m\u001b[1;33m:\u001b[0m\u001b[1;33m\u001b[0m\u001b[1;33m\u001b[0m\u001b[0m\n",
      "\u001b[1;32mpandas\\_libs\\index.pyx\u001b[0m in \u001b[0;36mpandas._libs.index.IndexEngine.get_loc\u001b[1;34m()\u001b[0m\n",
      "\u001b[1;32mpandas\\_libs\\index.pyx\u001b[0m in \u001b[0;36mpandas._libs.index.IndexEngine.get_loc\u001b[1;34m()\u001b[0m\n",
      "\u001b[1;32mpandas\\_libs\\hashtable_class_helper.pxi\u001b[0m in \u001b[0;36mpandas._libs.hashtable.PyObjectHashTable.get_item\u001b[1;34m()\u001b[0m\n",
      "\u001b[1;32mpandas\\_libs\\hashtable_class_helper.pxi\u001b[0m in \u001b[0;36mpandas._libs.hashtable.PyObjectHashTable.get_item\u001b[1;34m()\u001b[0m\n",
      "\u001b[1;31mKeyError\u001b[0m: 'published_date'",
      "\nDuring handling of the above exception, another exception occurred:\n",
      "\u001b[1;31mKeyError\u001b[0m                                  Traceback (most recent call last)",
      "\u001b[1;32m<ipython-input-81-0b0e3cac322e>\u001b[0m in \u001b[0;36m<module>\u001b[1;34m\u001b[0m\n\u001b[0;32m      6\u001b[0m \u001b[1;33m\u001b[0m\u001b[0m\n\u001b[0;32m      7\u001b[0m \u001b[1;31m# Setting date as index\u001b[0m\u001b[1;33m\u001b[0m\u001b[1;33m\u001b[0m\u001b[1;33m\u001b[0m\u001b[0m\n\u001b[1;32m----> 8\u001b[1;33m \u001b[0mdf1\u001b[0m\u001b[1;33m.\u001b[0m\u001b[0mset_index\u001b[0m\u001b[1;33m(\u001b[0m\u001b[1;34m'published_date'\u001b[0m\u001b[1;33m,\u001b[0m \u001b[0minplace\u001b[0m \u001b[1;33m=\u001b[0m \u001b[1;32mTrue\u001b[0m\u001b[1;33m)\u001b[0m\u001b[1;33m\u001b[0m\u001b[1;33m\u001b[0m\u001b[0m\n\u001b[0m\u001b[0;32m      9\u001b[0m \u001b[1;33m\u001b[0m\u001b[0m\n\u001b[0;32m     10\u001b[0m \u001b[1;31m#  Displaying result\u001b[0m\u001b[1;33m\u001b[0m\u001b[1;33m\u001b[0m\u001b[1;33m\u001b[0m\u001b[0m\n",
      "\u001b[1;32m~\\Anaconda3\\lib\\site-packages\\pandas\\core\\frame.py\u001b[0m in \u001b[0;36mset_index\u001b[1;34m(self, keys, drop, append, inplace, verify_integrity)\u001b[0m\n\u001b[0;32m   3907\u001b[0m                 \u001b[0mnames\u001b[0m\u001b[1;33m.\u001b[0m\u001b[0mappend\u001b[0m\u001b[1;33m(\u001b[0m\u001b[1;32mNone\u001b[0m\u001b[1;33m)\u001b[0m\u001b[1;33m\u001b[0m\u001b[1;33m\u001b[0m\u001b[0m\n\u001b[0;32m   3908\u001b[0m             \u001b[1;32melse\u001b[0m\u001b[1;33m:\u001b[0m\u001b[1;33m\u001b[0m\u001b[1;33m\u001b[0m\u001b[0m\n\u001b[1;32m-> 3909\u001b[1;33m                 \u001b[0mlevel\u001b[0m \u001b[1;33m=\u001b[0m \u001b[0mframe\u001b[0m\u001b[1;33m[\u001b[0m\u001b[0mcol\u001b[0m\u001b[1;33m]\u001b[0m\u001b[1;33m.\u001b[0m\u001b[0m_values\u001b[0m\u001b[1;33m\u001b[0m\u001b[1;33m\u001b[0m\u001b[0m\n\u001b[0m\u001b[0;32m   3910\u001b[0m                 \u001b[0mnames\u001b[0m\u001b[1;33m.\u001b[0m\u001b[0mappend\u001b[0m\u001b[1;33m(\u001b[0m\u001b[0mcol\u001b[0m\u001b[1;33m)\u001b[0m\u001b[1;33m\u001b[0m\u001b[1;33m\u001b[0m\u001b[0m\n\u001b[0;32m   3911\u001b[0m                 \u001b[1;32mif\u001b[0m \u001b[0mdrop\u001b[0m\u001b[1;33m:\u001b[0m\u001b[1;33m\u001b[0m\u001b[1;33m\u001b[0m\u001b[0m\n",
      "\u001b[1;32m~\\Anaconda3\\lib\\site-packages\\pandas\\core\\frame.py\u001b[0m in \u001b[0;36m__getitem__\u001b[1;34m(self, key)\u001b[0m\n\u001b[0;32m   2686\u001b[0m             \u001b[1;32mreturn\u001b[0m \u001b[0mself\u001b[0m\u001b[1;33m.\u001b[0m\u001b[0m_getitem_multilevel\u001b[0m\u001b[1;33m(\u001b[0m\u001b[0mkey\u001b[0m\u001b[1;33m)\u001b[0m\u001b[1;33m\u001b[0m\u001b[1;33m\u001b[0m\u001b[0m\n\u001b[0;32m   2687\u001b[0m         \u001b[1;32melse\u001b[0m\u001b[1;33m:\u001b[0m\u001b[1;33m\u001b[0m\u001b[1;33m\u001b[0m\u001b[0m\n\u001b[1;32m-> 2688\u001b[1;33m             \u001b[1;32mreturn\u001b[0m \u001b[0mself\u001b[0m\u001b[1;33m.\u001b[0m\u001b[0m_getitem_column\u001b[0m\u001b[1;33m(\u001b[0m\u001b[0mkey\u001b[0m\u001b[1;33m)\u001b[0m\u001b[1;33m\u001b[0m\u001b[1;33m\u001b[0m\u001b[0m\n\u001b[0m\u001b[0;32m   2689\u001b[0m \u001b[1;33m\u001b[0m\u001b[0m\n\u001b[0;32m   2690\u001b[0m     \u001b[1;32mdef\u001b[0m \u001b[0m_getitem_column\u001b[0m\u001b[1;33m(\u001b[0m\u001b[0mself\u001b[0m\u001b[1;33m,\u001b[0m \u001b[0mkey\u001b[0m\u001b[1;33m)\u001b[0m\u001b[1;33m:\u001b[0m\u001b[1;33m\u001b[0m\u001b[1;33m\u001b[0m\u001b[0m\n",
      "\u001b[1;32m~\\Anaconda3\\lib\\site-packages\\pandas\\core\\frame.py\u001b[0m in \u001b[0;36m_getitem_column\u001b[1;34m(self, key)\u001b[0m\n\u001b[0;32m   2693\u001b[0m         \u001b[1;31m# get column\u001b[0m\u001b[1;33m\u001b[0m\u001b[1;33m\u001b[0m\u001b[1;33m\u001b[0m\u001b[0m\n\u001b[0;32m   2694\u001b[0m         \u001b[1;32mif\u001b[0m \u001b[0mself\u001b[0m\u001b[1;33m.\u001b[0m\u001b[0mcolumns\u001b[0m\u001b[1;33m.\u001b[0m\u001b[0mis_unique\u001b[0m\u001b[1;33m:\u001b[0m\u001b[1;33m\u001b[0m\u001b[1;33m\u001b[0m\u001b[0m\n\u001b[1;32m-> 2695\u001b[1;33m             \u001b[1;32mreturn\u001b[0m \u001b[0mself\u001b[0m\u001b[1;33m.\u001b[0m\u001b[0m_get_item_cache\u001b[0m\u001b[1;33m(\u001b[0m\u001b[0mkey\u001b[0m\u001b[1;33m)\u001b[0m\u001b[1;33m\u001b[0m\u001b[1;33m\u001b[0m\u001b[0m\n\u001b[0m\u001b[0;32m   2696\u001b[0m \u001b[1;33m\u001b[0m\u001b[0m\n\u001b[0;32m   2697\u001b[0m         \u001b[1;31m# duplicate columns & possible reduce dimensionality\u001b[0m\u001b[1;33m\u001b[0m\u001b[1;33m\u001b[0m\u001b[1;33m\u001b[0m\u001b[0m\n",
      "\u001b[1;32m~\\Anaconda3\\lib\\site-packages\\pandas\\core\\generic.py\u001b[0m in \u001b[0;36m_get_item_cache\u001b[1;34m(self, item)\u001b[0m\n\u001b[0;32m   2487\u001b[0m         \u001b[0mres\u001b[0m \u001b[1;33m=\u001b[0m \u001b[0mcache\u001b[0m\u001b[1;33m.\u001b[0m\u001b[0mget\u001b[0m\u001b[1;33m(\u001b[0m\u001b[0mitem\u001b[0m\u001b[1;33m)\u001b[0m\u001b[1;33m\u001b[0m\u001b[1;33m\u001b[0m\u001b[0m\n\u001b[0;32m   2488\u001b[0m         \u001b[1;32mif\u001b[0m \u001b[0mres\u001b[0m \u001b[1;32mis\u001b[0m \u001b[1;32mNone\u001b[0m\u001b[1;33m:\u001b[0m\u001b[1;33m\u001b[0m\u001b[1;33m\u001b[0m\u001b[0m\n\u001b[1;32m-> 2489\u001b[1;33m             \u001b[0mvalues\u001b[0m \u001b[1;33m=\u001b[0m \u001b[0mself\u001b[0m\u001b[1;33m.\u001b[0m\u001b[0m_data\u001b[0m\u001b[1;33m.\u001b[0m\u001b[0mget\u001b[0m\u001b[1;33m(\u001b[0m\u001b[0mitem\u001b[0m\u001b[1;33m)\u001b[0m\u001b[1;33m\u001b[0m\u001b[1;33m\u001b[0m\u001b[0m\n\u001b[0m\u001b[0;32m   2490\u001b[0m             \u001b[0mres\u001b[0m \u001b[1;33m=\u001b[0m \u001b[0mself\u001b[0m\u001b[1;33m.\u001b[0m\u001b[0m_box_item_values\u001b[0m\u001b[1;33m(\u001b[0m\u001b[0mitem\u001b[0m\u001b[1;33m,\u001b[0m \u001b[0mvalues\u001b[0m\u001b[1;33m)\u001b[0m\u001b[1;33m\u001b[0m\u001b[1;33m\u001b[0m\u001b[0m\n\u001b[0;32m   2491\u001b[0m             \u001b[0mcache\u001b[0m\u001b[1;33m[\u001b[0m\u001b[0mitem\u001b[0m\u001b[1;33m]\u001b[0m \u001b[1;33m=\u001b[0m \u001b[0mres\u001b[0m\u001b[1;33m\u001b[0m\u001b[1;33m\u001b[0m\u001b[0m\n",
      "\u001b[1;32m~\\Anaconda3\\lib\\site-packages\\pandas\\core\\internals.py\u001b[0m in \u001b[0;36mget\u001b[1;34m(self, item, fastpath)\u001b[0m\n\u001b[0;32m   4113\u001b[0m \u001b[1;33m\u001b[0m\u001b[0m\n\u001b[0;32m   4114\u001b[0m             \u001b[1;32mif\u001b[0m \u001b[1;32mnot\u001b[0m \u001b[0misna\u001b[0m\u001b[1;33m(\u001b[0m\u001b[0mitem\u001b[0m\u001b[1;33m)\u001b[0m\u001b[1;33m:\u001b[0m\u001b[1;33m\u001b[0m\u001b[1;33m\u001b[0m\u001b[0m\n\u001b[1;32m-> 4115\u001b[1;33m                 \u001b[0mloc\u001b[0m \u001b[1;33m=\u001b[0m \u001b[0mself\u001b[0m\u001b[1;33m.\u001b[0m\u001b[0mitems\u001b[0m\u001b[1;33m.\u001b[0m\u001b[0mget_loc\u001b[0m\u001b[1;33m(\u001b[0m\u001b[0mitem\u001b[0m\u001b[1;33m)\u001b[0m\u001b[1;33m\u001b[0m\u001b[1;33m\u001b[0m\u001b[0m\n\u001b[0m\u001b[0;32m   4116\u001b[0m             \u001b[1;32melse\u001b[0m\u001b[1;33m:\u001b[0m\u001b[1;33m\u001b[0m\u001b[1;33m\u001b[0m\u001b[0m\n\u001b[0;32m   4117\u001b[0m                 \u001b[0mindexer\u001b[0m \u001b[1;33m=\u001b[0m \u001b[0mnp\u001b[0m\u001b[1;33m.\u001b[0m\u001b[0marange\u001b[0m\u001b[1;33m(\u001b[0m\u001b[0mlen\u001b[0m\u001b[1;33m(\u001b[0m\u001b[0mself\u001b[0m\u001b[1;33m.\u001b[0m\u001b[0mitems\u001b[0m\u001b[1;33m)\u001b[0m\u001b[1;33m)\u001b[0m\u001b[1;33m[\u001b[0m\u001b[0misna\u001b[0m\u001b[1;33m(\u001b[0m\u001b[0mself\u001b[0m\u001b[1;33m.\u001b[0m\u001b[0mitems\u001b[0m\u001b[1;33m)\u001b[0m\u001b[1;33m]\u001b[0m\u001b[1;33m\u001b[0m\u001b[1;33m\u001b[0m\u001b[0m\n",
      "\u001b[1;32m~\\Anaconda3\\lib\\site-packages\\pandas\\core\\indexes\\base.py\u001b[0m in \u001b[0;36mget_loc\u001b[1;34m(self, key, method, tolerance)\u001b[0m\n\u001b[0;32m   3078\u001b[0m                 \u001b[1;32mreturn\u001b[0m \u001b[0mself\u001b[0m\u001b[1;33m.\u001b[0m\u001b[0m_engine\u001b[0m\u001b[1;33m.\u001b[0m\u001b[0mget_loc\u001b[0m\u001b[1;33m(\u001b[0m\u001b[0mkey\u001b[0m\u001b[1;33m)\u001b[0m\u001b[1;33m\u001b[0m\u001b[1;33m\u001b[0m\u001b[0m\n\u001b[0;32m   3079\u001b[0m             \u001b[1;32mexcept\u001b[0m \u001b[0mKeyError\u001b[0m\u001b[1;33m:\u001b[0m\u001b[1;33m\u001b[0m\u001b[1;33m\u001b[0m\u001b[0m\n\u001b[1;32m-> 3080\u001b[1;33m                 \u001b[1;32mreturn\u001b[0m \u001b[0mself\u001b[0m\u001b[1;33m.\u001b[0m\u001b[0m_engine\u001b[0m\u001b[1;33m.\u001b[0m\u001b[0mget_loc\u001b[0m\u001b[1;33m(\u001b[0m\u001b[0mself\u001b[0m\u001b[1;33m.\u001b[0m\u001b[0m_maybe_cast_indexer\u001b[0m\u001b[1;33m(\u001b[0m\u001b[0mkey\u001b[0m\u001b[1;33m)\u001b[0m\u001b[1;33m)\u001b[0m\u001b[1;33m\u001b[0m\u001b[1;33m\u001b[0m\u001b[0m\n\u001b[0m\u001b[0;32m   3081\u001b[0m \u001b[1;33m\u001b[0m\u001b[0m\n\u001b[0;32m   3082\u001b[0m         \u001b[0mindexer\u001b[0m \u001b[1;33m=\u001b[0m \u001b[0mself\u001b[0m\u001b[1;33m.\u001b[0m\u001b[0mget_indexer\u001b[0m\u001b[1;33m(\u001b[0m\u001b[1;33m[\u001b[0m\u001b[0mkey\u001b[0m\u001b[1;33m]\u001b[0m\u001b[1;33m,\u001b[0m \u001b[0mmethod\u001b[0m\u001b[1;33m=\u001b[0m\u001b[0mmethod\u001b[0m\u001b[1;33m,\u001b[0m \u001b[0mtolerance\u001b[0m\u001b[1;33m=\u001b[0m\u001b[0mtolerance\u001b[0m\u001b[1;33m)\u001b[0m\u001b[1;33m\u001b[0m\u001b[1;33m\u001b[0m\u001b[0m\n",
      "\u001b[1;32mpandas\\_libs\\index.pyx\u001b[0m in \u001b[0;36mpandas._libs.index.IndexEngine.get_loc\u001b[1;34m()\u001b[0m\n",
      "\u001b[1;32mpandas\\_libs\\index.pyx\u001b[0m in \u001b[0;36mpandas._libs.index.IndexEngine.get_loc\u001b[1;34m()\u001b[0m\n",
      "\u001b[1;32mpandas\\_libs\\hashtable_class_helper.pxi\u001b[0m in \u001b[0;36mpandas._libs.hashtable.PyObjectHashTable.get_item\u001b[1;34m()\u001b[0m\n",
      "\u001b[1;32mpandas\\_libs\\hashtable_class_helper.pxi\u001b[0m in \u001b[0;36mpandas._libs.hashtable.PyObjectHashTable.get_item\u001b[1;34m()\u001b[0m\n",
      "\u001b[1;31mKeyError\u001b[0m: 'published_date'"
     ]
    }
   ],
   "source": [
    "# Deleting '\\n' from content and name columns\n",
    "#clean_n = lambda x: ' '.join(x.split()).lower()\n",
    "\n",
    "#for col in ['name', 'content']:\n",
    "#    df[col] = df[col].apply(clean_n)\n",
    "\n",
    "# Setting date as index\n",
    "df1.set_index('published_date', inplace = True)\n",
    "\n",
    "#  Displaying result\n",
    "df1.head()"
   ]
  },
  {
   "cell_type": "markdown",
   "metadata": {
    "colab_type": "text",
    "id": "GhNwaxJMECPY"
   },
   "source": [
    "# Exploratory Data Analysis"
   ]
  },
  {
   "cell_type": "code",
   "execution_count": 66,
   "metadata": {
    "colab": {
     "base_uri": "https://localhost:8080/",
     "height": 170
    },
    "colab_type": "code",
    "id": "qzkNSIqexrGI",
    "outputId": "2ade5bd5-2369-4e99-944d-23447fd45923"
   },
   "outputs": [
    {
     "name": "stdout",
     "output_type": "stream",
     "text": [
      "<class 'pandas.core.frame.DataFrame'>\n",
      "Index: 663 entries, 27 septembre 2018 to November 1, 2007\n",
      "Data columns (total 6 columns):\n",
      "hotel_name    663 non-null object\n",
      "rating        663 non-null int64\n",
      "review        663 non-null object\n",
      "language      663 non-null object\n",
      "title         663 non-null object\n",
      "trip_date     663 non-null object\n",
      "dtypes: int64(1), object(5)\n",
      "memory usage: 36.3+ KB\n"
     ]
    }
   ],
   "source": [
    "# Even if not really useful for this case, a good habit is to start with df.describe() and df.info() when you start working on a dataFrame\n",
    "df1.info()"
   ]
  },
  {
   "cell_type": "markdown",
   "metadata": {
    "colab_type": "text",
    "id": "-S8wX_k9ELU3"
   },
   "source": [
    "**Studying eventual doubles**\n",
    "\n",
    "- We're here looking at names which are pseudos. Be careful, differents people could use the same ones. The date is a good indicator to know if the same person let 2 comments."
   ]
  },
  {
   "cell_type": "code",
   "execution_count": 67,
   "metadata": {
    "colab": {
     "base_uri": "https://localhost:8080/",
     "height": 343
    },
    "colab_type": "code",
    "id": "spwpPLb-tmBJ",
    "outputId": "1ef790e2-cd2a-4769-a5e8-81f6de3e1b32"
   },
   "outputs": [
    {
     "ename": "AttributeError",
     "evalue": "'DataFrame' object has no attribute 'reviewer_id'",
     "output_type": "error",
     "traceback": [
      "\u001b[1;31m---------------------------------------------------------------------------\u001b[0m",
      "\u001b[1;31mAttributeError\u001b[0m                            Traceback (most recent call last)",
      "\u001b[1;32m<ipython-input-67-1a08d0d4203c>\u001b[0m in \u001b[0;36m<module>\u001b[1;34m\u001b[0m\n\u001b[1;32m----> 1\u001b[1;33m \u001b[0mprint\u001b[0m\u001b[1;33m(\u001b[0m\u001b[1;34m'Number of comments'\u001b[0m\u001b[1;33m,\u001b[0m \u001b[0mdf1\u001b[0m\u001b[1;33m.\u001b[0m\u001b[0mreviewer_id\u001b[0m\u001b[1;33m.\u001b[0m\u001b[0mcount\u001b[0m\u001b[1;33m(\u001b[0m\u001b[1;33m)\u001b[0m\u001b[1;33m)\u001b[0m\u001b[1;33m\u001b[0m\u001b[1;33m\u001b[0m\u001b[0m\n\u001b[0m\u001b[0;32m      2\u001b[0m \u001b[0mprint\u001b[0m\u001b[1;33m(\u001b[0m\u001b[1;34m'Number of unique names: '\u001b[0m\u001b[1;33m,\u001b[0m \u001b[0mdf1\u001b[0m\u001b[1;33m.\u001b[0m\u001b[0mreviewer_id\u001b[0m\u001b[1;33m.\u001b[0m\u001b[0mnunique\u001b[0m\u001b[1;33m(\u001b[0m\u001b[1;33m)\u001b[0m\u001b[1;33m)\u001b[0m\u001b[1;33m\u001b[0m\u001b[1;33m\u001b[0m\u001b[0m\n\u001b[0;32m      3\u001b[0m \u001b[1;33m\u001b[0m\u001b[0m\n\u001b[0;32m      4\u001b[0m \u001b[0mdouble\u001b[0m \u001b[1;33m=\u001b[0m \u001b[0mdf1\u001b[0m\u001b[1;33m.\u001b[0m\u001b[0mreviewer_id\u001b[0m\u001b[1;33m.\u001b[0m\u001b[0mvalue_counts\u001b[0m\u001b[1;33m(\u001b[0m\u001b[1;33m)\u001b[0m\u001b[1;33m.\u001b[0m\u001b[0mindex\u001b[0m\u001b[1;33m.\u001b[0m\u001b[0mtolist\u001b[0m\u001b[1;33m(\u001b[0m\u001b[1;33m)\u001b[0m\u001b[1;33m[\u001b[0m\u001b[1;33m:\u001b[0m\u001b[0msum\u001b[0m\u001b[1;33m(\u001b[0m\u001b[0mdf1\u001b[0m\u001b[1;33m.\u001b[0m\u001b[0mreviewer_id\u001b[0m\u001b[1;33m.\u001b[0m\u001b[0mvalue_counts\u001b[0m\u001b[1;33m(\u001b[0m\u001b[1;33m)\u001b[0m\u001b[1;33m>=\u001b[0m\u001b[1;36m2\u001b[0m\u001b[1;33m)\u001b[0m\u001b[1;33m]\u001b[0m\u001b[1;33m\u001b[0m\u001b[1;33m\u001b[0m\u001b[0m\n\u001b[0;32m      5\u001b[0m \u001b[1;32mfor\u001b[0m \u001b[0mname\u001b[0m \u001b[1;32min\u001b[0m \u001b[0mdouble\u001b[0m\u001b[1;33m:\u001b[0m\u001b[1;33m\u001b[0m\u001b[1;33m\u001b[0m\u001b[0m\n",
      "\u001b[1;32m~\\Anaconda3\\lib\\site-packages\\pandas\\core\\generic.py\u001b[0m in \u001b[0;36m__getattr__\u001b[1;34m(self, name)\u001b[0m\n\u001b[0;32m   4374\u001b[0m             \u001b[1;32mif\u001b[0m \u001b[0mself\u001b[0m\u001b[1;33m.\u001b[0m\u001b[0m_info_axis\u001b[0m\u001b[1;33m.\u001b[0m\u001b[0m_can_hold_identifiers_and_holds_name\u001b[0m\u001b[1;33m(\u001b[0m\u001b[0mname\u001b[0m\u001b[1;33m)\u001b[0m\u001b[1;33m:\u001b[0m\u001b[1;33m\u001b[0m\u001b[1;33m\u001b[0m\u001b[0m\n\u001b[0;32m   4375\u001b[0m                 \u001b[1;32mreturn\u001b[0m \u001b[0mself\u001b[0m\u001b[1;33m[\u001b[0m\u001b[0mname\u001b[0m\u001b[1;33m]\u001b[0m\u001b[1;33m\u001b[0m\u001b[1;33m\u001b[0m\u001b[0m\n\u001b[1;32m-> 4376\u001b[1;33m             \u001b[1;32mreturn\u001b[0m \u001b[0mobject\u001b[0m\u001b[1;33m.\u001b[0m\u001b[0m__getattribute__\u001b[0m\u001b[1;33m(\u001b[0m\u001b[0mself\u001b[0m\u001b[1;33m,\u001b[0m \u001b[0mname\u001b[0m\u001b[1;33m)\u001b[0m\u001b[1;33m\u001b[0m\u001b[1;33m\u001b[0m\u001b[0m\n\u001b[0m\u001b[0;32m   4377\u001b[0m \u001b[1;33m\u001b[0m\u001b[0m\n\u001b[0;32m   4378\u001b[0m     \u001b[1;32mdef\u001b[0m \u001b[0m__setattr__\u001b[0m\u001b[1;33m(\u001b[0m\u001b[0mself\u001b[0m\u001b[1;33m,\u001b[0m \u001b[0mname\u001b[0m\u001b[1;33m,\u001b[0m \u001b[0mvalue\u001b[0m\u001b[1;33m)\u001b[0m\u001b[1;33m:\u001b[0m\u001b[1;33m\u001b[0m\u001b[1;33m\u001b[0m\u001b[0m\n",
      "\u001b[1;31mAttributeError\u001b[0m: 'DataFrame' object has no attribute 'reviewer_id'"
     ]
    }
   ],
   "source": [
    "print('Number of comments', df.reviewer_id.count())\n",
    "print('Number of unique names: ', df.reviewer_id.nunique())\n",
    "\n",
    "double = df.reviewer_id.value_counts().index.tolist()[:sum(df.reviewer_id.value_counts()>=2)]\n",
    "for name in double:\n",
    "    print('\\n',name)\n",
    "    date_double = df[df.reviewer_id==name].index.tolist()\n",
    "    content_double = df[df.reviewer_id==name].review.tolist()\n",
    "    [print(date,content) for date,content in zip(date_double,content_double)]"
   ]
  },
  {
   "cell_type": "markdown",
   "metadata": {
    "colab_type": "text",
    "id": "BruF1vFwyIRQ"
   },
   "source": [
    "You might find interesting things in your dataset. \n",
    "\n",
    "For example it is fun here to see **Peltier**'s comments and how he changed is mind:\n",
    "\n",
    "- April 14th 13:41 : \"formule intéressante pour de courtes vacances\"\n",
    "- April 14th 20:33 : \"pas de réseau et deux chaines tv manquantes\" \n",
    "\n"
   ]
  },
  {
   "cell_type": "markdown",
   "metadata": {
    "colab_type": "text",
    "id": "hxSb1N1jEPuN"
   },
   "source": [
    "**Rapid overview of global rating**\n"
   ]
  },
  {
   "cell_type": "code",
   "execution_count": 68,
   "metadata": {
    "colab": {
     "base_uri": "https://localhost:8080/",
     "height": 393
    },
    "colab_type": "code",
    "id": "Wu_sUarGwp1c",
    "outputId": "2cc9626f-fe06-4142-e010-0c8e09c6bd65"
   },
   "outputs": [
    {
     "name": "stdout",
     "output_type": "stream",
     "text": [
      "Average rating is : 3.45\n"
     ]
    },
    {
     "data": {
      "image/png": "[encoded data removed]",
      "text/plain": [
       "<Figure size 432x288 with 1 Axes>"
      ]
     },
     "metadata": {
      "needs_background": "light"
     },
     "output_type": "display_data"
    }
   ],
   "source": [
    "# Average rating value\n",
    "print('Average rating is : {}'.format(round(df1.rating.mean(),2)))\n",
    "\n",
    "# Plotting rating distribution\n",
    "X_ratings = df1.rating.value_counts()\n",
    "ax = sns.barplot(X_ratings.index,X_ratings,alpha=0.8)\n",
    "ax.set(xlabel='Ratings',ylabel='Frequencies',title='Frequencies of ratings over the {} reviews'.format(df1.shape[0]))\n",
    "plt.show()"
   ]
  },
  {
   "cell_type": "markdown",
   "metadata": {
    "colab_type": "text",
    "id": "RtxcYJ-jxKpv"
   },
   "source": [
    "**Distribution of comments length**"
   ]
  },
  {
   "cell_type": "code",
   "execution_count": 69,
   "metadata": {
    "colab": {
     "base_uri": "https://localhost:8080/",
     "height": 349
    },
    "colab_type": "code",
    "id": "KCiWzmLoxL3c",
    "outputId": "7f0c744b-457c-42b9-ba43-b0ac0dbea365"
   },
   "outputs": [
    {
     "name": "stderr",
     "output_type": "stream",
     "text": [
      "C:\\Users\\Ellio\\Anaconda3\\lib\\site-packages\\scipy\\stats\\stats.py:1713: FutureWarning: Using a non-tuple sequence for multidimensional indexing is deprecated; use `arr[tuple(seq)]` instead of `arr[seq]`. In the future this will be interpreted as an array index, `arr[np.array(seq)]`, which will result either in an error or a different result.\n",
      "  return np.add.reduce(sorted[indexer] * weights, axis=axis) / sumval\n"
     ]
    },
    {
     "data": {
      "image/png": "[encoded data removed]",
      "text/plain": [
       "<Figure size 864x360 with 1 Axes>"
      ]
     },
     "metadata": {
      "needs_background": "light"
     },
     "output_type": "display_data"
    }
   ],
   "source": [
    "# Making the plot\n",
    "x = plt.figure(figsize=(12,5))\n",
    "sns.distplot(df1['review'].apply(len))\n",
    "plt.title('Characters distributions')\n",
    "plt.xticks(range(0,2000,250))\n",
    "plt.show()"
   ]
  },
  {
   "cell_type": "code",
   "execution_count": 71,
   "metadata": {
    "colab": {
     "base_uri": "https://localhost:8080/",
     "height": 378
    },
    "colab_type": "code",
    "id": "7PZ7spdtwyul",
    "outputId": "457b99c4-1e93-45ab-dc2e-14f11cd37cd0"
   },
   "outputs": [
    {
     "ename": "KeyError",
     "evalue": "'published_date'",
     "output_type": "error",
     "traceback": [
      "\u001b[1;31m---------------------------------------------------------------------------\u001b[0m",
      "\u001b[1;31mKeyError\u001b[0m                                  Traceback (most recent call last)",
      "\u001b[1;32m~\\Anaconda3\\lib\\site-packages\\pandas\\core\\indexes\\base.py\u001b[0m in \u001b[0;36mget_loc\u001b[1;34m(self, key, method, tolerance)\u001b[0m\n\u001b[0;32m   3077\u001b[0m             \u001b[1;32mtry\u001b[0m\u001b[1;33m:\u001b[0m\u001b[1;33m\u001b[0m\u001b[1;33m\u001b[0m\u001b[0m\n\u001b[1;32m-> 3078\u001b[1;33m                 \u001b[1;32mreturn\u001b[0m \u001b[0mself\u001b[0m\u001b[1;33m.\u001b[0m\u001b[0m_engine\u001b[0m\u001b[1;33m.\u001b[0m\u001b[0mget_loc\u001b[0m\u001b[1;33m(\u001b[0m\u001b[0mkey\u001b[0m\u001b[1;33m)\u001b[0m\u001b[1;33m\u001b[0m\u001b[1;33m\u001b[0m\u001b[0m\n\u001b[0m\u001b[0;32m   3079\u001b[0m             \u001b[1;32mexcept\u001b[0m \u001b[0mKeyError\u001b[0m\u001b[1;33m:\u001b[0m\u001b[1;33m\u001b[0m\u001b[1;33m\u001b[0m\u001b[0m\n",
      "\u001b[1;32mpandas\\_libs\\index.pyx\u001b[0m in \u001b[0;36mpandas._libs.index.IndexEngine.get_loc\u001b[1;34m()\u001b[0m\n",
      "\u001b[1;32mpandas\\_libs\\index.pyx\u001b[0m in \u001b[0;36mpandas._libs.index.IndexEngine.get_loc\u001b[1;34m()\u001b[0m\n",
      "\u001b[1;32mpandas\\_libs\\hashtable_class_helper.pxi\u001b[0m in \u001b[0;36mpandas._libs.hashtable.PyObjectHashTable.get_item\u001b[1;34m()\u001b[0m\n",
      "\u001b[1;32mpandas\\_libs\\hashtable_class_helper.pxi\u001b[0m in \u001b[0;36mpandas._libs.hashtable.PyObjectHashTable.get_item\u001b[1;34m()\u001b[0m\n",
      "\u001b[1;31mKeyError\u001b[0m: 'published_date'",
      "\nDuring handling of the above exception, another exception occurred:\n",
      "\u001b[1;31mKeyError\u001b[0m                                  Traceback (most recent call last)",
      "\u001b[1;32m<ipython-input-71-68a9f5c5d1ab>\u001b[0m in \u001b[0;36m<module>\u001b[1;34m\u001b[0m\n\u001b[0;32m      1\u001b[0m \u001b[1;31m# Repartition of reviews dates\u001b[0m\u001b[1;33m\u001b[0m\u001b[1;33m\u001b[0m\u001b[1;33m\u001b[0m\u001b[0m\n\u001b[1;32m----> 2\u001b[1;33m \u001b[0mdf1\u001b[0m\u001b[1;33m[\u001b[0m\u001b[1;34m'published_date'\u001b[0m\u001b[1;33m]\u001b[0m\u001b[1;33m.\u001b[0m\u001b[0mresample\u001b[0m\u001b[1;33m(\u001b[0m\u001b[1;34m'M'\u001b[0m\u001b[1;33m)\u001b[0m\u001b[1;33m.\u001b[0m\u001b[0mcount\u001b[0m\u001b[1;33m(\u001b[0m\u001b[1;33m)\u001b[0m\u001b[1;33m.\u001b[0m\u001b[0mplot\u001b[0m\u001b[1;33m(\u001b[0m\u001b[1;33m)\u001b[0m\u001b[1;33m\u001b[0m\u001b[1;33m\u001b[0m\u001b[0m\n\u001b[0m",
      "\u001b[1;32m~\\Anaconda3\\lib\\site-packages\\pandas\\core\\frame.py\u001b[0m in \u001b[0;36m__getitem__\u001b[1;34m(self, key)\u001b[0m\n\u001b[0;32m   2686\u001b[0m             \u001b[1;32mreturn\u001b[0m \u001b[0mself\u001b[0m\u001b[1;33m.\u001b[0m\u001b[0m_getitem_multilevel\u001b[0m\u001b[1;33m(\u001b[0m\u001b[0mkey\u001b[0m\u001b[1;33m)\u001b[0m\u001b[1;33m\u001b[0m\u001b[1;33m\u001b[0m\u001b[0m\n\u001b[0;32m   2687\u001b[0m         \u001b[1;32melse\u001b[0m\u001b[1;33m:\u001b[0m\u001b[1;33m\u001b[0m\u001b[1;33m\u001b[0m\u001b[0m\n\u001b[1;32m-> 2688\u001b[1;33m             \u001b[1;32mreturn\u001b[0m \u001b[0mself\u001b[0m\u001b[1;33m.\u001b[0m\u001b[0m_getitem_column\u001b[0m\u001b[1;33m(\u001b[0m\u001b[0mkey\u001b[0m\u001b[1;33m)\u001b[0m\u001b[1;33m\u001b[0m\u001b[1;33m\u001b[0m\u001b[0m\n\u001b[0m\u001b[0;32m   2689\u001b[0m \u001b[1;33m\u001b[0m\u001b[0m\n\u001b[0;32m   2690\u001b[0m     \u001b[1;32mdef\u001b[0m \u001b[0m_getitem_column\u001b[0m\u001b[1;33m(\u001b[0m\u001b[0mself\u001b[0m\u001b[1;33m,\u001b[0m \u001b[0mkey\u001b[0m\u001b[1;33m)\u001b[0m\u001b[1;33m:\u001b[0m\u001b[1;33m\u001b[0m\u001b[1;33m\u001b[0m\u001b[0m\n",
      "\u001b[1;32m~\\Anaconda3\\lib\\site-packages\\pandas\\core\\frame.py\u001b[0m in \u001b[0;36m_getitem_column\u001b[1;34m(self, key)\u001b[0m\n\u001b[0;32m   2693\u001b[0m         \u001b[1;31m# get column\u001b[0m\u001b[1;33m\u001b[0m\u001b[1;33m\u001b[0m\u001b[1;33m\u001b[0m\u001b[0m\n\u001b[0;32m   2694\u001b[0m         \u001b[1;32mif\u001b[0m \u001b[0mself\u001b[0m\u001b[1;33m.\u001b[0m\u001b[0mcolumns\u001b[0m\u001b[1;33m.\u001b[0m\u001b[0mis_unique\u001b[0m\u001b[1;33m:\u001b[0m\u001b[1;33m\u001b[0m\u001b[1;33m\u001b[0m\u001b[0m\n\u001b[1;32m-> 2695\u001b[1;33m             \u001b[1;32mreturn\u001b[0m \u001b[0mself\u001b[0m\u001b[1;33m.\u001b[0m\u001b[0m_get_item_cache\u001b[0m\u001b[1;33m(\u001b[0m\u001b[0mkey\u001b[0m\u001b[1;33m)\u001b[0m\u001b[1;33m\u001b[0m\u001b[1;33m\u001b[0m\u001b[0m\n\u001b[0m\u001b[0;32m   2696\u001b[0m \u001b[1;33m\u001b[0m\u001b[0m\n\u001b[0;32m   2697\u001b[0m         \u001b[1;31m# duplicate columns & possible reduce dimensionality\u001b[0m\u001b[1;33m\u001b[0m\u001b[1;33m\u001b[0m\u001b[1;33m\u001b[0m\u001b[0m\n",
      "\u001b[1;32m~\\Anaconda3\\lib\\site-packages\\pandas\\core\\generic.py\u001b[0m in \u001b[0;36m_get_item_cache\u001b[1;34m(self, item)\u001b[0m\n\u001b[0;32m   2487\u001b[0m         \u001b[0mres\u001b[0m \u001b[1;33m=\u001b[0m \u001b[0mcache\u001b[0m\u001b[1;33m.\u001b[0m\u001b[0mget\u001b[0m\u001b[1;33m(\u001b[0m\u001b[0mitem\u001b[0m\u001b[1;33m)\u001b[0m\u001b[1;33m\u001b[0m\u001b[1;33m\u001b[0m\u001b[0m\n\u001b[0;32m   2488\u001b[0m         \u001b[1;32mif\u001b[0m \u001b[0mres\u001b[0m \u001b[1;32mis\u001b[0m \u001b[1;32mNone\u001b[0m\u001b[1;33m:\u001b[0m\u001b[1;33m\u001b[0m\u001b[1;33m\u001b[0m\u001b[0m\n\u001b[1;32m-> 2489\u001b[1;33m             \u001b[0mvalues\u001b[0m \u001b[1;33m=\u001b[0m \u001b[0mself\u001b[0m\u001b[1;33m.\u001b[0m\u001b[0m_data\u001b[0m\u001b[1;33m.\u001b[0m\u001b[0mget\u001b[0m\u001b[1;33m(\u001b[0m\u001b[0mitem\u001b[0m\u001b[1;33m)\u001b[0m\u001b[1;33m\u001b[0m\u001b[1;33m\u001b[0m\u001b[0m\n\u001b[0m\u001b[0;32m   2490\u001b[0m             \u001b[0mres\u001b[0m \u001b[1;33m=\u001b[0m \u001b[0mself\u001b[0m\u001b[1;33m.\u001b[0m\u001b[0m_box_item_values\u001b[0m\u001b[1;33m(\u001b[0m\u001b[0mitem\u001b[0m\u001b[1;33m,\u001b[0m \u001b[0mvalues\u001b[0m\u001b[1;33m)\u001b[0m\u001b[1;33m\u001b[0m\u001b[1;33m\u001b[0m\u001b[0m\n\u001b[0;32m   2491\u001b[0m             \u001b[0mcache\u001b[0m\u001b[1;33m[\u001b[0m\u001b[0mitem\u001b[0m\u001b[1;33m]\u001b[0m \u001b[1;33m=\u001b[0m \u001b[0mres\u001b[0m\u001b[1;33m\u001b[0m\u001b[1;33m\u001b[0m\u001b[0m\n",
      "\u001b[1;32m~\\Anaconda3\\lib\\site-packages\\pandas\\core\\internals.py\u001b[0m in \u001b[0;36mget\u001b[1;34m(self, item, fastpath)\u001b[0m\n\u001b[0;32m   4113\u001b[0m \u001b[1;33m\u001b[0m\u001b[0m\n\u001b[0;32m   4114\u001b[0m             \u001b[1;32mif\u001b[0m \u001b[1;32mnot\u001b[0m \u001b[0misna\u001b[0m\u001b[1;33m(\u001b[0m\u001b[0mitem\u001b[0m\u001b[1;33m)\u001b[0m\u001b[1;33m:\u001b[0m\u001b[1;33m\u001b[0m\u001b[1;33m\u001b[0m\u001b[0m\n\u001b[1;32m-> 4115\u001b[1;33m                 \u001b[0mloc\u001b[0m \u001b[1;33m=\u001b[0m \u001b[0mself\u001b[0m\u001b[1;33m.\u001b[0m\u001b[0mitems\u001b[0m\u001b[1;33m.\u001b[0m\u001b[0mget_loc\u001b[0m\u001b[1;33m(\u001b[0m\u001b[0mitem\u001b[0m\u001b[1;33m)\u001b[0m\u001b[1;33m\u001b[0m\u001b[1;33m\u001b[0m\u001b[0m\n\u001b[0m\u001b[0;32m   4116\u001b[0m             \u001b[1;32melse\u001b[0m\u001b[1;33m:\u001b[0m\u001b[1;33m\u001b[0m\u001b[1;33m\u001b[0m\u001b[0m\n\u001b[0;32m   4117\u001b[0m                 \u001b[0mindexer\u001b[0m \u001b[1;33m=\u001b[0m \u001b[0mnp\u001b[0m\u001b[1;33m.\u001b[0m\u001b[0marange\u001b[0m\u001b[1;33m(\u001b[0m\u001b[0mlen\u001b[0m\u001b[1;33m(\u001b[0m\u001b[0mself\u001b[0m\u001b[1;33m.\u001b[0m\u001b[0mitems\u001b[0m\u001b[1;33m)\u001b[0m\u001b[1;33m)\u001b[0m\u001b[1;33m[\u001b[0m\u001b[0misna\u001b[0m\u001b[1;33m(\u001b[0m\u001b[0mself\u001b[0m\u001b[1;33m.\u001b[0m\u001b[0mitems\u001b[0m\u001b[1;33m)\u001b[0m\u001b[1;33m]\u001b[0m\u001b[1;33m\u001b[0m\u001b[1;33m\u001b[0m\u001b[0m\n",
      "\u001b[1;32m~\\Anaconda3\\lib\\site-packages\\pandas\\core\\indexes\\base.py\u001b[0m in \u001b[0;36mget_loc\u001b[1;34m(self, key, method, tolerance)\u001b[0m\n\u001b[0;32m   3078\u001b[0m                 \u001b[1;32mreturn\u001b[0m \u001b[0mself\u001b[0m\u001b[1;33m.\u001b[0m\u001b[0m_engine\u001b[0m\u001b[1;33m.\u001b[0m\u001b[0mget_loc\u001b[0m\u001b[1;33m(\u001b[0m\u001b[0mkey\u001b[0m\u001b[1;33m)\u001b[0m\u001b[1;33m\u001b[0m\u001b[1;33m\u001b[0m\u001b[0m\n\u001b[0;32m   3079\u001b[0m             \u001b[1;32mexcept\u001b[0m \u001b[0mKeyError\u001b[0m\u001b[1;33m:\u001b[0m\u001b[1;33m\u001b[0m\u001b[1;33m\u001b[0m\u001b[0m\n\u001b[1;32m-> 3080\u001b[1;33m                 \u001b[1;32mreturn\u001b[0m \u001b[0mself\u001b[0m\u001b[1;33m.\u001b[0m\u001b[0m_engine\u001b[0m\u001b[1;33m.\u001b[0m\u001b[0mget_loc\u001b[0m\u001b[1;33m(\u001b[0m\u001b[0mself\u001b[0m\u001b[1;33m.\u001b[0m\u001b[0m_maybe_cast_indexer\u001b[0m\u001b[1;33m(\u001b[0m\u001b[0mkey\u001b[0m\u001b[1;33m)\u001b[0m\u001b[1;33m)\u001b[0m\u001b[1;33m\u001b[0m\u001b[1;33m\u001b[0m\u001b[0m\n\u001b[0m\u001b[0;32m   3081\u001b[0m \u001b[1;33m\u001b[0m\u001b[0m\n\u001b[0;32m   3082\u001b[0m         \u001b[0mindexer\u001b[0m \u001b[1;33m=\u001b[0m \u001b[0mself\u001b[0m\u001b[1;33m.\u001b[0m\u001b[0mget_indexer\u001b[0m\u001b[1;33m(\u001b[0m\u001b[1;33m[\u001b[0m\u001b[0mkey\u001b[0m\u001b[1;33m]\u001b[0m\u001b[1;33m,\u001b[0m \u001b[0mmethod\u001b[0m\u001b[1;33m=\u001b[0m\u001b[0mmethod\u001b[0m\u001b[1;33m,\u001b[0m \u001b[0mtolerance\u001b[0m\u001b[1;33m=\u001b[0m\u001b[0mtolerance\u001b[0m\u001b[1;33m)\u001b[0m\u001b[1;33m\u001b[0m\u001b[1;33m\u001b[0m\u001b[0m\n",
      "\u001b[1;32mpandas\\_libs\\index.pyx\u001b[0m in \u001b[0;36mpandas._libs.index.IndexEngine.get_loc\u001b[1;34m()\u001b[0m\n",
      "\u001b[1;32mpandas\\_libs\\index.pyx\u001b[0m in \u001b[0;36mpandas._libs.index.IndexEngine.get_loc\u001b[1;34m()\u001b[0m\n",
      "\u001b[1;32mpandas\\_libs\\hashtable_class_helper.pxi\u001b[0m in \u001b[0;36mpandas._libs.hashtable.PyObjectHashTable.get_item\u001b[1;34m()\u001b[0m\n",
      "\u001b[1;32mpandas\\_libs\\hashtable_class_helper.pxi\u001b[0m in \u001b[0;36mpandas._libs.hashtable.PyObjectHashTable.get_item\u001b[1;34m()\u001b[0m\n",
      "\u001b[1;31mKeyError\u001b[0m: 'published_date'"
     ]
    }
   ],
   "source": [
    "# Repartition of reviews dates\n",
    "df1['review'].resample('M').count().plot()"
   ]
  },
  {
   "cell_type": "markdown",
   "metadata": {
    "colab_type": "text",
    "id": "MLgz2bdAEn3B"
   },
   "source": [
    "# Pre-Processing 1 : Filters for punctuation and specific characters"
   ]
  },
  {
   "cell_type": "code",
   "execution_count": 61,
   "metadata": {
    "colab": {},
    "colab_type": "code",
    "id": "33QCujGbEtQa"
   },
   "outputs": [],
   "source": [
    "# creating a list with all reviews\n",
    "all_reviews = df1.review.tolist()"
   ]
  },
  {
   "cell_type": "code",
   "execution_count": 62,
   "metadata": {
    "colab": {},
    "colab_type": "code",
    "id": "iOUGQIpCEtSz"
   },
   "outputs": [],
   "source": [
    "# transformating comments into lower-case text \n",
    "lower_reviews = [review.lower() for review in all_reviews]"
   ]
  },
  {
   "cell_type": "code",
   "execution_count": 63,
   "metadata": {
    "colab": {},
    "colab_type": "code",
    "id": "sYbuqWVEE94p"
   },
   "outputs": [],
   "source": [
    "# deleting all specific caracters\n",
    "characters_to_remove = [\"@\", \"/\", \"#\", \".\", \",\", \"!\", \"?\", \"(\", \")\", \"-\", \"_\",\"’\",\"'\", \"\\\"\", \":\"]\n",
    "transformation_dict = {initial:\" \" for initial in characters_to_remove}\n",
    "no_punctuation_reviews = [review.translate(str.maketrans(transformation_dict)) for review in lower_reviews]"
   ]
  },
  {
   "cell_type": "code",
   "execution_count": 64,
   "metadata": {
    "colab": {},
    "colab_type": "code",
    "id": "SF8kk2hPE97H"
   },
   "outputs": [],
   "source": [
    "# removing accent\n",
    "with_accent = ['é', 'è','ê','ë', 'à','â','ô','û','ù','î','ï']\n",
    "without_accent = ['e', 'e','e','e', 'a','a','o','u','u','i','i']\n",
    "transformation_dict = {before:after for before, after in zip(with_accent, without_accent)}\n",
    "no_accent_reviews = [review.translate(str.maketrans(transformation_dict)) for review in no_punctuation_reviews]"
   ]
  },
  {
   "cell_type": "code",
   "execution_count": 65,
   "metadata": {
    "colab": {
     "base_uri": "https://localhost:8080/",
     "height": 377
    },
    "colab_type": "code",
    "id": "x4FoSV8eO92Z",
    "outputId": "69253c41-f0e9-4a85-b970-3cfcff23747c"
   },
   "outputs": [
    {
     "name": "stdout",
     "output_type": "stream",
     "text": [
      "Après une désastreuse aventure au Bois franc, quel plaisir de retourner au lac d'Ailette..en plus les cottages ont été rénovés avec goût, Partis début août sous la canicule, nous avons apprécié les plaisirs de l'aquamondo malgré l'affluence,(peut être faudrait-il que les personnes ne séjournant pas dans le parc n'aient plus accès aux installations quand celui-ci est déjà complet - 1700 personnes dans la piscine c'est vraiment beaucoup trop)Nous avons loué un cottage premium bord de lac . Nous avons aimés nos soirées tranquilles sur la terrasse; beaucoup moins la chaleur dans le cottage (ventilation à prévoir)  celui-ci était très propre à notre arrivée et les quelques soucis rencontrés (pas de pile dans la télécommande, sèche-linge cassé) ont été très vite réglés par un personnel compétant  De quoi bien commencer notre séjour. Un bel endroit où nous reviendrons certainement l'été prochain\n",
      "apres une desastreuse aventure au bois franc  quel plaisir de retourner au lac d ailette  en plus les cottages ont ete renoves avec gout  partis debut aout sous la canicule  nous avons apprecie les plaisirs de l aquamondo malgre l affluence  peut etre faudrait il que les personnes ne sejournant pas dans le parc n aient plus acces aux installations quand celui ci est deja complet   1700 personnes dans la piscine c est vraiment beaucoup trop nous avons loue un cottage premium bord de lac   nous avons aimes nos soirees tranquilles sur la terrasse; beaucoup moins la chaleur dans le cottage  ventilation a prevoir   celui ci etait tres propre a notre arrivee et les quelques soucis rencontres  pas de pile dans la telecommande  seche linge casse  ont ete tres vite regles par un personnel competant  de quoi bien commencer notre sejour  un bel endroit ou nous reviendrons certainement l ete prochain\n",
      "\n",
      "\n",
      "Ambiance détendue , une vraie déconnexion.  Le logement est propre. L Aqua Mundo est super,il y fait très bon.les enfants s éclatent. Si enfants en poussette je déconseille car pas de réels emplacements pour ranger la poussette. Les restos sont plutôt bons et abordables.Le personnel est aimable et avenant.\n",
      "ambiance detendue   une vraie deconnexion   le logement est propre  l aqua mundo est super il y fait tres bon les enfants s eclatent  si enfants en poussette je deconseille car pas de reels emplacements pour ranger la poussette  les restos sont plutot bons et abordables le personnel est aimable et avenant \n",
      "\n",
      "\n",
      "Première fois que nous allions à center Parcs Ailette! Premièrement, une file d'attente le jour d'arrivée qui est d'une looooongueur monotone...Le personnel est toujours aimable. Que dire des prix pratiqués sur le site..Veillez à prendre un PEL avec vous si vous voulez vous promener en petite voiturette de golf..Nous étions situés à 1,5km des parkings et donc de la piscine..On a donc 3km dans les pieds si on veut aller barboter ;-) La propreté rien à direLe logement était bien. Nous avons été contraints d appeler le service de soirée/nuit car nos badges avaient été démagnétisés..Ensuite, canalisations qui était bouchées à notre arrivée. Il aura fallu appeler 3 jours de suite pour voir quelqu'un s'en occuper en 5 secondes..Sans parler des télés qui ne fonctionnaient plus en période de coupe du monde..mais bon nous n'étions pas venus pour la teloche :-)Nous avons été quelque peu dé\\u00e7us de la distance entre le logement et les animations, mais aussi de ces quelques désagréments qui sont venus ternir notre séjour..\n",
      "premiere fois que nous allions a center parcs ailette  premierement  une file d attente le jour d arrivee qui est d une looooongueur monotone   le personnel est toujours aimable  que dire des prix pratiques sur le site  veillez a prendre un pel avec vous si vous voulez vous promener en petite voiturette de golf  nous etions situes a 1 5km des parkings et donc de la piscine  on a donc 3km dans les pieds si on veut aller barboter ;   la proprete rien a direle logement etait bien  nous avons ete contraints d appeler le service de soiree nuit car nos badges avaient ete demagnetises  ensuite  canalisations qui etait bouchees a notre arrivee  il aura fallu appeler 3 jours de suite pour voir quelqu un s en occuper en 5 secondes  sans parler des teles qui ne fonctionnaient plus en periode de coupe du monde  mais bon nous n etions pas venus pour la teloche    nous avons ete quelque peu de\\u00e7us de la distance entre le logement et les animations  mais aussi de ces quelques desagrements qui sont venus ternir notre sejour  \n",
      "\n",
      "\n",
      "Génial pour les enfants petits et grands ! Pleins d'activités à faire. Beaucoup sont payantes mais on peut aussi y trouver son compte sans ces activités payantes. Les cottages sont très sympas. Le plan d'eau est habité par toute une faune à plumes et quelques ratons laveurs... \n",
      "genial pour les enfants petits et grands   pleins d activites a faire  beaucoup sont payantes mais on peut aussi y trouver son compte sans ces activites payantes  les cottages sont tres sympas  le plan d eau est habite par toute une faune a plumes et quelques ratons laveurs    \n",
      "\n",
      "\n",
      "Nous avons fait une réservation avec notre CE le 03 novembre 2018,pour un cottage de 6 personnes avec option emplacement,prix 1079 euros réduction Comite d'entreprise 215,80 soit: 926 euros à payer.La publicité de center parc annonce : plus vous réservez tôt moins vous payez, Et bien voila le résultat un mois plus tard, avec le site direct de center parc soit pour la même période la somme de 799 moins leur remise 240 plus emplacement 43 soit 657.90 Soit une différence de 268 euros et encore moins si on réserve aujourd'hui.Une vraie arnaque, en principe passer par son comité d'entreprise suppose de payer moins cher que sur le site, centre parc.Nous avons donc fait une réclamation, en réponse nous avons eu : c est comme ca et on ne peut rien faire pour vous.Je peux vous dire qu'avec 260 euros de plus, le cottage à intérêt d'être irréprochable, ce qui n'était pas le cas lors de notre dernier séjour à center parc de Normandie en décembre 2018. Ménage laissant à desirer, grille pain en panne, coupure d'électricité à répétition.Nous serons donc intransigeant en février 2019.De plus votre service réclamation qui doit répondre en 48h à mis,15 jours à répondre...... nous conseillons aux personnes de réserver de dernière minute pour profiter de bons tarifs.Dommage car après ce séjour, vous aurez perdu un client.\n",
      "nous avons fait une reservation avec notre ce le 03 novembre 2018 pour un cottage de 6 personnes avec option emplacement prix 1079 euros reduction comite d entreprise 215 80 soit  926 euros a payer la publicite de center parc annonce   plus vous reservez tot moins vous payez  et bien voila le resultat un mois plus tard  avec le site direct de center parc soit pour la meme periode la somme de 799 moins leur remise 240 plus emplacement 43 soit 657 90 soit une difference de 268 euros et encore moins si on reserve aujourd hui une vraie arnaque  en principe passer par son comite d entreprise suppose de payer moins cher que sur le site  centre parc nous avons donc fait une reclamation  en reponse nous avons eu   c est comme ca et on ne peut rien faire pour vous je peux vous dire qu avec 260 euros de plus  le cottage a interet d etre irreprochable  ce qui n etait pas le cas lors de notre dernier sejour a center parc de normandie en decembre 2018  menage laissant a desirer  grille pain en panne  coupure d electricite a repetition nous serons donc intransigeant en fevrier 2019 de plus votre service reclamation qui doit repondre en 48h a mis 15 jours a repondre       nous conseillons aux personnes de reserver de derniere minute pour profiter de bons tarifs dommage car apres ce sejour  vous aurez perdu un client \n",
      "\n",
      "\n"
     ]
    }
   ],
   "source": [
    "# Displaying some results \n",
    "for i in range(5):\n",
    "    print(all_reviews[i])\n",
    "    print(no_accent_reviews[i])\n",
    "    print('\\n')"
   ]
  },
  {
   "cell_type": "code",
   "execution_count": 66,
   "metadata": {
    "colab": {
     "base_uri": "https://localhost:8080/",
     "height": 85
    },
    "colab_type": "code",
    "id": "18vn7kJQE9-V",
    "outputId": "2c4ac6a3-1ef5-4e22-fcf1-ac602e049c48"
   },
   "outputs": [],
   "source": [
    "def number_of_unique_words(list_of_reviews):\n",
    "  \n",
    "    # Concatenating all reviews from the list\n",
    "    all_words = ''.join(list_of_reviews)\n",
    "\n",
    "    # Tokenizing\n",
    "    unique_tokens = set(word_tokenize(all_words))\n",
    "  \n",
    "    # Returning length of list\n",
    "    return len(unique_tokens)"
   ]
  },
  {
   "cell_type": "code",
   "execution_count": 67,
   "metadata": {},
   "outputs": [
    {
     "name": "stdout",
     "output_type": "stream",
     "text": [
      "10570\n"
     ]
    }
   ],
   "source": [
    "print(number_of_unique_words(all_reviews))"
   ]
  },
  {
   "cell_type": "code",
   "execution_count": 68,
   "metadata": {},
   "outputs": [
    {
     "name": "stdout",
     "output_type": "stream",
     "text": [
      "9556\n"
     ]
    }
   ],
   "source": [
    "print(number_of_unique_words(lower_reviews))"
   ]
  },
  {
   "cell_type": "code",
   "execution_count": 69,
   "metadata": {},
   "outputs": [
    {
     "name": "stdout",
     "output_type": "stream",
     "text": [
      "7747\n"
     ]
    }
   ],
   "source": [
    "print(number_of_unique_words(no_punctuation_reviews))"
   ]
  },
  {
   "cell_type": "code",
   "execution_count": 70,
   "metadata": {
    "scrolled": true
   },
   "outputs": [
    {
     "name": "stdout",
     "output_type": "stream",
     "text": [
      "7732\n"
     ]
    }
   ],
   "source": [
    "print(number_of_unique_words(no_accent_reviews))"
   ]
  },
  {
   "cell_type": "markdown",
   "metadata": {
    "colab_type": "text",
    "id": "tjkun2adQ5i9"
   },
   "source": [
    "# Pre-processing 2 : Tokenization"
   ]
  },
  {
   "cell_type": "markdown",
   "metadata": {
    "colab_type": "text",
    "id": "gVRX2Pf3c1Ay"
   },
   "source": [
    "**Doing it in two different ways**"
   ]
  },
  {
   "cell_type": "code",
   "execution_count": 71,
   "metadata": {
    "colab": {},
    "colab_type": "code",
    "id": "jpGhYooEFThl"
   },
   "outputs": [],
   "source": [
    "# Using regular expression\n",
    "tokenized_reviews_re = [re.split('\\s+', review) for review in no_accent_reviews]"
   ]
  },
  {
   "cell_type": "code",
   "execution_count": 72,
   "metadata": {
    "colab": {},
    "colab_type": "code",
    "id": "pMbnY4XIFTfC"
   },
   "outputs": [],
   "source": [
    "# using NLP libraries\n",
    "tokenized_reviews_nltk = [word_tokenize(review) for review in no_accent_reviews]"
   ]
  },
  {
   "cell_type": "markdown",
   "metadata": {
    "colab_type": "text",
    "id": "ZUO9Rc-Zc7U2"
   },
   "source": [
    "**And making a comparison of results**"
   ]
  },
  {
   "cell_type": "code",
   "execution_count": 73,
   "metadata": {
    "colab": {
     "base_uri": "https://localhost:8080/",
     "height": 51
    },
    "colab_type": "code",
    "id": "HQoeqvGHZ87e",
    "outputId": "bcb209c9-a483-424f-f758-69dec9884954"
   },
   "outputs": [
    {
     "name": "stdout",
     "output_type": "stream",
     "text": [
      "With NLTK  library : 663\n",
      "With RegEx library : 663\n"
     ]
    }
   ],
   "source": [
    "# Making a comparison between both of them\n",
    "print(\"With NLTK  library : {}\".format(len(tokenized_reviews_nltk)))\n",
    "print(\"With RegEx library : {}\".format(len(tokenized_reviews_re)))"
   ]
  },
  {
   "cell_type": "markdown",
   "metadata": {
    "colab_type": "text",
    "id": "RDKdet1KduF3"
   },
   "source": [
    "**Try to analyze the next lines of code and to understand the difference between both of them**"
   ]
  },
  {
   "cell_type": "markdown",
   "metadata": {},
   "source": [
    "Here is an original review"
   ]
  },
  {
   "cell_type": "code",
   "execution_count": 74,
   "metadata": {},
   "outputs": [
    {
     "name": "stdout",
     "output_type": "stream",
     "text": [
      "Hi- we are on our way home following a week at Centre Parcs. Whilst we had a good family holiday, we were very disappointed with the resort. First issue is the cleanliness- it's really dirty. We booked two cottages with one a premium lakeside house. Whilst some of the furnishings were new, the kitchen was filthy with ingrained dirt. The house looked like it hadn't been properly cleaned in years. All cooking equipment was also very old and crappy- It put us off cooking inside. Outside we had a great view but it was also filthy. Thick cobwebs and dirt all over the verander and decking. Decking was also very dangerous as it was obviously not maintained and there were huge gaps where the chairs fell down resulting in numerous injuries over the week. Our children had a great time in he pool but it was so old and In terrible condition. Nothing like the parcs at Woburn and Elvden.The maintaince, health and safety and cleanliness were really poor at the resort. However the location was beautiful and in spite of all of it we made sure we had a good time and used many of the facilities on offer.\n"
     ]
    }
   ],
   "source": [
    "# Choosing a review to inspect\n",
    "n_review = 10\n",
    "print(all_reviews[n_review])"
   ]
  },
  {
   "cell_type": "markdown",
   "metadata": {},
   "source": [
    "And here are the tokenized ones"
   ]
  },
  {
   "cell_type": "code",
   "execution_count": 75,
   "metadata": {},
   "outputs": [
    {
     "name": "stdout",
     "output_type": "stream",
     "text": [
      "['hi', 'we', 'are', 'on', 'our', 'way', 'home', 'following', 'a', 'week', 'at', 'centre', 'parcs', 'whilst', 'we', 'had', 'a', 'good', 'family', 'holiday', 'we', 'were', 'very', 'disappointed', 'with', 'the', 'resort', 'first', 'issue', 'is', 'the', 'cleanliness', 'it', 's', 'really', 'dirty', 'we', 'booked', 'two', 'cottages', 'with', 'one', 'a', 'premium', 'lakeside', 'house', 'whilst', 'some', 'of', 'the', 'furnishings', 'were', 'new', 'the', 'kitchen', 'was', 'filthy', 'with', 'ingrained', 'dirt', 'the', 'house', 'looked', 'like', 'it', 'hadn', 't', 'been', 'properly', 'cleaned', 'in', 'years', 'all', 'cooking', 'equipment', 'was', 'also', 'very', 'old', 'and', 'crappy', 'it', 'put', 'us', 'off', 'cooking', 'inside', 'outside', 'we', 'had', 'a', 'great', 'view', 'but', 'it', 'was', 'also', 'filthy', 'thick', 'cobwebs', 'and', 'dirt', 'all', 'over', 'the', 'verander', 'and', 'decking', 'decking', 'was', 'also', 'very', 'dangerous', 'as', 'it', 'was', 'obviously', 'not', 'maintained', 'and', 'there', 'were', 'huge', 'gaps', 'where', 'the', 'chairs', 'fell', 'down', 'resulting', 'in', 'numerous', 'injuries', 'over', 'the', 'week', 'our', 'children', 'had', 'a', 'great', 'time', 'in', 'he', 'pool', 'but', 'it', 'was', 'so', 'old', 'and', 'in', 'terrible', 'condition', 'nothing', 'like', 'the', 'parcs', 'at', 'woburn', 'and', 'elvden', 'the', 'maintaince', 'health', 'and', 'safety', 'and', 'cleanliness', 'were', 'really', 'poor', 'at', 'the', 'resort', 'however', 'the', 'location', 'was', 'beautiful', 'and', 'in', 'spite', 'of', 'all', 'of', 'it', 'we', 'made', 'sure', 'we', 'had', 'a', 'good', 'time', 'and', 'used', 'many', 'of', 'the', 'facilities', 'on', 'offer']\n"
     ]
    }
   ],
   "source": [
    "print(tokenized_reviews_nltk[n_review])"
   ]
  },
  {
   "cell_type": "code",
   "execution_count": 76,
   "metadata": {},
   "outputs": [
    {
     "name": "stdout",
     "output_type": "stream",
     "text": [
      "['hi', 'we', 'are', 'on', 'our', 'way', 'home', 'following', 'a', 'week', 'at', 'centre', 'parcs', 'whilst', 'we', 'had', 'a', 'good', 'family', 'holiday', 'we', 'were', 'very', 'disappointed', 'with', 'the', 'resort', 'first', 'issue', 'is', 'the', 'cleanliness', 'it', 's', 'really', 'dirty', 'we', 'booked', 'two', 'cottages', 'with', 'one', 'a', 'premium', 'lakeside', 'house', 'whilst', 'some', 'of', 'the', 'furnishings', 'were', 'new', 'the', 'kitchen', 'was', 'filthy', 'with', 'ingrained', 'dirt', 'the', 'house', 'looked', 'like', 'it', 'hadn', 't', 'been', 'properly', 'cleaned', 'in', 'years', 'all', 'cooking', 'equipment', 'was', 'also', 'very', 'old', 'and', 'crappy', 'it', 'put', 'us', 'off', 'cooking', 'inside', 'outside', 'we', 'had', 'a', 'great', 'view', 'but', 'it', 'was', 'also', 'filthy', 'thick', 'cobwebs', 'and', 'dirt', 'all', 'over', 'the', 'verander', 'and', 'decking', 'decking', 'was', 'also', 'very', 'dangerous', 'as', 'it', 'was', 'obviously', 'not', 'maintained', 'and', 'there', 'were', 'huge', 'gaps', 'where', 'the', 'chairs', 'fell', 'down', 'resulting', 'in', 'numerous', 'injuries', 'over', 'the', 'week', 'our', 'children', 'had', 'a', 'great', 'time', 'in', 'he', 'pool', 'but', 'it', 'was', 'so', 'old', 'and', 'in', 'terrible', 'condition', 'nothing', 'like', 'the', 'parcs', 'at', 'woburn', 'and', 'elvden', 'the', 'maintaince', 'health', 'and', 'safety', 'and', 'cleanliness', 'were', 'really', 'poor', 'at', 'the', 'resort', 'however', 'the', 'location', 'was', 'beautiful', 'and', 'in', 'spite', 'of', 'all', 'of', 'it', 'we', 'made', 'sure', 'we', 'had', 'a', 'good', 'time', 'and', 'used', 'many', 'of', 'the', 'facilities', 'on', 'offer', '']\n"
     ]
    }
   ],
   "source": [
    "print(tokenized_reviews_re[n_review])"
   ]
  },
  {
   "cell_type": "code",
   "execution_count": 77,
   "metadata": {
    "colab": {},
    "colab_type": "code",
    "id": "W9FuzwFdFTku"
   },
   "outputs": [],
   "source": [
    "# We select the secon one which seems more accurate\n",
    "tokenized_reviews = tokenized_reviews_nltk"
   ]
  },
  {
   "cell_type": "markdown",
   "metadata": {
    "colab_type": "text",
    "id": "ighzJ5h1f_e4"
   },
   "source": [
    "# Pre-processing 3 : Stopword removing"
   ]
  },
  {
   "cell_type": "code",
   "execution_count": 78,
   "metadata": {
    "colab": {},
    "colab_type": "code",
    "id": "HLDOvubHgn-e"
   },
   "outputs": [],
   "source": [
    "# Using a list with words to delete\n",
    "stopW = stopwords.words('french')"
   ]
  },
  {
   "cell_type": "code",
   "execution_count": 79,
   "metadata": {
    "colab": {},
    "colab_type": "code",
    "id": "8jS036yUgn8S"
   },
   "outputs": [],
   "source": [
    "# Customizing it with our needs\n",
    "stopW += ['les', 'a', 'tout']"
   ]
  },
  {
   "cell_type": "code",
   "execution_count": 80,
   "metadata": {
    "colab": {},
    "colab_type": "code",
    "id": "S3wlZQebg5Eq"
   },
   "outputs": [],
   "source": [
    "# Stopword_list\n",
    "stopword_reviews = [[token for token in review if token not in stopW] for review in tokenized_reviews]\n",
    "              "
   ]
  },
  {
   "cell_type": "markdown",
   "metadata": {
    "colab_type": "text",
    "id": "TVUGs90nEtce"
   },
   "source": [
    "# Some visualization about what we've done"
   ]
  },
  {
   "cell_type": "code",
   "execution_count": 81,
   "metadata": {
    "colab": {},
    "colab_type": "code",
    "id": "GVWrijfzTHyq"
   },
   "outputs": [],
   "source": [
    "def plot_frequent_words(list_of_words):    \n",
    "    dist = nltk.FreqDist(list_of_words)\n",
    "    X = [nb[1] for nb in dist.most_common(20)]\n",
    "    y = [nb[0] for nb in dist.most_common(20)]\n",
    "    ax = sns.barplot(X,y)\n",
    "    ax.set(xlabel='Word frequencies',ylabel='Words',title='Most common words in the corpus')\n",
    "    plt.show()"
   ]
  },
  {
   "cell_type": "code",
   "execution_count": 82,
   "metadata": {
    "colab": {
     "base_uri": "https://localhost:8080/",
     "height": 393
    },
    "colab_type": "code",
    "id": "XYH8EWTg0bIr",
    "outputId": "e2ed0a87-2dc4-4221-f478-4b648691cfa6"
   },
   "outputs": [
    {
     "data": {
      "image/png": "[encoded data removed]",
      "text/plain": [
       "<Figure size 432x288 with 1 Axes>"
      ]
     },
     "metadata": {
      "needs_background": "light"
     },
     "output_type": "display_data"
    },
    {
     "name": "stdout",
     "output_type": "stream",
     "text": [
      "136297\n"
     ]
    }
   ],
   "source": [
    "# Making a first plot with original data\n",
    "all_words = []\n",
    "for review in all_reviews:\n",
    "    for word in review.split():\n",
    "        all_words.append(word)\n",
    "\n",
    "plot_frequent_words(all_words)\n",
    "print(len(all_words))"
   ]
  },
  {
   "cell_type": "code",
   "execution_count": 83,
   "metadata": {
    "colab": {
     "base_uri": "https://localhost:8080/",
     "height": 393
    },
    "colab_type": "code",
    "id": "E2iUMPlP0Jub",
    "outputId": "c97e79d8-53c9-4bf8-ad33-c3c79cee5ddd"
   },
   "outputs": [
    {
     "data": {
      "image/png": "[encoded data removed]",
      "text/plain": [
       "<Figure size 432x288 with 1 Axes>"
      ]
     },
     "metadata": {
      "needs_background": "light"
     },
     "output_type": "display_data"
    },
    {
     "name": "stdout",
     "output_type": "stream",
     "text": [
      "131889\n"
     ]
    }
   ],
   "source": [
    "# And making it with our current data\n",
    "all_words = []\n",
    "for review in stopword_reviews:\n",
    "    for word in review:\n",
    "        all_words.append(word)\n",
    "\n",
    "plot_frequent_words(all_words)\n",
    "print(len(all_words))\n",
    "\n"
   ]
  },
  {
   "cell_type": "markdown",
   "metadata": {
    "colab_type": "text",
    "id": "wE5UXQn8jTp1"
   },
   "source": [
    "...Much better ! Isn't it ?"
   ]
  },
  {
   "cell_type": "markdown",
   "metadata": {},
   "source": [
    "# TO DO : Now you can apply all of these methods to your own DataFrame\n",
    "\n",
    "\n",
    "**The purpose is to create a second column with reviews content but processed and tokenized**"
   ]
  },
  {
   "cell_type": "code",
   "execution_count": null,
   "metadata": {},
   "outputs": [],
   "source": []
  },
  {
   "cell_type": "code",
   "execution_count": null,
   "metadata": {},
   "outputs": [],
   "source": []
  },
  {
   "cell_type": "code",
   "execution_count": null,
   "metadata": {},
   "outputs": [],
   "source": []
  },
  {
   "cell_type": "code",
   "execution_count": null,
   "metadata": {},
   "outputs": [],
   "source": []
  },
  {
   "cell_type": "code",
   "execution_count": null,
   "metadata": {},
   "outputs": [],
   "source": []
  },
  {
   "cell_type": "code",
   "execution_count": null,
   "metadata": {},
   "outputs": [],
   "source": []
  },
  {
   "cell_type": "markdown",
   "metadata": {},
   "source": [
    "# BONUS : A little exercice about RegEx"
   ]
  },
  {
   "cell_type": "markdown",
   "metadata": {},
   "source": [
    "**Try some patterns on the next strings**\n",
    "\n",
    "You can use the different functions\n",
    "- re.split() : to split my_string on the pattern and print the result.\n",
    "- re.findall() : find all the occurences matching the pattern in the total string."
   ]
  },
  {
   "cell_type": "code",
   "execution_count": null,
   "metadata": {},
   "outputs": [],
   "source": [
    "import re\n",
    "my_string = \"Let's write RegEx!\"\n",
    "\n",
    "PATTERN = r\"\\s+\"\n",
    "# PATTERN = r\"[a-z]\"\n",
    "# PATTERN = r\"\\w\"\n",
    "# PATTERN = r\"\\w+\""
   ]
  },
  {
   "cell_type": "code",
   "execution_count": null,
   "metadata": {},
   "outputs": [],
   "source": [
    "re.findall(PATTERN, my_string)"
   ]
  },
  {
   "cell_type": "code",
   "execution_count": null,
   "metadata": {},
   "outputs": [],
   "source": [
    "re.split(PATTERN, my_string)"
   ]
  },
  {
   "cell_type": "markdown",
   "metadata": {},
   "source": [
    "**Given the table show in course, try to make the following match**"
   ]
  },
  {
   "cell_type": "code",
   "execution_count": null,
   "metadata": {},
   "outputs": [],
   "source": [
    "# Write a pattern to match sentence endings: sentence_endings\n",
    "sentence_endings = r\"[___]\"\n",
    "\n",
    "# Split my_string on sentence endings and print the result\n",
    "print(re.____(____, ____))"
   ]
  },
  {
   "cell_type": "code",
   "execution_count": null,
   "metadata": {},
   "outputs": [],
   "source": [
    "# Find all capitalized words in my_string and print the result\n",
    "capitalized_words = r\"[___]\\w+\"\n",
    "print(re.____(____, ____))"
   ]
  },
  {
   "cell_type": "code",
   "execution_count": null,
   "metadata": {},
   "outputs": [],
   "source": [
    "# Split my_string on spaces and print the result\n",
    "spaces = r\"___\"\n",
    "print(re.____(____, ____))"
   ]
  },
  {
   "cell_type": "code",
   "execution_count": null,
   "metadata": {},
   "outputs": [],
   "source": [
    "# Find all digits in my_string and print the result\n",
    "digits = r\"___\"\n",
    "print(re.____(____, ____))"
   ]
  },
  {
   "cell_type": "markdown",
   "metadata": {},
   "source": [
    "### writing a new file with the cleaned data"
   ]
  },
  {
   "cell_type": "code",
   "execution_count": 87,
   "metadata": {},
   "outputs": [],
   "source": [
    "df1.to_csv (r'C:\\Users\\Ellio\\Desktop\\tripadvisor_cleaned_data_bis.csv', index=False)"
   ]
  },
  {
   "cell_type": "code",
   "execution_count": 43,
   "metadata": {},
   "outputs": [],
   "source": [
    "df2 = pd.read_csv(r'C:\\Users\\Ellio\\Desktop\\tripadvisor_cleaned_data.csv')"
   ]
  },
  {
   "cell_type": "code",
   "execution_count": 85,
   "metadata": {},
   "outputs": [
    {
     "data": {
      "text/plain": [
       "\"Après une désastreuse aventure au Bois franc, quel plaisir de retourner au lac d'Ailette..en plus les cottages ont été rénovés avec goût, Partis début août sous la canicule, nous avons apprécié les plaisirs de l'aquamondo malgré l'affluence,(peut être faudrait-il que les personnes ne séjournant pas dans le parc n'aient plus accès aux installations quand celui-ci est déjà complet - 1700 personnes dans la piscine c'est vraiment beaucoup trop)Nous avons loué un cottage premium bord de lac . Nous avons aimés nos soirées tranquilles sur la terrasse; beaucoup moins la chaleur dans le cottage (ventilation à prévoir)  celui-ci était très propre à notre arrivée et les quelques soucis rencontrés (pas de pile dans la télécommande, sèche-linge cassé) ont été très vite réglés par un personnel compétant  De quoi bien commencer notre séjour. Un bel endroit où nous reviendrons certainement l'été prochain\""
      ]
     },
     "execution_count": 85,
     "metadata": {},
     "output_type": "execute_result"
    }
   ],
   "source": [
    "df1['review'][0]"
   ]
  }
 ],
 "metadata": {
  "colab": {
   "collapsed_sections": [],
   "name": "X_HEC_Session_3_Notebook_1_clean_data.ipynb",
   "provenance": [],
   "version": "0.3.2"
  },
  "kernelspec": {
   "display_name": "Python 3",
   "language": "python",
   "name": "python3"
  },
  "language_info": {
   "codemirror_mode": {
    "name": "ipython",
    "version": 3
   },
   "file_extension": ".py",
   "mimetype": "text/x-python",
   "name": "python",
   "nbconvert_exporter": "python",
   "pygments_lexer": "ipython3",
   "version": "3.7.1"
  }
 },
 "nbformat": 4,
 "nbformat_minor": 1
}
